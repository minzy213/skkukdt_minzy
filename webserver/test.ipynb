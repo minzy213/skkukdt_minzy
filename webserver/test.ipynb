{
 "cells": [
  {
   "cell_type": "markdown",
   "metadata": {},
   "source": [
    "## 피보나치 수열 만들기\n",
    "\n",
    "1 2 3 5 8 13 21\n"
   ]
  },
  {
   "cell_type": "code",
   "execution_count": 13,
   "metadata": {},
   "outputs": [
    {
     "name": "stdout",
     "output_type": "stream",
     "text": [
      "2번째 피보나치 수열 : 2\n"
     ]
    }
   ],
   "source": [
    "def fib(i):\n",
    "    if i == 1:\n",
    "        return 1\n",
    "    elif i == 2:\n",
    "        return 2\n",
    "    fir = 1\n",
    "    sec = 2\n",
    "    for k in range(i - 2):\n",
    "        fir, sec = sec, (fir + sec)\n",
    "    return sec\n",
    "\n",
    "\n",
    "n = 2\n",
    "print(f'{n}번째 피보나치 수열 : {fib(n)}')\n"
   ]
  },
  {
   "cell_type": "markdown",
   "metadata": {},
   "source": [
    "## 개미 수열 만들기\n",
    "\n",
    "- 1         \n",
    "- 11\n",
    "- 12\n",
    "- 1121\n",
    "- 122111\n",
    "- 112213\n",
    "- 12221131\n",
    "- 1123123111"
   ]
  },
  {
   "cell_type": "code",
   "execution_count": 43,
   "metadata": {},
   "outputs": [
    {
     "name": "stdout",
     "output_type": "stream",
     "text": [
      "11\n",
      "12\n",
      "1121\n",
      "122111\n",
      "112213\n",
      "12221131\n",
      "7번째 개미 수열 : 12221131\n"
     ]
    }
   ],
   "source": [
    "def ant(i):\n",
    "    target = '1'  # target string, 초기값이 '1'\n",
    "    for k in range(i - 1):\n",
    "        ret = ''\n",
    "        now = target[0]    # 현재 갯수 세고 있는 char, 초기값은 target의 첫번째\n",
    "        cnt = 0            # now의 갯수\n",
    "        for t in target + '0':      # 제일 마지막 문자 처리를 위해 마지막에 '0' 추가\n",
    "            if t == now:\n",
    "                cnt += 1\n",
    "            else:  # now와 target이 다르면\n",
    "                ret += now + str(cnt)\n",
    "                now = t\n",
    "                cnt = 1\n",
    "        target = ret\n",
    "        print(target)\n",
    "    return target\n",
    "\n",
    "\n",
    "n = 7\n",
    "print(f'{n}번째 개미 수열 : {ant(n)}')\n"
   ]
  },
  {
   "cell_type": "code",
   "execution_count": 44,
   "metadata": {},
   "outputs": [],
   "source": [
    "def ant(n):\n",
    "    st = ''\n",
    "    cnt = 0\n",
    "    n_before = ''\n",
    "    for i in n:\n",
    "        if n_before == i:\n",
    "            n_before == i\n",
    "            cnt += 1\n",
    "\n",
    "        else:\n",
    "            st += n_before + str(cnt)\n",
    "            n_before = i\n",
    "            cnt = 1\n",
    "    st += n_before + str(cnt)\n",
    "    return st[1:]\n",
    "\n",
    "\n",
    "li = ['1']\n",
    "k = 8\n",
    "for i in range(1, k):\n",
    "    li.append(ant(li[i-1]))\n"
   ]
  },
  {
   "cell_type": "code",
   "execution_count": 45,
   "metadata": {},
   "outputs": [
    {
     "data": {
      "text/plain": [
       "['1', '11', '12', '1121', '122111', '112213', '12221131', '1123123111']"
      ]
     },
     "execution_count": 45,
     "metadata": {},
     "output_type": "execute_result"
    }
   ],
   "source": [
    "li\n"
   ]
  },
  {
   "cell_type": "code",
   "execution_count": null,
   "metadata": {},
   "outputs": [],
   "source": []
  }
 ],
 "metadata": {
  "kernelspec": {
   "display_name": "selenium",
   "language": "python",
   "name": "my_python_env2"
  },
  "language_info": {
   "codemirror_mode": {
    "name": "ipython",
    "version": 3
   },
   "file_extension": ".py",
   "mimetype": "text/x-python",
   "name": "python",
   "nbconvert_exporter": "python",
   "pygments_lexer": "ipython3",
   "version": "3.10.12"
  },
  "orig_nbformat": 4
 },
 "nbformat": 4,
 "nbformat_minor": 2
}
