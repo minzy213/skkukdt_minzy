{
 "cells": [
  {
   "cell_type": "code",
   "execution_count": 1,
   "metadata": {},
   "outputs": [],
   "source": [
    "def sample_fn(a, b, *args, **kwargs):\n",
    "    print(\"a: \", a)\n",
    "    print(\"b: \", b)\n",
    "    print(\"args: \", args)\n",
    "    print(\"kwargs: \", kwargs)"
   ]
  },
  {
   "cell_type": "code",
   "execution_count": 2,
   "metadata": {},
   "outputs": [
    {
     "name": "stdout",
     "output_type": "stream",
     "text": [
      "a:  1\n",
      "b:  2\n",
      "args:  ()\n",
      "kwargs:  {}\n"
     ]
    }
   ],
   "source": [
    "sample_fn(\n",
    "    1,\n",
    "    2,\n",
    ")"
   ]
  },
  {
   "cell_type": "code",
   "execution_count": 3,
   "metadata": {},
   "outputs": [
    {
     "name": "stdout",
     "output_type": "stream",
     "text": [
      "a:  1\n",
      "b:  2\n",
      "args:  ('a', 'b', 'c', 'd')\n",
      "kwargs:  {}\n"
     ]
    }
   ],
   "source": [
    "sample_fn(1, 2, \"a\", \"b\", \"c\", \"d\")\n",
    "# args : tuple, 값 수정 불가.\n",
    "# 가변 인수. 갯수가 변할 수 있다.\n",
    "# 별표 하나 : 이름 없는 애들."
   ]
  },
  {
   "cell_type": "code",
   "execution_count": 4,
   "metadata": {},
   "outputs": [
    {
     "name": "stdout",
     "output_type": "stream",
     "text": [
      "a:  1\n",
      "b:  2\n",
      "args:  ('a', 'b', 'c', 'd')\n",
      "kwargs:  {'name': 'minzy', 'city': 'seoul'}\n"
     ]
    }
   ],
   "source": [
    "sample_fn(1, 2, \"a\", \"b\", \"c\", \"d\", name=\"minzy\", city=\"seoul\")\n",
    "# kwargs : dictionary\n",
    "# key-value로 묶어서 전달한다."
   ]
  },
  {
   "cell_type": "code",
   "execution_count": 7,
   "metadata": {},
   "outputs": [],
   "source": [
    "profile = {\"name\": \"minzy\", \"city\": \"seoul\"}\n",
    "sum_list = [1, 2, 3, 4, 5]"
   ]
  },
  {
   "cell_type": "code",
   "execution_count": 9,
   "metadata": {},
   "outputs": [
    {
     "name": "stdout",
     "output_type": "stream",
     "text": [
      "a:  [1, 2, 3, 4, 5]\n",
      "args:  ()\n",
      "kwargs:  {}\n"
     ]
    }
   ],
   "source": [
    "def sample_fn(a, *args, **kwargs):\n",
    "    print(\"a: \", a)\n",
    "    print(\"args: \", args)\n",
    "    print(\"kwargs: \", kwargs)\n",
    "\n",
    "\n",
    "sample_fn(sum_list)"
   ]
  },
  {
   "cell_type": "code",
   "execution_count": 10,
   "metadata": {},
   "outputs": [
    {
     "name": "stdout",
     "output_type": "stream",
     "text": [
      "a:  1\n",
      "args:  (2, 3, 4, 5)\n",
      "kwargs:  {}\n"
     ]
    }
   ],
   "source": [
    "sample_fn(*sum_list)\n",
    "# *은 풀어서 넣는다."
   ]
  },
  {
   "cell_type": "code",
   "execution_count": 24,
   "metadata": {},
   "outputs": [
    {
     "name": "stdout",
     "output_type": "stream",
     "text": [
      "a:  1\n",
      "args:  ()\n",
      "kwargs:  {'k': 2, 's': 3}\n"
     ]
    }
   ],
   "source": [
    "li3 = {\"k\": 2, \"s\": 3}\n",
    "sample_fn(1, **li3)"
   ]
  }
 ],
 "metadata": {
  "kernelspec": {
   "display_name": "django_39",
   "language": "python",
   "name": "django_39"
  },
  "language_info": {
   "codemirror_mode": {
    "name": "ipython",
    "version": 3
   },
   "file_extension": ".py",
   "mimetype": "text/x-python",
   "name": "python",
   "nbconvert_exporter": "python",
   "pygments_lexer": "ipython3",
   "version": "3.11.3"
  },
  "orig_nbformat": 4
 },
 "nbformat": 4,
 "nbformat_minor": 2
}
