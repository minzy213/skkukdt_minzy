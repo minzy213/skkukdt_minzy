{
  "cells": [
    {
      "cell_type": "markdown",
      "metadata": {
        "id": "JvETsNnYrgOs"
      },
      "source": [
        "# Text Augmentation\n"
      ]
    },
    {
      "cell_type": "markdown",
      "metadata": {
        "id": "mWzT9W2-sE8-"
      },
      "source": [
        "1. Easy Data Augmentation\n",
        "    - Random Deletion (직접 구현해보기)\n",
        "    - Random Insertion\n",
        "    - Random Swap (직접 구현해보기)\n",
        "    - Synonym Replacement (동의어 replace)\n",
        "2. Back Translation (직접 구현해보기)"
      ]
    },
    {
      "cell_type": "code",
      "execution_count": 1,
      "metadata": {
        "id": "ghK5YlKdwSNQ"
      },
      "outputs": [],
      "source": [
        "import pandas as pd\n",
        "import random\n",
        "import pickle\n",
        "import re"
      ]
    },
    {
      "cell_type": "code",
      "execution_count": 10,
      "metadata": {},
      "outputs": [
        {
          "name": "stderr",
          "output_type": "stream",
          "text": [
            "Downloading...\n",
            "From (uriginal): https://drive.google.com/uc?id=1KuBG40WNpVPV1ilfGaiCI2D3l8JVSfbS\n",
            "From (redirected): https://drive.google.com/uc?id=1KuBG40WNpVPV1ilfGaiCI2D3l8JVSfbS&confirm=t&uuid=bc267b68-f618-4555-bcdb-9a0005a936d5\n",
            "To: c:\\code\\skkukdt_minzy\\DeepLearning\\spam.txt\n",
            "100%|██████████| 800M/800M [00:25<00:00, 31.4MB/s]\n"
          ]
        },
        {
          "data": {
            "text/plain": [
              "'spam.txt'"
            ]
          },
          "execution_count": 10,
          "metadata": {},
          "output_type": "execute_result"
        }
      ],
      "source": [
        "import gdown\n",
        " \n",
        "url = 'https://drive.google.com/uc?id=1KuBG40WNpVPV1ilfGaiCI2D3l8JVSfbS'\n",
        "output = 'spam.txt'\n",
        "gdown.download(url, output, quiet=False)"
      ]
    },
    {
      "cell_type": "code",
      "execution_count": 2,
      "metadata": {
        "colab": {
          "base_uri": "https://localhost:8080/"
        },
        "id": "PVcOtqTTwNvU",
        "outputId": "c6d77c70-859a-49e2-b0fe-a7d82f36e577"
      },
      "outputs": [
        {
          "name": "stderr",
          "output_type": "stream",
          "text": [
            "'gdown'��(��) ���� �Ǵ� �ܺ� ����, ������ �� �ִ� ���α׷�, �Ǵ�\n",
            "��ġ ������ �ƴմϴ�.\n"
          ]
        }
      ],
      "source": [
        "!gdown https://drive.google.com/uc?id=1KuBG40WNpVPV1ilfGaiCI2D3l8JVSfbS"
      ]
    },
    {
      "cell_type": "code",
      "execution_count": 11,
      "metadata": {
        "colab": {
          "base_uri": "https://localhost:8080/",
          "height": 597
        },
        "id": "UhmYVQktwPFG",
        "outputId": "879d2fa3-26b8-4a1e-c68c-551948a8aa89"
      },
      "outputs": [
        {
          "name": "stderr",
          "output_type": "stream",
          "text": [
            " 18%|█▊        | 144M/800M [10:42<48:56, 224kB/s] \n"
          ]
        },
        {
          "data": {
            "text/html": [
              "<div>\n",
              "<style scoped>\n",
              "    .dataframe tbody tr th:only-of-type {\n",
              "        vertical-align: middle;\n",
              "    }\n",
              "\n",
              "    .dataframe tbody tr th {\n",
              "        vertical-align: top;\n",
              "    }\n",
              "\n",
              "    .dataframe thead th {\n",
              "        text-align: right;\n",
              "    }\n",
              "</style>\n",
              "<table border=\"1\" class=\"dataframe\">\n",
              "  <thead>\n",
              "    <tr style=\"text-align: right;\">\n",
              "      <th></th>\n",
              "      <th>media</th>\n",
              "      <th>id</th>\n",
              "      <th>article_original</th>\n",
              "      <th>abstractive</th>\n",
              "      <th>extractive</th>\n",
              "    </tr>\n",
              "  </thead>\n",
              "  <tbody>\n",
              "    <tr>\n",
              "      <th>0</th>\n",
              "      <td>부산일보</td>\n",
              "      <td>360972161</td>\n",
              "      <td>[지난해 고령화와 유례가 드문 겨울 한파 등 영향으로 우리나라 사망자 수가 통계 작...</td>\n",
              "      <td>통계청이 발표한 '2018년 사망원인통계'를 보면 지난해 총 사망자 수는 관련 통계...</td>\n",
              "      <td>[4, 11, 18]</td>\n",
              "    </tr>\n",
              "    <tr>\n",
              "      <th>1</th>\n",
              "      <td>중도일보</td>\n",
              "      <td>356659913</td>\n",
              "      <td>[서산시의회(의장 임재관) 가충순·이수의 의원이 (사)한국지역신문협회에서 수여하는 ...</td>\n",
              "      <td>서산시 가충순 의원과 이수의 의원이 활발한 의정활동을 펼친 감사의 표시로 한국지역신...</td>\n",
              "      <td>[1, 3, 4]</td>\n",
              "    </tr>\n",
              "    <tr>\n",
              "      <th>2</th>\n",
              "      <td>무등일보</td>\n",
              "      <td>351718460</td>\n",
              "      <td>[지난 2004년 시작해 조선대 학생들의 대표적인 행사로 자리매김한 ‘조선대 국토대...</td>\n",
              "      <td>‘조선대의 새로운 비상을 꿈꾸다’를 슬로건으로 진행되어 단체생활을 통해 협동심과 ...</td>\n",
              "      <td>[0, 2, 4]</td>\n",
              "    </tr>\n",
              "    <tr>\n",
              "      <th>3</th>\n",
              "      <td>이데일리</td>\n",
              "      <td>335868123</td>\n",
              "      <td>[서울시는 신학기가 시작되는 다음달 4일부터 고등학교 3학년 무상급식을 실시한다고 ...</td>\n",
              "      <td>서울시가 다음달 4일부터 서울 시내 319개 고등학교 3학년 8만4700명을 대상으...</td>\n",
              "      <td>[0, 1, 2]</td>\n",
              "    </tr>\n",
              "    <tr>\n",
              "      <th>4</th>\n",
              "      <td>서울신문</td>\n",
              "      <td>351443347</td>\n",
              "      <td>[미국인 선교사가 우간다에서 의사 행세를 하며 의료 시설을 운영한 혐의로 지역 시민...</td>\n",
              "      <td>미국인 선교사가 우간다에서 의사 행세를 하며 두 아이의 죽음과 관련돼 있다며 지역 ...</td>\n",
              "      <td>[0, 1, 2]</td>\n",
              "    </tr>\n",
              "    <tr>\n",
              "      <th>...</th>\n",
              "      <td>...</td>\n",
              "      <td>...</td>\n",
              "      <td>...</td>\n",
              "      <td>...</td>\n",
              "      <td>...</td>\n",
              "    </tr>\n",
              "    <tr>\n",
              "      <th>260692</th>\n",
              "      <td>매일경제</td>\n",
              "      <td>353316985</td>\n",
              "      <td>[두통과 어지럼증은 우리에게 매우 익숙하다., 하루 이틀 정도만 참으면 자연스럽게 ...</td>\n",
              "      <td>두통과 어지럼증은 우리에게 매우 익숙한 증상이며, 이 두통은 크게 긴장성 두통, 혈...</td>\n",
              "      <td>[3, 12, 16]</td>\n",
              "    </tr>\n",
              "    <tr>\n",
              "      <th>260693</th>\n",
              "      <td>부산일보</td>\n",
              "      <td>360784906</td>\n",
              "      <td>[파주 최대 테마파크 퍼스트가든이 ㈜투바앤의 캐릭터 '라바'와 할로윈 페스티벌(사진...</td>\n",
              "      <td>파주 최대 테마파크 퍼스트가든이 오는 10월 12일부터 31일까지 가족들이 함께 즐...</td>\n",
              "      <td>[0, 4, 1]</td>\n",
              "    </tr>\n",
              "    <tr>\n",
              "      <th>260694</th>\n",
              "      <td>부산일보</td>\n",
              "      <td>357253753</td>\n",
              "      <td>[민원과 난공사로 완공이 늦어지고 있는 양산시 한일아파트 인근 옹벽 보수·보강공사 ...</td>\n",
              "      <td>양산시는 지난해 10월부터 43억 원을 들여 진행 중인 한일아파트 뒤편 옹벽 보수·...</td>\n",
              "      <td>[4, 6, 7]</td>\n",
              "    </tr>\n",
              "    <tr>\n",
              "      <th>260695</th>\n",
              "      <td>매일신문</td>\n",
              "      <td>347655953</td>\n",
              "      <td>[사단법인 전국자원봉사연맹이 호국보훈의 달을 맞이하여, 오는 2019년 6월 23일...</td>\n",
              "      <td>국가를 위해 헌신한 분들의 숭고한 희생을 기리고, 유가족 들을 위로하기 위해 열리는...</td>\n",
              "      <td>[0, 1, 2]</td>\n",
              "    </tr>\n",
              "    <tr>\n",
              "      <th>260696</th>\n",
              "      <td>아시아경제</td>\n",
              "      <td>369524558</td>\n",
              "      <td>[라이프스타일 투자플랫폼 와디즈는 서강대학교 경영전문대학원, 한국전문경영컨설팅과 함...</td>\n",
              "      <td>지난 4일 라이프스타일 투자플랫롬 와디즈는 스타트업 투자 시장에서의 자금 조달 수요...</td>\n",
              "      <td>[0, 1, 2]</td>\n",
              "    </tr>\n",
              "  </tbody>\n",
              "</table>\n",
              "<p>260697 rows × 5 columns</p>\n",
              "</div>"
            ],
            "text/plain": [
              "        media         id                                   article_original  \\\n",
              "0        부산일보  360972161  [지난해 고령화와 유례가 드문 겨울 한파 등 영향으로 우리나라 사망자 수가 통계 작...   \n",
              "1        중도일보  356659913  [서산시의회(의장 임재관) 가충순·이수의 의원이 (사)한국지역신문협회에서 수여하는 ...   \n",
              "2        무등일보  351718460  [지난 2004년 시작해 조선대 학생들의 대표적인 행사로 자리매김한 ‘조선대 국토대...   \n",
              "3        이데일리  335868123  [서울시는 신학기가 시작되는 다음달 4일부터 고등학교 3학년 무상급식을 실시한다고 ...   \n",
              "4        서울신문  351443347  [미국인 선교사가 우간다에서 의사 행세를 하며 의료 시설을 운영한 혐의로 지역 시민...   \n",
              "...       ...        ...                                                ...   \n",
              "260692   매일경제  353316985  [두통과 어지럼증은 우리에게 매우 익숙하다., 하루 이틀 정도만 참으면 자연스럽게 ...   \n",
              "260693   부산일보  360784906  [파주 최대 테마파크 퍼스트가든이 ㈜투바앤의 캐릭터 '라바'와 할로윈 페스티벌(사진...   \n",
              "260694   부산일보  357253753  [민원과 난공사로 완공이 늦어지고 있는 양산시 한일아파트 인근 옹벽 보수·보강공사 ...   \n",
              "260695   매일신문  347655953  [사단법인 전국자원봉사연맹이 호국보훈의 달을 맞이하여, 오는 2019년 6월 23일...   \n",
              "260696  아시아경제  369524558  [라이프스타일 투자플랫폼 와디즈는 서강대학교 경영전문대학원, 한국전문경영컨설팅과 함...   \n",
              "\n",
              "                                              abstractive   extractive  \n",
              "0       통계청이 발표한 '2018년 사망원인통계'를 보면 지난해 총 사망자 수는 관련 통계...  [4, 11, 18]  \n",
              "1       서산시 가충순 의원과 이수의 의원이 활발한 의정활동을 펼친 감사의 표시로 한국지역신...    [1, 3, 4]  \n",
              "2        ‘조선대의 새로운 비상을 꿈꾸다’를 슬로건으로 진행되어 단체생활을 통해 협동심과 ...    [0, 2, 4]  \n",
              "3       서울시가 다음달 4일부터 서울 시내 319개 고등학교 3학년 8만4700명을 대상으...    [0, 1, 2]  \n",
              "4       미국인 선교사가 우간다에서 의사 행세를 하며 두 아이의 죽음과 관련돼 있다며 지역 ...    [0, 1, 2]  \n",
              "...                                                   ...          ...  \n",
              "260692  두통과 어지럼증은 우리에게 매우 익숙한 증상이며, 이 두통은 크게 긴장성 두통, 혈...  [3, 12, 16]  \n",
              "260693  파주 최대 테마파크 퍼스트가든이 오는 10월 12일부터 31일까지 가족들이 함께 즐...    [0, 4, 1]  \n",
              "260694  양산시는 지난해 10월부터 43억 원을 들여 진행 중인 한일아파트 뒤편 옹벽 보수·...    [4, 6, 7]  \n",
              "260695  국가를 위해 헌신한 분들의 숭고한 희생을 기리고, 유가족 들을 위로하기 위해 열리는...    [0, 1, 2]  \n",
              "260696  지난 4일 라이프스타일 투자플랫롬 와디즈는 스타트업 투자 시장에서의 자금 조달 수요...    [0, 1, 2]  \n",
              "\n",
              "[260697 rows x 5 columns]"
            ]
          },
          "execution_count": 11,
          "metadata": {},
          "output_type": "execute_result"
        }
      ],
      "source": [
        "df_news = pd.read_json(\"./train_original.json\")\n",
        "df_news"
      ]
    },
    {
      "cell_type": "code",
      "execution_count": 12,
      "metadata": {
        "colab": {
          "base_uri": "https://localhost:8080/",
          "height": 206
        },
        "id": "KHY5oPDDUyeX",
        "outputId": "2310ba06-ded1-48cc-d60e-25d0211b054f"
      },
      "outputs": [
        {
          "data": {
            "text/html": [
              "<div>\n",
              "<style scoped>\n",
              "    .dataframe tbody tr th:only-of-type {\n",
              "        vertical-align: middle;\n",
              "    }\n",
              "\n",
              "    .dataframe tbody tr th {\n",
              "        vertical-align: top;\n",
              "    }\n",
              "\n",
              "    .dataframe thead th {\n",
              "        text-align: right;\n",
              "    }\n",
              "</style>\n",
              "<table border=\"1\" class=\"dataframe\">\n",
              "  <thead>\n",
              "    <tr style=\"text-align: right;\">\n",
              "      <th></th>\n",
              "      <th>abstractive</th>\n",
              "    </tr>\n",
              "  </thead>\n",
              "  <tbody>\n",
              "    <tr>\n",
              "      <th>0</th>\n",
              "      <td>통계청이 발표한 '2018년 사망원인통계'를 보면 지난해 총 사망자 수는 관련 통계...</td>\n",
              "    </tr>\n",
              "    <tr>\n",
              "      <th>1</th>\n",
              "      <td>서산시 가충순 의원과 이수의 의원이 활발한 의정활동을 펼친 감사의 표시로 한국지역신...</td>\n",
              "    </tr>\n",
              "    <tr>\n",
              "      <th>2</th>\n",
              "      <td>‘조선대의 새로운 비상을 꿈꾸다’를 슬로건으로 진행되어 단체생활을 통해 협동심과 ...</td>\n",
              "    </tr>\n",
              "    <tr>\n",
              "      <th>3</th>\n",
              "      <td>서울시가 다음달 4일부터 서울 시내 319개 고등학교 3학년 8만4700명을 대상으...</td>\n",
              "    </tr>\n",
              "    <tr>\n",
              "      <th>4</th>\n",
              "      <td>미국인 선교사가 우간다에서 의사 행세를 하며 두 아이의 죽음과 관련돼 있다며 지역 ...</td>\n",
              "    </tr>\n",
              "  </tbody>\n",
              "</table>\n",
              "</div>"
            ],
            "text/plain": [
              "                                         abstractive\n",
              "0  통계청이 발표한 '2018년 사망원인통계'를 보면 지난해 총 사망자 수는 관련 통계...\n",
              "1  서산시 가충순 의원과 이수의 의원이 활발한 의정활동을 펼친 감사의 표시로 한국지역신...\n",
              "2   ‘조선대의 새로운 비상을 꿈꾸다’를 슬로건으로 진행되어 단체생활을 통해 협동심과 ...\n",
              "3  서울시가 다음달 4일부터 서울 시내 319개 고등학교 3학년 8만4700명을 대상으...\n",
              "4  미국인 선교사가 우간다에서 의사 행세를 하며 두 아이의 죽음과 관련돼 있다며 지역 ..."
            ]
          },
          "execution_count": 12,
          "metadata": {},
          "output_type": "execute_result"
        }
      ],
      "source": [
        "train = df_news[['abstractive']].loc[:100]\n",
        "train.head()"
      ]
    },
    {
      "cell_type": "code",
      "execution_count": 13,
      "metadata": {
        "colab": {
          "base_uri": "https://localhost:8080/",
          "height": 53
        },
        "id": "khrY6dJTxIBx",
        "outputId": "21767add-2746-4bd6-ce03-85ec40efd41e"
      },
      "outputs": [
        {
          "data": {
            "text/plain": [
              "\"통계청이 발표한 '2018년 사망원인통계'를 보면 지난해 총 사망자 수는 관련 통계를 작성한 이래 가장 많았으며 사망 원인 중 폐렴과 알츠하이머 병의 순위 상승이 두드러졌고 자살에 의한 사망자도 증가했다. \""
            ]
          },
          "execution_count": 13,
          "metadata": {},
          "output_type": "execute_result"
        }
      ],
      "source": [
        "sample = train.values[0, 0]\n",
        "sample"
      ]
    },
    {
      "cell_type": "markdown",
      "metadata": {
        "id": "vWIfL2XquqeZ"
      },
      "source": [
        "### Random Deletion"
      ]
    },
    {
      "cell_type": "markdown",
      "metadata": {
        "id": "jvCfWpW5ysju"
      },
      "source": [
        "< 사용할 함수 >   \n",
        "- random.uniform(0, 1)\n",
        "- random.randint(0, n)"
      ]
    },
    {
      "cell_type": "code",
      "execution_count": null,
      "metadata": {
        "id": "IkNfVE8EvIw_"
      },
      "outputs": [],
      "source": [
        "# 정한 확률만큼 deletion\n",
        "def random_deletion(sent, p):\n",
        "    # 길이가 1이면 안지운다.\n",
        "\tpass"
      ]
    },
    {
      "cell_type": "markdown",
      "metadata": {
        "id": "4g_crkZwvIoM"
      },
      "source": [
        "### Random Swap"
      ]
    },
    {
      "cell_type": "code",
      "execution_count": 4,
      "metadata": {
        "id": "Fl5L5J4_vIhF"
      },
      "outputs": [],
      "source": [
        "# 정한 갯수만큼 swap\n",
        "def random_swap(sent, n):\n",
        "    pass"
      ]
    },
    {
      "cell_type": "markdown",
      "metadata": {
        "id": "2umG7Rsl0i3Z"
      },
      "source": [
        "## Back Translation"
      ]
    },
    {
      "cell_type": "code",
      "execution_count": 6,
      "metadata": {
        "colab": {
          "base_uri": "https://localhost:8080/"
        },
        "id": "GvVUDr9CUwsO",
        "outputId": "9d81c123-eea2-4492-dc3b-8c8aedcdf78f"
      },
      "outputs": [
        {
          "name": "stdout",
          "output_type": "stream",
          "text": [
            "Collecting translators\n",
            "  Obtaining dependency information for translators from https://files.pythonhosted.org/packages/3c/62/e95f09c6cc425f002827acd10fbeb06c67d237142831cf3488cf1e2ea2cf/translators-5.8.3-py3-none-any.whl.metadata\n",
            "  Downloading translators-5.8.3-py3-none-any.whl.metadata (68 kB)\n",
            "     ---------------------------------------- 0.0/68.5 kB ? eta -:--:--\n",
            "     ---------------------------------------- 68.5/68.5 kB 3.6 MB/s eta 0:00:00\n",
            "Requirement already satisfied: requests>=2.29.0 in c:\\users\\user\\anaconda3\\envs\\mzp\\lib\\site-packages (from translators) (2.31.0)\n",
            "Collecting PyExecJS>=1.5.1 (from translators)\n",
            "  Downloading PyExecJS-1.5.1.tar.gz (13 kB)\n",
            "  Preparing metadata (setup.py): started\n",
            "  Preparing metadata (setup.py): finished with status 'done'\n",
            "Requirement already satisfied: lxml>=4.9.1 in c:\\users\\user\\anaconda3\\envs\\mzp\\lib\\site-packages (from translators) (4.9.3)\n",
            "Requirement already satisfied: tqdm>=4.65.0 in c:\\users\\user\\anaconda3\\envs\\mzp\\lib\\site-packages (from translators) (4.66.1)\n",
            "Collecting pathos>=0.2.9 (from translators)\n",
            "  Obtaining dependency information for pathos>=0.2.9 from https://files.pythonhosted.org/packages/d8/08/ac94fa6f9eefe32963b8a54e573dab0dbc0d3df24fd34924bd9ce7eab7c4/pathos-0.3.1-py3-none-any.whl.metadata\n",
            "  Downloading pathos-0.3.1-py3-none-any.whl.metadata (11 kB)\n",
            "Requirement already satisfied: cryptography>=38.0.1 in c:\\users\\user\\anaconda3\\envs\\mzp\\lib\\site-packages (from translators) (41.0.2)\n",
            "Requirement already satisfied: cffi>=1.12 in c:\\users\\user\\anaconda3\\envs\\mzp\\lib\\site-packages (from cryptography>=38.0.1->translators) (1.15.1)\n",
            "Collecting ppft>=1.7.6.7 (from pathos>=0.2.9->translators)\n",
            "  Obtaining dependency information for ppft>=1.7.6.7 from https://files.pythonhosted.org/packages/f0/f8/0a493dfdf73edbfe58cae1323aec72d0152f463c7a351bd285e9d500985c/ppft-1.7.6.7-py3-none-any.whl.metadata\n",
            "  Downloading ppft-1.7.6.7-py3-none-any.whl.metadata (12 kB)\n",
            "Requirement already satisfied: dill>=0.3.7 in c:\\users\\user\\anaconda3\\envs\\mzp\\lib\\site-packages (from pathos>=0.2.9->translators) (0.3.7)\n",
            "Collecting pox>=0.3.3 (from pathos>=0.2.9->translators)\n",
            "  Obtaining dependency information for pox>=0.3.3 from https://files.pythonhosted.org/packages/17/c7/ef7e37e5a895f5de068b408a52bee0710b1092574b6b4ab247a767e9fbd5/pox-0.3.3-py3-none-any.whl.metadata\n",
            "  Downloading pox-0.3.3-py3-none-any.whl.metadata (8.0 kB)\n",
            "Requirement already satisfied: multiprocess>=0.70.15 in c:\\users\\user\\anaconda3\\envs\\mzp\\lib\\site-packages (from pathos>=0.2.9->translators) (0.70.15)\n",
            "Requirement already satisfied: six>=1.10.0 in c:\\users\\user\\anaconda3\\envs\\mzp\\lib\\site-packages (from PyExecJS>=1.5.1->translators) (1.16.0)\n",
            "Requirement already satisfied: charset-normalizer<4,>=2 in c:\\users\\user\\anaconda3\\envs\\mzp\\lib\\site-packages (from requests>=2.29.0->translators) (2.0.4)\n",
            "Requirement already satisfied: idna<4,>=2.5 in c:\\users\\user\\anaconda3\\envs\\mzp\\lib\\site-packages (from requests>=2.29.0->translators) (3.4)\n",
            "Requirement already satisfied: urllib3<3,>=1.21.1 in c:\\users\\user\\anaconda3\\envs\\mzp\\lib\\site-packages (from requests>=2.29.0->translators) (1.26.16)\n",
            "Requirement already satisfied: certifi>=2017.4.17 in c:\\users\\user\\anaconda3\\envs\\mzp\\lib\\site-packages (from requests>=2.29.0->translators) (2023.7.22)\n",
            "Requirement already satisfied: colorama in c:\\users\\user\\anaconda3\\envs\\mzp\\lib\\site-packages (from tqdm>=4.65.0->translators) (0.4.6)\n",
            "Requirement already satisfied: pycparser in c:\\users\\user\\anaconda3\\envs\\mzp\\lib\\site-packages (from cffi>=1.12->cryptography>=38.0.1->translators) (2.21)\n",
            "Downloading translators-5.8.3-py3-none-any.whl (54 kB)\n",
            "   ---------------------------------------- 0.0/54.5 kB ? eta -:--:--\n",
            "   ------------------------------ --------- 41.0/54.5 kB 991.0 kB/s eta 0:00:01\n",
            "   ---------------------------------------- 54.5/54.5 kB 567.6 kB/s eta 0:00:00\n",
            "Downloading pathos-0.3.1-py3-none-any.whl (82 kB)\n",
            "   ---------------------------------------- 0.0/82.1 kB ? eta -:--:--\n",
            "   ---- ----------------------------------- 10.2/82.1 kB ? eta -:--:--\n",
            "   ----------------------------- ---------- 61.4/82.1 kB 1.1 MB/s eta 0:00:01\n",
            "   ---------------------------------------- 82.1/82.1 kB 764.5 kB/s eta 0:00:00\n",
            "Downloading pox-0.3.3-py3-none-any.whl (29 kB)\n",
            "Downloading ppft-1.7.6.7-py3-none-any.whl (56 kB)\n",
            "   ---------------------------------------- 0.0/56.8 kB ? eta -:--:--\n",
            "   --------------------- ------------------ 30.7/56.8 kB 1.4 MB/s eta 0:00:01\n",
            "   ---------------------------------------- 56.8/56.8 kB 1.5 MB/s eta 0:00:00\n",
            "Building wheels for collected packages: PyExecJS\n",
            "  Building wheel for PyExecJS (setup.py): started\n",
            "  Building wheel for PyExecJS (setup.py): finished with status 'done'\n",
            "  Created wheel for PyExecJS: filename=PyExecJS-1.5.1-py3-none-any.whl size=14608 sha256=cf191039c875bfb3df9bb5c56b182ef76c97453967480b4b373cb4b540fcf85e\n",
            "  Stored in directory: c:\\users\\user\\appdata\\local\\pip\\cache\\wheels\\9d\\91\\30\\28e6da53d4f44dc445349b2ffad581968447e4cbc9dd7991b8\n",
            "Successfully built PyExecJS\n",
            "Installing collected packages: PyExecJS, ppft, pox, pathos, translators\n",
            "Successfully installed PyExecJS-1.5.1 pathos-0.3.1 pox-0.3.3 ppft-1.7.6.7 translators-5.8.3\n"
          ]
        },
        {
          "name": "stderr",
          "output_type": "stream",
          "text": [
            "WARNING: Ignoring invalid distribution -orch (c:\\users\\user\\anaconda3\\envs\\mzp\\lib\\site-packages)\n",
            "WARNING: Ignoring invalid distribution -orch (c:\\users\\user\\anaconda3\\envs\\mzp\\lib\\site-packages)\n"
          ]
        },
        {
          "name": "stderr",
          "output_type": "stream",
          "text": [
            " 18%|█▊        | 144M/800M [02:40<01:32, 7.13MB/s]"
          ]
        }
      ],
      "source": [
        "!pip install --upgrade translators"
      ]
    },
    {
      "cell_type": "code",
      "execution_count": 7,
      "metadata": {
        "id": "BoHCzCUB_8CL"
      },
      "outputs": [
        {
          "name": "stderr",
          "output_type": "stream",
          "text": [
            "Using region Gyeonggi-do server backend.\n",
            "\n"
          ]
        }
      ],
      "source": [
        "import translators as ts"
      ]
    },
    {
      "cell_type": "code",
      "execution_count": 8,
      "metadata": {
        "colab": {
          "base_uri": "https://localhost:8080/"
        },
        "id": "roDSP8KZAEO_",
        "outputId": "81872d9f-1088-4213-afde-a650d513f2ae"
      },
      "outputs": [
        {
          "name": "stdout",
          "output_type": "stream",
          "text": [
            "['alibaba', 'apertium', 'argos', 'baidu', 'bing', 'caiyun', 'cloudTranslation', 'deepl', 'elia', 'google', 'iciba', 'iflytek', 'iflyrec', 'itranslate', 'judic', 'languageWire', 'lingvanex', 'niutrans', 'mglip', 'mirai', 'modernMt', 'myMemory', 'papago', 'qqFanyi', 'qqTranSmart', 'reverso', 'sogou', 'sysTran', 'tilde', 'translateCom', 'translateMe', 'utibet', 'volcEngine', 'yandex', 'yeekit', 'youdao']\n"
          ]
        }
      ],
      "source": [
        "print(ts.translators_pool)"
      ]
    },
    {
      "cell_type": "code",
      "execution_count": 14,
      "metadata": {
        "colab": {
          "base_uri": "https://localhost:8080/",
          "height": 53
        },
        "id": "PHzgdVLqAJAU",
        "outputId": "215fd3ea-76e1-45d4-8c1e-3775ffaf8793"
      },
      "outputs": [
        {
          "data": {
            "text/plain": [
              "\"통계청이 발표한 '2018년 사망원인통계'를 보면 지난해 총 사망자 수는 관련 통계를 작성한 이래 가장 많았으며 사망 원인 중 폐렴과 알츠하이머 병의 순위 상승이 두드러졌고 자살에 의한 사망자도 증가했다. \""
            ]
          },
          "execution_count": 14,
          "metadata": {},
          "output_type": "execute_result"
        }
      ],
      "source": [
        "sample"
      ]
    },
    {
      "cell_type": "code",
      "execution_count": 16,
      "metadata": {
        "colab": {
          "base_uri": "https://localhost:8080/",
          "height": 53
        },
        "id": "xvZj7mbXUhi-",
        "outputId": "1c422dff-a2d9-4187-a134-c4931b80eb70"
      },
      "outputs": [
        {
          "data": {
            "text/plain": [
              "'According to the \"2018 Cause of Death Statistics\" released by the Department of Statistics, the total number of deaths last year was the highest since the establishment of relevant statistics. Among the causes of death, the ranking of pneumonia and Alzheimer\\'s disease has increased significantly, and the number of suicide deaths has also increased.'"
            ]
          },
          "execution_count": 16,
          "metadata": {},
          "output_type": "execute_result"
        }
      ],
      "source": [
        "sample_eng = ts.translate_text(sample, translator='baidu')\n",
        "sample_eng"
      ]
    },
    {
      "cell_type": "code",
      "execution_count": 29,
      "metadata": {
        "colab": {
          "base_uri": "https://localhost:8080/",
          "height": 53
        },
        "id": "lfkV6bY5WEzV",
        "outputId": "2d60bf35-c94d-4edd-f8fe-15cf31592835"
      },
      "outputs": [
        {
          "data": {
            "application/vnd.google.colaboratory.intrinsic+json": {
              "type": "string"
            },
            "text/plain": [
              "\"통계청이 발표한 '2018년 사망원인 통계'에 따르면 지난해 총 사망자 수는 관련 통계 집계 이후 가장 많았고, 사망 원인 중 폐렴과 알츠하이머병이 순위에 올랐고 자살로 인한 사망자도 증가했다.\""
            ]
          },
          "execution_count": 29,
          "metadata": {},
          "output_type": "execute_result"
        }
      ],
      "source": [
        "sample_aug = ts.translate_text(sample_eng, to_language='ko')\n",
        "sample_aug"
      ]
    },
    {
      "cell_type": "markdown",
      "metadata": {},
      "source": [
        "### Implementation\n",
        "\n",
        "1. translator 간의 성능 비교\n",
        "2. 활용 언어 간의 성능 비교\n",
        "3. 위 샘플 텍스트 뭉치를 5배로 증강해보기"
      ]
    },
    {
      "cell_type": "code",
      "execution_count": 29,
      "metadata": {},
      "outputs": [
        {
          "name": "stdout",
          "output_type": "stream",
          "text": [
            "According to the 2018 cause of death statistics released by the National Statistics Office, the total number of deaths last year was the highest since the relevant statistics were prepared, followed by pneumonia and Alzheimer&#39;s disease among the causes of death. The rise in stomach was prominent, and the number of deaths by suicide also increased.\n",
            "According to the 2018 Causes of Death, the total number of deaths was the largest since last year's statistics.\n",
            "According to the \"2018 Statistics on the Cause of Death\" released by the National Statistical Office, the total number of deaths last year was the highest since related statistics were compiled, with the rise in the ranking of pneumonia and Alzheimer's disease among the causes of death and suicide.\n",
            "According to the \"2018 Cause of Death Statistics\" released by the National Statistics Office, the total number of deaths last year was the highest since the relevant statistics were compiled, and among the causes of death, pneumonia and Alzheimer's disease rose in the rankings, and the number of deaths by suicide also increased.\n"
          ]
        }
      ],
      "source": [
        "# 파파고가 나은거같다...\n",
        "print(ts.translate_text(sample, translator='alibaba', to_language='en', from_language='ko'))\n",
        "print(ts.translate_text(sample, translator='google', to_language='en', from_language='ko'))\n",
        "print(ts.translate_text(sample, translator='papago', to_language='en', from_language='ko'))\n",
        "print(ts.translate_text(sample, translator='bing', to_language='en', from_language='ko'))\n"
      ]
    },
    {
      "cell_type": "code",
      "execution_count": 32,
      "metadata": {},
      "outputs": [
        {
          "name": "stdout",
          "output_type": "stream",
          "text": [
            "['de', 'en', 'es', 'fr', 'hi', 'id', 'it', 'ja', 'ko', 'pt', 'ru', 'th', 'vi', 'zh-CN', 'zh-TW']\n"
          ]
        }
      ],
      "source": [
        "print(ts.get_languages('papago')['ko'])"
      ]
    },
    {
      "cell_type": "code",
      "execution_count": 36,
      "metadata": {},
      "outputs": [
        {
          "name": "stdout",
          "output_type": "stream",
          "text": [
            "de : 2018년 사망원인에 대한 통계는 지난해 전체 사망자 수가 통계 작성 이후 가장 많았음을 보여준다.\n",
            "en : 통계청이 발표한 '2018년 사망원인 통계'에 따르면 지난해 전체 사망자 수는 사망·자살 원인 중 폐렴·알츠하이머병의 순위가 상승하는 등 관련 통계 작성 이래 가장 많았다.\n",
            "es : 국립통계연구소가 발표한 2018년 사망 원인 통계는 지난해 관련 통계가 집계된 이후 가장 많은 사망자가 발생했으며 자살로 인한 사망 원인 중 폐렴과 알츠하이머 발병률이 증가했다.\n",
            "fr : 통계청이 발표한 2018년 통계에 따르면 전체 사망자는 지난해 통계 작성 이후 가장 많았으며 사망 원인 중 폐렴과 알츠하이머병이 증가했다.\n",
            "hi : 통계청이 발표한 '2018년 사망자 통계'에 따르면 관련 자료 수집 \n",
            "id : 통계청이 발표한 '2018년 사망원인통계'에 따르면 지난해 전체 사망자는 관련 통계가 작성된 이후 가장 많았고, 사망 원인 중 폐렴과 알츠하이머병 순위는 증가했다.\n",
            "it : 국립통계청이 발표한 2018년 사망원인에 대한 통계에 따르면, 작년에 폐렴과 알츠하이머의 수가 증가하면서 총 사망자가 가장 많았고 자살로 인한 사망자 수가 가장 많았다.\n",
            "ja : 통계청이 발표한 '2018년 사망원인 통계'에 따르면 지난해 총 사망자 수는 관련 통계 작성 이래 가장 많았고 사망원인 중 폐렴과 알츠하이머병 순위 상승이 두드러졌으며 자살로 인한 사망자도 증가했다.\n",
            "pt : 통계청이 발간한 '사망통계 사례'에 따르면 지난해 전체 사망자 수는 여성의 폐렴과 알츠하이머병 분류가 증가하는 등 관련 통계 작성 이래 가장 많았다. \n",
            "ru : 통계청이 발표한 2018년 통계에 따르면 지난해 전체 사망자는 관련 통계를 작성한 이후 가장 많았다. 사망 원인 중에는 폐렴과 알츠하이머 병의 순위가 눈에 띄게 상승했고 자살로 인한 사망자가 증가했다.\n",
            "th : 통계청이 발표한 '2018년 사망원인 통계'에 따르면 지난해 전체 사망자는 관련 통계가 작성된 이후 가장 많았고 사망원인 폐렴과 알츠하이머병의 순위 상승이 두드러졌고 자살로 인한 사망자수도 증가했다.\n",
            "vi : 통계청이 발표한 '2018년 사망원인통계'에 따르면 지난해 전체 사망자는 관련 통계 작성 이후 가장 많았고 폐렴과 알츠하이머병 등 순위가 상승했고 자살자도 늘었다.\n",
            "zh-CN : 통계청이 발표한 '2018년 사망원인통계'에 따르면 지난해 총 사망자 수는 관련 통계 작성 이후 최대치로, 사망 원인 중 폐렴과 알츠하이머병의 순위 상승이 두드러졌고 자살로 인한 사망자 수도 증가했다.\n",
            "zh-TW : 통계청이 발표한 '2018년 사망원인통계'에 따르면 지난해 총 사망자 수는 관련 통계 작성 이후 최대치로, 사망 원인 중 폐렴과 알츠하이머병의 순위 상승이 두드러졌고 자살로 인한 사망자 수도 증가했다.\n"
          ]
        }
      ],
      "source": [
        "import time\n",
        "for lang in ts.get_languages('papago')['ko']:\n",
        "    if lang == 'ko':\n",
        "        continue\n",
        "    toOther = ts.translate_text(sample, translator='papago', to_language=lang, from_language='ko')\n",
        "    print(lang + ' : ' + ts.translate_text(toOther, translator='papago', to_language='ko', from_language=lang))\n",
        "    time.sleep(3)"
      ]
    },
    {
      "cell_type": "code",
      "execution_count": 38,
      "metadata": {},
      "outputs": [
        {
          "data": {
            "application/vnd.jupyter.widget-view+json": {
              "model_id": "a6a906bbdacb455aa0d0990a46ecffac",
              "version_major": 2,
              "version_minor": 0
            },
            "text/plain": [
              "  0%|          | 0/101 [00:00<?, ?it/s]"
            ]
          },
          "metadata": {},
          "output_type": "display_data"
        },
        {
          "ename": "ConnectionError",
          "evalue": "('Connection aborted.', RemoteDisconnected('Remote end closed connection without response'))",
          "output_type": "error",
          "traceback": [
            "\u001b[1;31m---------------------------------------------------------------------------\u001b[0m",
            "\u001b[1;31mRemoteDisconnected\u001b[0m                        Traceback (most recent call last)",
            "File \u001b[1;32mc:\\Users\\user\\anaconda3\\envs\\mzp\\lib\\site-packages\\urllib3\\connectionpool.py:714\u001b[0m, in \u001b[0;36mHTTPConnectionPool.urlopen\u001b[1;34m(self, method, url, body, headers, retries, redirect, assert_same_host, timeout, pool_timeout, release_conn, chunked, body_pos, **response_kw)\u001b[0m\n\u001b[0;32m    713\u001b[0m \u001b[39m# Make the request on the httplib connection object.\u001b[39;00m\n\u001b[1;32m--> 714\u001b[0m httplib_response \u001b[39m=\u001b[39m \u001b[39mself\u001b[39;49m\u001b[39m.\u001b[39;49m_make_request(\n\u001b[0;32m    715\u001b[0m     conn,\n\u001b[0;32m    716\u001b[0m     method,\n\u001b[0;32m    717\u001b[0m     url,\n\u001b[0;32m    718\u001b[0m     timeout\u001b[39m=\u001b[39;49mtimeout_obj,\n\u001b[0;32m    719\u001b[0m     body\u001b[39m=\u001b[39;49mbody,\n\u001b[0;32m    720\u001b[0m     headers\u001b[39m=\u001b[39;49mheaders,\n\u001b[0;32m    721\u001b[0m     chunked\u001b[39m=\u001b[39;49mchunked,\n\u001b[0;32m    722\u001b[0m )\n\u001b[0;32m    724\u001b[0m \u001b[39m# If we're going to release the connection in ``finally:``, then\u001b[39;00m\n\u001b[0;32m    725\u001b[0m \u001b[39m# the response doesn't need to know about the connection. Otherwise\u001b[39;00m\n\u001b[0;32m    726\u001b[0m \u001b[39m# it will also try to release it and we'll have a double-release\u001b[39;00m\n\u001b[0;32m    727\u001b[0m \u001b[39m# mess.\u001b[39;00m\n",
            "File \u001b[1;32mc:\\Users\\user\\anaconda3\\envs\\mzp\\lib\\site-packages\\urllib3\\connectionpool.py:466\u001b[0m, in \u001b[0;36mHTTPConnectionPool._make_request\u001b[1;34m(self, conn, method, url, timeout, chunked, **httplib_request_kw)\u001b[0m\n\u001b[0;32m    462\u001b[0m         \u001b[39mexcept\u001b[39;00m \u001b[39mBaseException\u001b[39;00m \u001b[39mas\u001b[39;00m e:\n\u001b[0;32m    463\u001b[0m             \u001b[39m# Remove the TypeError from the exception chain in\u001b[39;00m\n\u001b[0;32m    464\u001b[0m             \u001b[39m# Python 3 (including for exceptions like SystemExit).\u001b[39;00m\n\u001b[0;32m    465\u001b[0m             \u001b[39m# Otherwise it looks like a bug in the code.\u001b[39;00m\n\u001b[1;32m--> 466\u001b[0m             six\u001b[39m.\u001b[39;49mraise_from(e, \u001b[39mNone\u001b[39;49;00m)\n\u001b[0;32m    467\u001b[0m \u001b[39mexcept\u001b[39;00m (SocketTimeout, BaseSSLError, SocketError) \u001b[39mas\u001b[39;00m e:\n",
            "File \u001b[1;32m<string>:3\u001b[0m, in \u001b[0;36mraise_from\u001b[1;34m(value, from_value)\u001b[0m\n",
            "File \u001b[1;32mc:\\Users\\user\\anaconda3\\envs\\mzp\\lib\\site-packages\\urllib3\\connectionpool.py:461\u001b[0m, in \u001b[0;36mHTTPConnectionPool._make_request\u001b[1;34m(self, conn, method, url, timeout, chunked, **httplib_request_kw)\u001b[0m\n\u001b[0;32m    460\u001b[0m \u001b[39mtry\u001b[39;00m:\n\u001b[1;32m--> 461\u001b[0m     httplib_response \u001b[39m=\u001b[39m conn\u001b[39m.\u001b[39;49mgetresponse()\n\u001b[0;32m    462\u001b[0m \u001b[39mexcept\u001b[39;00m \u001b[39mBaseException\u001b[39;00m \u001b[39mas\u001b[39;00m e:\n\u001b[0;32m    463\u001b[0m     \u001b[39m# Remove the TypeError from the exception chain in\u001b[39;00m\n\u001b[0;32m    464\u001b[0m     \u001b[39m# Python 3 (including for exceptions like SystemExit).\u001b[39;00m\n\u001b[0;32m    465\u001b[0m     \u001b[39m# Otherwise it looks like a bug in the code.\u001b[39;00m\n",
            "File \u001b[1;32mc:\\Users\\user\\anaconda3\\envs\\mzp\\lib\\http\\client.py:1375\u001b[0m, in \u001b[0;36mHTTPConnection.getresponse\u001b[1;34m(self)\u001b[0m\n\u001b[0;32m   1374\u001b[0m \u001b[39mtry\u001b[39;00m:\n\u001b[1;32m-> 1375\u001b[0m     response\u001b[39m.\u001b[39;49mbegin()\n\u001b[0;32m   1376\u001b[0m \u001b[39mexcept\u001b[39;00m \u001b[39mConnectionError\u001b[39;00m:\n",
            "File \u001b[1;32mc:\\Users\\user\\anaconda3\\envs\\mzp\\lib\\http\\client.py:318\u001b[0m, in \u001b[0;36mHTTPResponse.begin\u001b[1;34m(self)\u001b[0m\n\u001b[0;32m    317\u001b[0m \u001b[39mwhile\u001b[39;00m \u001b[39mTrue\u001b[39;00m:\n\u001b[1;32m--> 318\u001b[0m     version, status, reason \u001b[39m=\u001b[39m \u001b[39mself\u001b[39;49m\u001b[39m.\u001b[39;49m_read_status()\n\u001b[0;32m    319\u001b[0m     \u001b[39mif\u001b[39;00m status \u001b[39m!=\u001b[39m CONTINUE:\n",
            "File \u001b[1;32mc:\\Users\\user\\anaconda3\\envs\\mzp\\lib\\http\\client.py:287\u001b[0m, in \u001b[0;36mHTTPResponse._read_status\u001b[1;34m(self)\u001b[0m\n\u001b[0;32m    284\u001b[0m \u001b[39mif\u001b[39;00m \u001b[39mnot\u001b[39;00m line:\n\u001b[0;32m    285\u001b[0m     \u001b[39m# Presumably, the server closed the connection before\u001b[39;00m\n\u001b[0;32m    286\u001b[0m     \u001b[39m# sending a valid response.\u001b[39;00m\n\u001b[1;32m--> 287\u001b[0m     \u001b[39mraise\u001b[39;00m RemoteDisconnected(\u001b[39m\"\u001b[39m\u001b[39mRemote end closed connection without\u001b[39m\u001b[39m\"\u001b[39m\n\u001b[0;32m    288\u001b[0m                              \u001b[39m\"\u001b[39m\u001b[39m response\u001b[39m\u001b[39m\"\u001b[39m)\n\u001b[0;32m    289\u001b[0m \u001b[39mtry\u001b[39;00m:\n",
            "\u001b[1;31mRemoteDisconnected\u001b[0m: Remote end closed connection without response",
            "\nDuring handling of the above exception, another exception occurred:\n",
            "\u001b[1;31mProtocolError\u001b[0m                             Traceback (most recent call last)",
            "File \u001b[1;32mc:\\Users\\user\\anaconda3\\envs\\mzp\\lib\\site-packages\\requests\\adapters.py:486\u001b[0m, in \u001b[0;36mHTTPAdapter.send\u001b[1;34m(self, request, stream, timeout, verify, cert, proxies)\u001b[0m\n\u001b[0;32m    485\u001b[0m \u001b[39mtry\u001b[39;00m:\n\u001b[1;32m--> 486\u001b[0m     resp \u001b[39m=\u001b[39m conn\u001b[39m.\u001b[39;49murlopen(\n\u001b[0;32m    487\u001b[0m         method\u001b[39m=\u001b[39;49mrequest\u001b[39m.\u001b[39;49mmethod,\n\u001b[0;32m    488\u001b[0m         url\u001b[39m=\u001b[39;49murl,\n\u001b[0;32m    489\u001b[0m         body\u001b[39m=\u001b[39;49mrequest\u001b[39m.\u001b[39;49mbody,\n\u001b[0;32m    490\u001b[0m         headers\u001b[39m=\u001b[39;49mrequest\u001b[39m.\u001b[39;49mheaders,\n\u001b[0;32m    491\u001b[0m         redirect\u001b[39m=\u001b[39;49m\u001b[39mFalse\u001b[39;49;00m,\n\u001b[0;32m    492\u001b[0m         assert_same_host\u001b[39m=\u001b[39;49m\u001b[39mFalse\u001b[39;49;00m,\n\u001b[0;32m    493\u001b[0m         preload_content\u001b[39m=\u001b[39;49m\u001b[39mFalse\u001b[39;49;00m,\n\u001b[0;32m    494\u001b[0m         decode_content\u001b[39m=\u001b[39;49m\u001b[39mFalse\u001b[39;49;00m,\n\u001b[0;32m    495\u001b[0m         retries\u001b[39m=\u001b[39;49m\u001b[39mself\u001b[39;49m\u001b[39m.\u001b[39;49mmax_retries,\n\u001b[0;32m    496\u001b[0m         timeout\u001b[39m=\u001b[39;49mtimeout,\n\u001b[0;32m    497\u001b[0m         chunked\u001b[39m=\u001b[39;49mchunked,\n\u001b[0;32m    498\u001b[0m     )\n\u001b[0;32m    500\u001b[0m \u001b[39mexcept\u001b[39;00m (ProtocolError, \u001b[39mOSError\u001b[39;00m) \u001b[39mas\u001b[39;00m err:\n",
            "File \u001b[1;32mc:\\Users\\user\\anaconda3\\envs\\mzp\\lib\\site-packages\\urllib3\\connectionpool.py:798\u001b[0m, in \u001b[0;36mHTTPConnectionPool.urlopen\u001b[1;34m(self, method, url, body, headers, retries, redirect, assert_same_host, timeout, pool_timeout, release_conn, chunked, body_pos, **response_kw)\u001b[0m\n\u001b[0;32m    796\u001b[0m     e \u001b[39m=\u001b[39m ProtocolError(\u001b[39m\"\u001b[39m\u001b[39mConnection aborted.\u001b[39m\u001b[39m\"\u001b[39m, e)\n\u001b[1;32m--> 798\u001b[0m retries \u001b[39m=\u001b[39m retries\u001b[39m.\u001b[39;49mincrement(\n\u001b[0;32m    799\u001b[0m     method, url, error\u001b[39m=\u001b[39;49me, _pool\u001b[39m=\u001b[39;49m\u001b[39mself\u001b[39;49m, _stacktrace\u001b[39m=\u001b[39;49msys\u001b[39m.\u001b[39;49mexc_info()[\u001b[39m2\u001b[39;49m]\n\u001b[0;32m    800\u001b[0m )\n\u001b[0;32m    801\u001b[0m retries\u001b[39m.\u001b[39msleep()\n",
            "File \u001b[1;32mc:\\Users\\user\\anaconda3\\envs\\mzp\\lib\\site-packages\\urllib3\\util\\retry.py:550\u001b[0m, in \u001b[0;36mRetry.increment\u001b[1;34m(self, method, url, response, error, _pool, _stacktrace)\u001b[0m\n\u001b[0;32m    549\u001b[0m \u001b[39mif\u001b[39;00m read \u001b[39mis\u001b[39;00m \u001b[39mFalse\u001b[39;00m \u001b[39mor\u001b[39;00m \u001b[39mnot\u001b[39;00m \u001b[39mself\u001b[39m\u001b[39m.\u001b[39m_is_method_retryable(method):\n\u001b[1;32m--> 550\u001b[0m     \u001b[39mraise\u001b[39;00m six\u001b[39m.\u001b[39;49mreraise(\u001b[39mtype\u001b[39;49m(error), error, _stacktrace)\n\u001b[0;32m    551\u001b[0m \u001b[39melif\u001b[39;00m read \u001b[39mis\u001b[39;00m \u001b[39mnot\u001b[39;00m \u001b[39mNone\u001b[39;00m:\n",
            "File \u001b[1;32mc:\\Users\\user\\anaconda3\\envs\\mzp\\lib\\site-packages\\urllib3\\packages\\six.py:769\u001b[0m, in \u001b[0;36mreraise\u001b[1;34m(tp, value, tb)\u001b[0m\n\u001b[0;32m    768\u001b[0m \u001b[39mif\u001b[39;00m value\u001b[39m.\u001b[39m__traceback__ \u001b[39mis\u001b[39;00m \u001b[39mnot\u001b[39;00m tb:\n\u001b[1;32m--> 769\u001b[0m     \u001b[39mraise\u001b[39;00m value\u001b[39m.\u001b[39mwith_traceback(tb)\n\u001b[0;32m    770\u001b[0m \u001b[39mraise\u001b[39;00m value\n",
            "File \u001b[1;32mc:\\Users\\user\\anaconda3\\envs\\mzp\\lib\\site-packages\\urllib3\\connectionpool.py:714\u001b[0m, in \u001b[0;36mHTTPConnectionPool.urlopen\u001b[1;34m(self, method, url, body, headers, retries, redirect, assert_same_host, timeout, pool_timeout, release_conn, chunked, body_pos, **response_kw)\u001b[0m\n\u001b[0;32m    713\u001b[0m \u001b[39m# Make the request on the httplib connection object.\u001b[39;00m\n\u001b[1;32m--> 714\u001b[0m httplib_response \u001b[39m=\u001b[39m \u001b[39mself\u001b[39;49m\u001b[39m.\u001b[39;49m_make_request(\n\u001b[0;32m    715\u001b[0m     conn,\n\u001b[0;32m    716\u001b[0m     method,\n\u001b[0;32m    717\u001b[0m     url,\n\u001b[0;32m    718\u001b[0m     timeout\u001b[39m=\u001b[39;49mtimeout_obj,\n\u001b[0;32m    719\u001b[0m     body\u001b[39m=\u001b[39;49mbody,\n\u001b[0;32m    720\u001b[0m     headers\u001b[39m=\u001b[39;49mheaders,\n\u001b[0;32m    721\u001b[0m     chunked\u001b[39m=\u001b[39;49mchunked,\n\u001b[0;32m    722\u001b[0m )\n\u001b[0;32m    724\u001b[0m \u001b[39m# If we're going to release the connection in ``finally:``, then\u001b[39;00m\n\u001b[0;32m    725\u001b[0m \u001b[39m# the response doesn't need to know about the connection. Otherwise\u001b[39;00m\n\u001b[0;32m    726\u001b[0m \u001b[39m# it will also try to release it and we'll have a double-release\u001b[39;00m\n\u001b[0;32m    727\u001b[0m \u001b[39m# mess.\u001b[39;00m\n",
            "File \u001b[1;32mc:\\Users\\user\\anaconda3\\envs\\mzp\\lib\\site-packages\\urllib3\\connectionpool.py:466\u001b[0m, in \u001b[0;36mHTTPConnectionPool._make_request\u001b[1;34m(self, conn, method, url, timeout, chunked, **httplib_request_kw)\u001b[0m\n\u001b[0;32m    462\u001b[0m         \u001b[39mexcept\u001b[39;00m \u001b[39mBaseException\u001b[39;00m \u001b[39mas\u001b[39;00m e:\n\u001b[0;32m    463\u001b[0m             \u001b[39m# Remove the TypeError from the exception chain in\u001b[39;00m\n\u001b[0;32m    464\u001b[0m             \u001b[39m# Python 3 (including for exceptions like SystemExit).\u001b[39;00m\n\u001b[0;32m    465\u001b[0m             \u001b[39m# Otherwise it looks like a bug in the code.\u001b[39;00m\n\u001b[1;32m--> 466\u001b[0m             six\u001b[39m.\u001b[39;49mraise_from(e, \u001b[39mNone\u001b[39;49;00m)\n\u001b[0;32m    467\u001b[0m \u001b[39mexcept\u001b[39;00m (SocketTimeout, BaseSSLError, SocketError) \u001b[39mas\u001b[39;00m e:\n",
            "File \u001b[1;32m<string>:3\u001b[0m, in \u001b[0;36mraise_from\u001b[1;34m(value, from_value)\u001b[0m\n",
            "File \u001b[1;32mc:\\Users\\user\\anaconda3\\envs\\mzp\\lib\\site-packages\\urllib3\\connectionpool.py:461\u001b[0m, in \u001b[0;36mHTTPConnectionPool._make_request\u001b[1;34m(self, conn, method, url, timeout, chunked, **httplib_request_kw)\u001b[0m\n\u001b[0;32m    460\u001b[0m \u001b[39mtry\u001b[39;00m:\n\u001b[1;32m--> 461\u001b[0m     httplib_response \u001b[39m=\u001b[39m conn\u001b[39m.\u001b[39;49mgetresponse()\n\u001b[0;32m    462\u001b[0m \u001b[39mexcept\u001b[39;00m \u001b[39mBaseException\u001b[39;00m \u001b[39mas\u001b[39;00m e:\n\u001b[0;32m    463\u001b[0m     \u001b[39m# Remove the TypeError from the exception chain in\u001b[39;00m\n\u001b[0;32m    464\u001b[0m     \u001b[39m# Python 3 (including for exceptions like SystemExit).\u001b[39;00m\n\u001b[0;32m    465\u001b[0m     \u001b[39m# Otherwise it looks like a bug in the code.\u001b[39;00m\n",
            "File \u001b[1;32mc:\\Users\\user\\anaconda3\\envs\\mzp\\lib\\http\\client.py:1375\u001b[0m, in \u001b[0;36mHTTPConnection.getresponse\u001b[1;34m(self)\u001b[0m\n\u001b[0;32m   1374\u001b[0m \u001b[39mtry\u001b[39;00m:\n\u001b[1;32m-> 1375\u001b[0m     response\u001b[39m.\u001b[39;49mbegin()\n\u001b[0;32m   1376\u001b[0m \u001b[39mexcept\u001b[39;00m \u001b[39mConnectionError\u001b[39;00m:\n",
            "File \u001b[1;32mc:\\Users\\user\\anaconda3\\envs\\mzp\\lib\\http\\client.py:318\u001b[0m, in \u001b[0;36mHTTPResponse.begin\u001b[1;34m(self)\u001b[0m\n\u001b[0;32m    317\u001b[0m \u001b[39mwhile\u001b[39;00m \u001b[39mTrue\u001b[39;00m:\n\u001b[1;32m--> 318\u001b[0m     version, status, reason \u001b[39m=\u001b[39m \u001b[39mself\u001b[39;49m\u001b[39m.\u001b[39;49m_read_status()\n\u001b[0;32m    319\u001b[0m     \u001b[39mif\u001b[39;00m status \u001b[39m!=\u001b[39m CONTINUE:\n",
            "File \u001b[1;32mc:\\Users\\user\\anaconda3\\envs\\mzp\\lib\\http\\client.py:287\u001b[0m, in \u001b[0;36mHTTPResponse._read_status\u001b[1;34m(self)\u001b[0m\n\u001b[0;32m    284\u001b[0m \u001b[39mif\u001b[39;00m \u001b[39mnot\u001b[39;00m line:\n\u001b[0;32m    285\u001b[0m     \u001b[39m# Presumably, the server closed the connection before\u001b[39;00m\n\u001b[0;32m    286\u001b[0m     \u001b[39m# sending a valid response.\u001b[39;00m\n\u001b[1;32m--> 287\u001b[0m     \u001b[39mraise\u001b[39;00m RemoteDisconnected(\u001b[39m\"\u001b[39m\u001b[39mRemote end closed connection without\u001b[39m\u001b[39m\"\u001b[39m\n\u001b[0;32m    288\u001b[0m                              \u001b[39m\"\u001b[39m\u001b[39m response\u001b[39m\u001b[39m\"\u001b[39m)\n\u001b[0;32m    289\u001b[0m \u001b[39mtry\u001b[39;00m:\n",
            "\u001b[1;31mProtocolError\u001b[0m: ('Connection aborted.', RemoteDisconnected('Remote end closed connection without response'))",
            "\nDuring handling of the above exception, another exception occurred:\n",
            "\u001b[1;31mConnectionError\u001b[0m                           Traceback (most recent call last)",
            "Cell \u001b[1;32mIn[38], line 6\u001b[0m\n\u001b[0;32m      4\u001b[0m toKor \u001b[39m=\u001b[39m t\n\u001b[0;32m      5\u001b[0m \u001b[39mfor\u001b[39;00m _ \u001b[39min\u001b[39;00m \u001b[39mrange\u001b[39m(\u001b[39m5\u001b[39m):\n\u001b[1;32m----> 6\u001b[0m     toOther \u001b[39m=\u001b[39m ts\u001b[39m.\u001b[39;49mtranslate_text(toKor, translator\u001b[39m=\u001b[39;49m\u001b[39m'\u001b[39;49m\u001b[39mpapago\u001b[39;49m\u001b[39m'\u001b[39;49m, to_language\u001b[39m=\u001b[39;49m\u001b[39m'\u001b[39;49m\u001b[39mzh-CN\u001b[39;49m\u001b[39m'\u001b[39;49m, from_language\u001b[39m=\u001b[39;49m\u001b[39m'\u001b[39;49m\u001b[39mko\u001b[39;49m\u001b[39m'\u001b[39;49m)\n\u001b[0;32m      7\u001b[0m     toKor \u001b[39m=\u001b[39m ts\u001b[39m.\u001b[39mtranslate_text(toOther, translator\u001b[39m=\u001b[39m\u001b[39m'\u001b[39m\u001b[39mpapago\u001b[39m\u001b[39m'\u001b[39m, to_language\u001b[39m=\u001b[39m\u001b[39m'\u001b[39m\u001b[39mko\u001b[39m\u001b[39m'\u001b[39m, from_language\u001b[39m=\u001b[39m\u001b[39m'\u001b[39m\u001b[39mzh-CN\u001b[39m\u001b[39m'\u001b[39m)\n\u001b[0;32m      8\u001b[0m     train_5\u001b[39m.\u001b[39mappend(toKor)\n",
            "File \u001b[1;32mc:\\Users\\user\\anaconda3\\envs\\mzp\\lib\\site-packages\\translators\\server.py:5275\u001b[0m, in \u001b[0;36mTranslatorsServer.translate_text\u001b[1;34m(self, query_text, translator, from_language, to_language, if_use_preacceleration, **kwargs)\u001b[0m\n\u001b[0;32m   5272\u001b[0m \u001b[39mif\u001b[39;00m \u001b[39mnot\u001b[39;00m \u001b[39mself\u001b[39m\u001b[39m.\u001b[39mpre_acceleration_label \u001b[39mand\u001b[39;00m if_use_preacceleration:\n\u001b[0;32m   5273\u001b[0m     _ \u001b[39m=\u001b[39m \u001b[39mself\u001b[39m\u001b[39m.\u001b[39mpreaccelerate()\n\u001b[1;32m-> 5275\u001b[0m \u001b[39mreturn\u001b[39;00m \u001b[39mself\u001b[39m\u001b[39m.\u001b[39mtranslators_dict[translator](query_text\u001b[39m=\u001b[39mquery_text, from_language\u001b[39m=\u001b[39mfrom_language, to_language\u001b[39m=\u001b[39mto_language, \u001b[39m*\u001b[39m\u001b[39m*\u001b[39mkwargs)\n",
            "File \u001b[1;32mc:\\Users\\user\\anaconda3\\envs\\mzp\\lib\\site-packages\\translators\\server.py:104\u001b[0m, in \u001b[0;36mTse.time_stat.<locals>._wrapper\u001b[1;34m(*args, **kwargs)\u001b[0m\n\u001b[0;32m    102\u001b[0m     sys\u001b[39m.\u001b[39mstderr\u001b[39m.\u001b[39mwrite(\u001b[39mf\u001b[39m\u001b[39m'\u001b[39m\u001b[39mTimeSpent(function: \u001b[39m\u001b[39m{\u001b[39;00mfunc\u001b[39m.\u001b[39m\u001b[39m__name__\u001b[39m[:\u001b[39m-\u001b[39m\u001b[39m4\u001b[39m]\u001b[39m}\u001b[39;00m\u001b[39m): \u001b[39m\u001b[39m{\u001b[39;00mcost_time\u001b[39m}\u001b[39;00m\u001b[39ms\u001b[39m\u001b[39m\\n\u001b[39;00m\u001b[39m'\u001b[39m)\n\u001b[0;32m    103\u001b[0m     \u001b[39mreturn\u001b[39;00m result\n\u001b[1;32m--> 104\u001b[0m \u001b[39mreturn\u001b[39;00m func(\u001b[39m*\u001b[39margs, \u001b[39m*\u001b[39m\u001b[39m*\u001b[39mkwargs)\n",
            "File \u001b[1;32mc:\\Users\\user\\anaconda3\\envs\\mzp\\lib\\site-packages\\translators\\server.py:261\u001b[0m, in \u001b[0;36mTse.check_query.<locals>._wrapper\u001b[1;34m(*args, **kwargs)\u001b[0m\n\u001b[0;32m    259\u001b[0m     new_args[\u001b[39m1\u001b[39m] \u001b[39m=\u001b[39m query_text\n\u001b[0;32m    260\u001b[0m     \u001b[39mreturn\u001b[39;00m func(\u001b[39m*\u001b[39m\u001b[39mtuple\u001b[39m(new_args), \u001b[39m*\u001b[39m\u001b[39m*\u001b[39mkwargs)\n\u001b[1;32m--> 261\u001b[0m \u001b[39mreturn\u001b[39;00m func(\u001b[39m*\u001b[39margs, \u001b[39m*\u001b[39m\u001b[39m*\u001b[39m{\u001b[39m*\u001b[39m\u001b[39m*\u001b[39mkwargs, \u001b[39m*\u001b[39m\u001b[39m*\u001b[39m{\u001b[39m'\u001b[39m\u001b[39mquery_text\u001b[39m\u001b[39m'\u001b[39m: query_text}})\n",
            "File \u001b[1;32mc:\\Users\\user\\anaconda3\\envs\\mzp\\lib\\site-packages\\translators\\server.py:3166\u001b[0m, in \u001b[0;36mPapago.papago_api\u001b[1;34m(self, query_text, from_language, to_language, **kwargs)\u001b[0m\n\u001b[0;32m   3160\u001b[0m payload \u001b[39m=\u001b[39m {\n\u001b[0;32m   3161\u001b[0m     \u001b[39m'\u001b[39m\u001b[39mdeviceId\u001b[39m\u001b[39m'\u001b[39m: \u001b[39mself\u001b[39m\u001b[39m.\u001b[39mdevice_id,\n\u001b[0;32m   3162\u001b[0m     \u001b[39m'\u001b[39m\u001b[39mtext\u001b[39m\u001b[39m'\u001b[39m: query_text, \u001b[39m'\u001b[39m\u001b[39msource\u001b[39m\u001b[39m'\u001b[39m: from_language, \u001b[39m'\u001b[39m\u001b[39mtarget\u001b[39m\u001b[39m'\u001b[39m: to_language, \u001b[39m'\u001b[39m\u001b[39mlocale\u001b[39m\u001b[39m'\u001b[39m: \u001b[39m'\u001b[39m\u001b[39men\u001b[39m\u001b[39m'\u001b[39m,\n\u001b[0;32m   3163\u001b[0m     \u001b[39m'\u001b[39m\u001b[39mdict\u001b[39m\u001b[39m'\u001b[39m: \u001b[39m'\u001b[39m\u001b[39mtrue\u001b[39m\u001b[39m'\u001b[39m, \u001b[39m'\u001b[39m\u001b[39mdictDisplay\u001b[39m\u001b[39m'\u001b[39m: \u001b[39m30\u001b[39m, \u001b[39m'\u001b[39m\u001b[39mhonorific\u001b[39m\u001b[39m'\u001b[39m: \u001b[39m'\u001b[39m\u001b[39mfalse\u001b[39m\u001b[39m'\u001b[39m, \u001b[39m'\u001b[39m\u001b[39minstant\u001b[39m\u001b[39m'\u001b[39m: \u001b[39m'\u001b[39m\u001b[39mfalse\u001b[39m\u001b[39m'\u001b[39m, \u001b[39m'\u001b[39m\u001b[39mpaging\u001b[39m\u001b[39m'\u001b[39m: \u001b[39m'\u001b[39m\u001b[39mfalse\u001b[39m\u001b[39m'\u001b[39m,\n\u001b[0;32m   3164\u001b[0m }\n\u001b[0;32m   3165\u001b[0m payload \u001b[39m=\u001b[39m urllib\u001b[39m.\u001b[39mparse\u001b[39m.\u001b[39murlencode(payload)\n\u001b[1;32m-> 3166\u001b[0m r \u001b[39m=\u001b[39m \u001b[39mself\u001b[39;49m\u001b[39m.\u001b[39;49msession\u001b[39m.\u001b[39;49mpost(\u001b[39mself\u001b[39;49m\u001b[39m.\u001b[39;49mapi_url, headers\u001b[39m=\u001b[39;49mtrans_headers, data\u001b[39m=\u001b[39;49mpayload, timeout\u001b[39m=\u001b[39;49mtimeout, proxies\u001b[39m=\u001b[39;49mproxies)\n\u001b[0;32m   3167\u001b[0m r\u001b[39m.\u001b[39mraise_for_status()\n\u001b[0;32m   3168\u001b[0m data \u001b[39m=\u001b[39m r\u001b[39m.\u001b[39mjson()\n",
            "File \u001b[1;32mc:\\Users\\user\\anaconda3\\envs\\mzp\\lib\\site-packages\\requests\\sessions.py:637\u001b[0m, in \u001b[0;36mSession.post\u001b[1;34m(self, url, data, json, **kwargs)\u001b[0m\n\u001b[0;32m    626\u001b[0m \u001b[39mdef\u001b[39;00m \u001b[39mpost\u001b[39m(\u001b[39mself\u001b[39m, url, data\u001b[39m=\u001b[39m\u001b[39mNone\u001b[39;00m, json\u001b[39m=\u001b[39m\u001b[39mNone\u001b[39;00m, \u001b[39m*\u001b[39m\u001b[39m*\u001b[39mkwargs):\n\u001b[0;32m    627\u001b[0m \u001b[39m    \u001b[39m\u001b[39mr\u001b[39m\u001b[39m\"\"\"Sends a POST request. Returns :class:`Response` object.\u001b[39;00m\n\u001b[0;32m    628\u001b[0m \n\u001b[0;32m    629\u001b[0m \u001b[39m    :param url: URL for the new :class:`Request` object.\u001b[39;00m\n\u001b[1;32m   (...)\u001b[0m\n\u001b[0;32m    634\u001b[0m \u001b[39m    :rtype: requests.Response\u001b[39;00m\n\u001b[0;32m    635\u001b[0m \u001b[39m    \"\"\"\u001b[39;00m\n\u001b[1;32m--> 637\u001b[0m     \u001b[39mreturn\u001b[39;00m \u001b[39mself\u001b[39m\u001b[39m.\u001b[39mrequest(\u001b[39m\"\u001b[39m\u001b[39mPOST\u001b[39m\u001b[39m\"\u001b[39m, url, data\u001b[39m=\u001b[39mdata, json\u001b[39m=\u001b[39mjson, \u001b[39m*\u001b[39m\u001b[39m*\u001b[39mkwargs)\n",
            "File \u001b[1;32mc:\\Users\\user\\anaconda3\\envs\\mzp\\lib\\site-packages\\requests\\sessions.py:589\u001b[0m, in \u001b[0;36mSession.request\u001b[1;34m(self, method, url, params, data, headers, cookies, files, auth, timeout, allow_redirects, proxies, hooks, stream, verify, cert, json)\u001b[0m\n\u001b[0;32m    584\u001b[0m send_kwargs \u001b[39m=\u001b[39m {\n\u001b[0;32m    585\u001b[0m     \u001b[39m\"\u001b[39m\u001b[39mtimeout\u001b[39m\u001b[39m\"\u001b[39m: timeout,\n\u001b[0;32m    586\u001b[0m     \u001b[39m\"\u001b[39m\u001b[39mallow_redirects\u001b[39m\u001b[39m\"\u001b[39m: allow_redirects,\n\u001b[0;32m    587\u001b[0m }\n\u001b[0;32m    588\u001b[0m send_kwargs\u001b[39m.\u001b[39mupdate(settings)\n\u001b[1;32m--> 589\u001b[0m resp \u001b[39m=\u001b[39m \u001b[39mself\u001b[39m\u001b[39m.\u001b[39msend(prep, \u001b[39m*\u001b[39m\u001b[39m*\u001b[39msend_kwargs)\n\u001b[0;32m    591\u001b[0m \u001b[39mreturn\u001b[39;00m resp\n",
            "File \u001b[1;32mc:\\Users\\user\\anaconda3\\envs\\mzp\\lib\\site-packages\\requests\\sessions.py:703\u001b[0m, in \u001b[0;36mSession.send\u001b[1;34m(self, request, **kwargs)\u001b[0m\n\u001b[0;32m    700\u001b[0m start \u001b[39m=\u001b[39m preferred_clock()\n\u001b[0;32m    702\u001b[0m \u001b[39m# Send the request\u001b[39;00m\n\u001b[1;32m--> 703\u001b[0m r \u001b[39m=\u001b[39m adapter\u001b[39m.\u001b[39msend(request, \u001b[39m*\u001b[39m\u001b[39m*\u001b[39mkwargs)\n\u001b[0;32m    705\u001b[0m \u001b[39m# Total elapsed time of the request (approximately)\u001b[39;00m\n\u001b[0;32m    706\u001b[0m elapsed \u001b[39m=\u001b[39m preferred_clock() \u001b[39m-\u001b[39m start\n",
            "File \u001b[1;32mc:\\Users\\user\\anaconda3\\envs\\mzp\\lib\\site-packages\\requests\\adapters.py:501\u001b[0m, in \u001b[0;36mHTTPAdapter.send\u001b[1;34m(self, request, stream, timeout, verify, cert, proxies)\u001b[0m\n\u001b[0;32m    486\u001b[0m     resp \u001b[39m=\u001b[39m conn\u001b[39m.\u001b[39murlopen(\n\u001b[0;32m    487\u001b[0m         method\u001b[39m=\u001b[39mrequest\u001b[39m.\u001b[39mmethod,\n\u001b[0;32m    488\u001b[0m         url\u001b[39m=\u001b[39murl,\n\u001b[1;32m   (...)\u001b[0m\n\u001b[0;32m    497\u001b[0m         chunked\u001b[39m=\u001b[39mchunked,\n\u001b[0;32m    498\u001b[0m     )\n\u001b[0;32m    500\u001b[0m \u001b[39mexcept\u001b[39;00m (ProtocolError, \u001b[39mOSError\u001b[39;00m) \u001b[39mas\u001b[39;00m err:\n\u001b[1;32m--> 501\u001b[0m     \u001b[39mraise\u001b[39;00m \u001b[39mConnectionError\u001b[39;00m(err, request\u001b[39m=\u001b[39mrequest)\n\u001b[0;32m    503\u001b[0m \u001b[39mexcept\u001b[39;00m MaxRetryError \u001b[39mas\u001b[39;00m e:\n\u001b[0;32m    504\u001b[0m     \u001b[39mif\u001b[39;00m \u001b[39misinstance\u001b[39m(e\u001b[39m.\u001b[39mreason, ConnectTimeoutError):\n\u001b[0;32m    505\u001b[0m         \u001b[39m# TODO: Remove this in 3.0.0: see #2811\u001b[39;00m\n",
            "\u001b[1;31mConnectionError\u001b[0m: ('Connection aborted.', RemoteDisconnected('Remote end closed connection without response'))"
          ]
        }
      ],
      "source": [
        "from tqdm.notebook import tqdm\n",
        "train_5 = []\n",
        "for t in tqdm(train['abstractive']):\n",
        "    toKor = t\n",
        "    for _ in range(5):\n",
        "        toOther = ts.translate_text(toKor, translator='papago', to_language='zh-CN', from_language='ko')\n",
        "        toKor = ts.translate_text(toOther, translator='papago', to_language='ko', from_language='zh-CN')\n",
        "        train_5.append(toKor)\n",
        "        "
      ]
    },
    {
      "cell_type": "code",
      "execution_count": 40,
      "metadata": {},
      "outputs": [
        {
          "data": {
            "text/plain": [
              "69"
            ]
          },
          "execution_count": 40,
          "metadata": {},
          "output_type": "execute_result"
        }
      ],
      "source": [
        "len(train_5)"
      ]
    },
    {
      "cell_type": "code",
      "execution_count": 41,
      "metadata": {},
      "outputs": [
        {
          "data": {
            "text/plain": [
              "[\"통계청이 발표한 '2018년 사망원인통계'에 따르면 지난해 총 사망자 수는 관련 통계 작성 이후 최대치로, 사망 원인 중 폐렴과 알츠하이머병의 순위 상승이 두드러졌고 자살로 인한 사망자 수도 증가했다.\",\n",
              " \"통계청이 발표한 '2018년 사망원인통계'에 따르면 지난해 총 사망자 수는 관련 통계 집계 이래 최고치를 기록했고, 사망 원인 중 폐렴과 알츠하이머병의 순위 상승이 두드러지며 자살로 인한 사망자 수도 증가했다.\",\n",
              " \"통계청이 발표한 '2018년 사망원인통계'에 따르면 지난해 총 사망자 수는 관련 통계 집계 이래 최고치를 기록했고, 사망 원인 중 폐렴과 알츠하이머병의 순위 상승이 두드러지며 자살로 인한 사망자 수도 증가했다.\",\n",
              " \"통계청이 발표한 '2018년 사망원인통계'에 따르면 지난해 총 사망자 수는 관련 통계 집계 이래 최고치를 기록했고, 사망 원인 중 폐렴과 알츠하이머병의 순위 상승이 두드러지며 자살로 인한 사망자 수도 증가했다.\",\n",
              " \"통계청이 발표한 '2018년 사망원인통계'에 따르면 지난해 총 사망자 수는 관련 통계 집계 이래 최고치를 기록했고, 사망 원인 중 폐렴과 알츠하이머병의 순위 상승이 두드러지며 자살로 인한 사망자 수도 증가했다.\",\n",
              " '서산시의원 가충순과 이수의 의원은 적극적인 의정활동에 대한 감사의 표시로 한국지역신문협회가 수여하는 우수 의정대상을 수상했으며, 가충수 의원은 자동차연비 테스트 연구시설 유치, 천수만 염해 재발방지, 서산시 대표농산물 육성 등 지역인재 채용 확대 및 관내 기업자재 활용을 위한 다양한 의정활동을 제안했다.',\n",
              " '서산시의원인 가충순과 이수의 의원은 적극적인 의정활동에 대한 감사의 표시로 한국지역신문협회가 수여하는 우수 의정대상을 수상했으며, 가충수 의원은 자동차연비 테스트 연구시설 유치, 천수만 염해 재발방지, 서산시 대표농산물 육성 등 지역인재 채용 확대 및 관내 기업소재를 활용한 다양한 의정활동을 제안했다.',\n",
              " '서산시의원인 가충순과 이수의 의원은 적극적인 의정활동에 감사해 한국지역신문협회가 수여하는 우수 의정대상을 수상했으며, 가충수 의원은 자동차연비 테스트 연구시설 유치, 천수만 염해 재발방지, 서산시 대표농산물 육성 등 지역인재 채용 확대 및 관내 기업소재를 활용한 다양한 의정활동을 제안했다.',\n",
              " '가충순 서산시의원과 이수의 의원은 적극적인 의정활동에 감사해 한국지역신문협회가 수여하는 우수한 의정대상을 수상했으며, 가충수 의원은 자동차연비 테스트 연구시설 유치, 천수만 염해 재발방지, 서산시 대표농산물 육성 등 지역인재 채용 확대 및 관내 기업소재를 활용한 다양한 의정활동을 제안했다.',\n",
              " '서산시의 가충순 의원과 이수의 의원은 적극적인 의정활동에 감사해 한국지역신문협회가 수여하는 우수한 의정대상을 수상했으며, 가충수 의원은 자동차 연비 테스트 연구시설 도입, 천수만 염해 재발방지, 서산시 대표농산물 육성 등 지역인재 채용 확대 및 관내 기업소재를 활용한 다양한 의정활동을 제안했다.',\n",
              " \"'조선대의 새로운 비상을 꿈꾸며'라는 슬로건으로 진행된 단체생활을 통해 협동심과 리더십, 공동체 의식을 함양하는 '조선대 국토대장정'이 지난 5일 해단식을 끝으로 막을 내렸다.\",\n",
              " \"'조선대의 새로운 비상을 꿈꾸며'라는 슬로건으로 진행된 단체생활을 통해 협동심과 리더십, 공동체 의식을 함양한 '조선대 국토대장정'이 지난 5일 열린 해단식을 끝으로 막을 내렸다.\",\n",
              " \"'조선대의 새로운 비상을 꿈꾸며'라는 슬로건으로 진행된 단체생활을 통해 협동심과 리더십, 공동체 의식을 함양한 '조선대 국토대장정'이 지난 5일 열린 해단식을 끝으로 막을 내렸다.\",\n",
              " \"'조선대의 새로운 비상을 꿈꾸며'라는 슬로건으로 진행된 단체생활을 통해 협동심과 리더십, 공동체 의식을 함양한 '조선대 국토대장정'이 지난 5일 열린 해단식을 끝으로 막을 내렸다.\",\n",
              " \"'조선대의 새로운 비상을 꿈꾸며'라는 슬로건으로 진행된 단체생활을 통해 협동심과 리더십, 공동체 의식을 함양한 '조선대 국토대장정'이 지난 5일 열린 해단식을 끝으로 막을 내렸다.\",\n",
              " '서울시는 다음달 4일부터 서울시내 319개 고등학교 3학년 8만4700명을 대상으로 무상급식을 실시하고 2학년, 1학년 순으로 확대 실시한다고 밝혔다.',\n",
              " '서울시는 다음달 4일부터 서울시내 319개 고등학교 3학년 8만4700명을 대상으로 무상급식을 실시하고 2학년, 1학년 순으로 확대 실시한다고 밝혔다.',\n",
              " '서울시는 다음달 4일부터 서울시내 319개 고등학교 3학년 8만4700명을 대상으로 무상급식을 실시하고 2학년, 1학년 순으로 확대 실시한다고 밝혔다.',\n",
              " '서울시는 다음달 4일부터 서울시내 319개 고등학교 3학년 8만4700명을 대상으로 무상급식을 실시하고 2학년, 1학년 순으로 확대 실시한다고 밝혔다.',\n",
              " '서울시는 다음달 4일부터 서울시내 319개 고등학교 3학년 8만4700명을 대상으로 무상급식을 실시하고 2학년, 1학년 순으로 확대 실시한다고 밝혔다.',\n",
              " '우간다에서 의사를 사칭한 미국인 선교사가 두 아이의 죽음과 관련해 현지 시민단체와 주민들이 고소했고, 우간다에 비영리 종교단체를 설립한 르네 바흐가 의료시설을 허가 없이 운영한 혐의로 우간다 여성인권단체에 의해 고소당했다고 CNN이 3일(현지 시간) 보도했다.',\n",
              " '우간다에서 의사를 사칭한 미국인 선교사가 두 아이의 사망과 관련해 현지 시민단체와 주민들로부터 고소당했고, 우간다에 비영리 종교단체를 설립한 르네 바흐는 허가 없이 의료시설을 운영한 혐의로 우간다 여성인권단체로부터 고소당했다고 CNN이 3일(현지 시간) 보도했다.',\n",
              " 'CNN은 3일(현지 시간) 우간다에서 의사를 사칭한 미국인 선교사가 두 아이의 사망으로 현지 시민단체와 주민들에 의해, 우간다에 비영리 종교단체를 설립한 르네 바흐가 허가 없이 의료시설을 운영한 혐의로 우간다 여성인권단체에 의해 고소됐다고 보도했다.',\n",
              " '우간다에서 의사를 사칭한 미국인 선교사가 두 아이의 사망으로 현지 시민단체와 주민들에 의해 고소당했고, 우간다에 비영리 종교단체를 설립한 르네 바흐는 허가 없이 의료시설을 운영한 혐의로 우간다 여성인권단체에 의해 고소당했다고 CNN이 3일(현지 시간) 보도했다.',\n",
              " 'CNN은 3일(현지 시간) 우간다에서 의사를 사칭한 미국인 선교사가 두 아이의 사망으로 현지 시민단체와 주민들에게 고소당했고, 우간다에 비영리 종교단체를 설립한 르네 바흐는 허가 없이 의료시설을 운영한 혐의로 우간다 여성인권단체들에 의해 고소당했다고 보도했다.',\n",
              " \"음성극동대학교 평생교육권이 12일 극동대학교 혁신도시센터에서 어린 자녀를 둔 부모를 대상으로 '내 아이를 위한 만화심리치료' 강좌를 개설, 강의를 진행한 김동욱 원장이 그동안 익힌 노하우를 지역주민들에게 전파하고 있다.\",\n",
              " \"음성극동대학교 평생교육권이 12일 극동대학교 혁신도시센터에서 어린 자녀를 둔 부모를 대상으로 개설한 '내 아이를 위한 만화심리치료' 강좌를 통해 김동욱 원장이 그동안 익힌 노하우를 지역주민들에게 전파하고 있다.\",\n",
              " \"음성 극동대학교 평생교육권이 12일 극동대학교 혁신도시센터에서 어린 자녀를 둔 부모를 대상으로 개설한 '내 아이를 위한 만화 심리치료' 강좌에서 김동욱 원장이 그동안 습득한 노하우를 지역주민들에게 전파하고 있다.\",\n",
              " \"음성 극동대학교 평생교육권이 12일 극동대학교 혁신도시센터에서 어린 자녀를 둔 부모를 대상으로 개설한 '내 아이를 위한 만화 심리치료' 강좌에서 김동욱 원장이 그동안 익힌 노하우를 지역주민들에게 전파하고 있다.\",\n",
              " \"음성 극동대학교 평생교육권이 12일 극동대학교 혁신도시센터에서 어린 자녀를 둔 부모를 대상으로 개설한 '내 아이를 위한 만화 심리치료' 강좌에서 김동욱 원장이 그동안 익힌 노하우를 지역주민들에게 전파하고 있다.\",\n",
              " '19일 아침 충남 당진우체국 집배원이 또 숨지는 등 올해만 9번째 과로사가 발생한 가운데 우정노조가 이를 위한 집배원 인력 증원과 온전한 주5일 근무제 보장을 정부에 촉구하며 직접 이행에 나섰다.',\n",
              " '19일 아침 충남 당진우체국 집배원이 또 사망하는 등 올해만 9번째 과로사가 발생하자 우정노조가 집배원 인력 증원과 온전한 주5일 근무제 보장을 정부에 촉구하며 직접 이행에 나섰다.',\n",
              " '충남 당진우체국 집배원이 19일 아침 또 사망하는 등 올해만 9번째 과로사가 발생한 가운데 우정노조가 집배원 인력 증원과 온전한 주5일 근무제 보장을 정부에 촉구하며 직접 이행에 나섰다.',\n",
              " '충남 당진우체국 집배원이 19일 아침 다시 사망하는 등 올해만 9번째 과로사가 발생한 가운데 우정노조가 집배원 인력 증원과 온전한 주5일 근무제 보장을 정부에 촉구하며 직접 이행에 나섰다.',\n",
              " '충남 당진우체국 집배원이 19일 아침 다시 사망하는 등 올해만 9번째 과로사가 발생한 가운데 우정노조가 집배원 인력 증원과 온전한 주5일 근무제 보장을 정부에 촉구하며 직접 이행에 나섰다.',\n",
              " \"한국철도기술연구원의 '무가선 저상전차 실증노선 공모'에서 수원시와 성남시가 제1호 트램 도시로 선정되기 위해 치열한 경쟁을 벌이고 있다.\",\n",
              " \"한국철도기술연구원의 '무가선 저상전차 실증노선 공모'에서 수원시와 성남시가 제1호 노면전차 도시로 선정되기 위해 치열한 경쟁을 벌이고 있다.\",\n",
              " \"한국철도기술연구원의 '무가선 저상전차 실증노선 공모'에서 수원시와 성남시가 제1호 노면전차 도시로 선정되기 위해 치열한 경쟁을 벌이고 있다.\",\n",
              " \"한국철도기술연구원의 '무가선 저상전차 실증노선 공모'에서 수원시와 성남시가 제1호 노면전차 도시로 선정되기 위해 치열한 경쟁을 벌이고 있다.\",\n",
              " \"한국철도기술연구원의 '무가선 저상전차 실증노선 공모'에서 수원시와 성남시가 제1호 노면전차 도시로 선정되기 위해 치열한 경쟁을 벌이고 있다.\",\n",
              " \"위니아딤채는 '우리집 딤채를 소개합니다'를 주제로 제작한 2020년형 김치 냉장고 '딤채'의 광고 영상을 TV, 위니아딤채 홈페이지, 유튜브 채널, SNS에 공개했다고 26일 밝혔다.\",\n",
              " \"위니아딤채는 '우리집 딤채를 소개합니다'를 주제로 제작한 2020년형 김치 냉장고 '딤채'의 광고 영상을 TV, 위니아딤채 홈페이지, 유튜브 채널, SNS에 공개했다고 26일 밝혔다.\",\n",
              " \"위니아딤채는 '우리집 딤채를 소개합니다'를 주제로 제작한 2020년형 김치 냉장고 '딤채'의 광고 영상을 TV, 위니아딤채 홈페이지, 유튜브 채널, SNS에 공개했다고 26일 밝혔다.\",\n",
              " \"위니아딤채는 '우리집 딤채를 소개합니다'를 주제로 제작한 2020년형 김치 냉장고 '딤채'의 광고 영상을 TV, 위니아딤채 홈페이지, 유튜브 채널, SNS에 공개했다고 26일 밝혔다.\",\n",
              " \"위니아딤채는 '우리집 딤채를 소개합니다'를 주제로 제작한 2020년형 김치 냉장고 '딤채'의 광고 영상을 TV, 위니아딤채 홈페이지, 유튜브 채널, SNS에 공개했다고 26일 밝혔다.\",\n",
              " '제주도가 관광지 개발에서 이식한 곰솔 2000그루가 10년 만에 고사하자 제주도는 경미한 사항으로 보고 사업자가 무시하면 대체수종 이식만 권고해 사후관리가 부실하다는 비판을 받고 있다.',\n",
              " '제주도가 관광지 개발에서 이식한 곰솔 2000그루가 10년 만에 고사하자 제주도는 경미한 사항으로 보고 사업자가 이를 무시하면 대체수종 이식만 권고해 사후관리가 부실하다는 비판을 받았다.',\n",
              " '제주도가 관광지 개발에서 이식한 곰솔 2000그루가 10년 만에 고사하자 제주도는 경미한 사항으로 보고 사업자가 이를 무시하면 대체수종 이식만 권고해 사후관리가 부실하다는 비판을 받았다.',\n",
              " '제주도가 관광지 개발에서 이식한 곰솔 2000그루가 10년 만에 고사하자 제주도는 경미한 사항으로 보고 사업자가 이를 무시하면 대체수종 이식만 권고해 사후관리가 부실하다는 비판을 받았다.',\n",
              " '제주도가 관광지 개발에서 이식한 곰솔 2000그루가 10년 만에 고사하자 제주도는 경미한 사항으로 보고 사업자가 이를 무시하면 대체수종 이식만 권고해 사후관리가 부실하다는 비판을 받았다.',\n",
              " '3일 국토교통부에 따르면 정부는 2022년까지 사물인터넷(IoT) 센서를 통해 고속철도 구축물과 전기설비 정보를 수집·분석하는 빅데이터 센터를 구축하고, 23년부터는 IoT 센서가 수집한 정보를 바탕으로 설비 수명과 고장을 사전에 예측해 사고를 방지할 계획이며, 이를 위해 내년 상반기 정보화전략계획(ISP) 서비스를 실시한다.',\n",
              " '3일 국토교통부에 따르면 정부는 2022년까지 사물인터넷(IoT) 센서를 통해 고속철도 구축물과 전기설비 정보를 수집·분석하는 빅데이터 센터를 구축하고, 23년부터는 IoT 센서가 수집한 정보를 바탕으로 설비 수명과 고장을 사전에 예측해 사고를 방지할 계획이며, 이를 위해 내년 상반기 정보화전략계획(ISP) 서비스를 실시한다.',\n",
              " '3일 국토교통부에 따르면 정부는 2022년까지 사물인터넷(IoT) 센서를 통해 고속철도 구축물과 전기설비 정보를 수집·분석하는 빅데이터 센터를 구축하고, 23년부터는 IoT 센서가 수집한 정보를 바탕으로 설비 수명과 고장을 사전에 예측해 사고를 방지할 계획이며, 이를 위해 내년 상반기 정보화전략계획(ISP) 서비스를 실시한다.',\n",
              " '3일 국토교통부에 따르면 정부는 2022년까지 사물인터넷(IoT) 센서를 통해 고속철도 구축물과 전기설비 정보를 수집·분석하는 빅데이터 센터를 구축하고, 23년부터는 IoT 센서가 수집한 정보를 바탕으로 설비 수명과 고장을 사전에 예측해 사고를 방지할 계획이며, 이를 위해 내년 상반기 정보화전략계획(ISP) 서비스를 실시한다.',\n",
              " '3일 국토교통부에 따르면 정부는 2022년까지 사물인터넷(IoT) 센서를 통해 고속철도 구축물과 전기설비 정보를 수집·분석하는 빅데이터 센터를 구축하고, 23년부터는 IoT 센서가 수집한 정보를 바탕으로 설비 수명과 고장을 사전에 예측해 사고를 방지할 계획이며, 이를 위해 내년 상반기 정보화전략계획(ISP) 서비스를 실시한다.',\n",
              " '전주음식 보존과 계승을 위해 전주지역을 대표하는 맛집과 향토음식점 등 101개소의 조리법 등 전주시 음식 DNA가 담긴 타임캡슐이 후대에 전수된다.',\n",
              " '전주음식 보존과 계승을 위해 전주지역을 대표하는 맛집과 향토음식점 등 101곳의 조리법 등 전주시 음식 DNA가 담긴 타임캡슐이 후대에 전수된다.',\n",
              " '전주음식 보존과 계승을 위해 전주지역을 대표하는 맛집과 향토음식점 등 101곳의 조리법 등 전주시 음식 DNA가 담긴 타임캡슐이 후대에 전수된다.',\n",
              " '전주음식 보존과 계승을 위해 전주지역을 대표하는 맛집과 향토음식점 등 101곳의 조리법 등 전주시 음식 DNA가 담긴 타임캡슐이 후대에 전수된다.',\n",
              " '전주음식 보존과 계승을 위해 전주지역을 대표하는 맛집과 향토음식점 등 101곳의 조리법 등 전주시 음식 DNA가 담긴 타임캡슐이 후대에 전수된다.',\n",
              " '지난 2일 용인시는 피크시간대 전력소비를 줄이고 전력절약을 위해 인센티브를 받는 전력수요자원 거래시장에 용인정수장 등 상수도시설 5곳이 참여해 전력수급 안정화에 기여할 것으로 예상된다고 밝혔다.',\n",
              " '지난 2일 용인시는 피크시간대 전력소비를 줄이고 전기를 절약해 인센티브를 받는 전력수요자원 거래시장에 용인정수장 등 상수도시설 5곳이 참여해 전력수급 안정에 기여할 것으로 예상된다고 밝혔다.',\n",
              " '지난 2일 용인시는 피크시간대 전력소비를 줄이고 전기를 절약해 인센티브를 받는 전력수요자원 거래시장에 용인정수장 등 상수도시설 5곳이 참여해 전력수급 안정에 기여할 것으로 예상된다고 밝혔다.',\n",
              " '지난 2일 용인시는 피크시간대 전력소비를 줄이고 전기를 절약해 인센티브를 받는 전력수요자원 거래시장에 용인정수장 등 상수도시설 5곳이 참여해 전력수급 안정에 기여할 것으로 예상된다고 밝혔다.',\n",
              " '지난 2일 용인시는 피크시간대 전력소비를 줄이고 전기를 절약해 인센티브를 받는 전력수요자원 거래시장에 용인정수장 등 상수도시설 5곳이 참여해 전력수급 안정에 기여할 것으로 예상된다고 밝혔다.',\n",
              " \"해양수산부는 해양플라스틱 문제에 대한 국민적 관심 증진을 위해 오는 25일부터 다음달 11일까지 전 국민이 참여하는 '해양플라스틱 제로화' 캠페인을 추진하며, 참가자는 해양플라스틱 문제의 심각성, 해결 행동요령 등을 간결하게 표현한 슬로건을 제출해 공모전에 참여할 수 있다고 24일 밝혔다.\",\n",
              " \"해양수산부는 해양플라스틱 문제에 대한 국민적 관심 증진을 위해 오는 25일부터 다음달 11일까지 전 국민이 참여하는 '해양플라스틱 제로화' 캠페인을 추진하며, 참가자는 해양플라스틱 문제의 심각성, 해결 행동요령 등을 간결하게 표현한 슬로건을 제출해 공모전에 참여할 수 있다고 24일 밝혔다.\",\n",
              " \"해양수산부는 해양플라스틱 문제에 대한 국민적 관심 증진을 위해 오는 25일부터 다음달 11일까지 전 국민이 참여하는 '해양플라스틱 제로화' 캠페인을 추진하며, 참가자는 해양플라스틱 문제의 심각성, 해결 행동요령 등을 간결하게 표현한 슬로건을 제출해 공모전에 참여할 수 있다고 24일 밝혔다.\",\n",
              " \"해양수산부는 해양플라스틱 문제에 대한 국민적 관심 증진을 위해 오는 25일부터 다음달 11일까지 전 국민이 참여하는 '해양플라스틱 제로화' 캠페인을 추진하며, 참가자는 해양플라스틱 문제의 심각성, 해결 행동요령 등을 간결하게 표현한 슬로건을 제출해 공모전에 참여할 수 있다고 24일 밝혔다.\"]"
            ]
          },
          "execution_count": 41,
          "metadata": {},
          "output_type": "execute_result"
        }
      ],
      "source": [
        "train_5"
      ]
    },
    {
      "cell_type": "code",
      "execution_count": null,
      "metadata": {},
      "outputs": [],
      "source": []
    }
  ],
  "metadata": {
    "colab": {
      "provenance": []
    },
    "kernelspec": {
      "display_name": "mzp",
      "language": "python",
      "name": "mzp"
    },
    "language_info": {
      "codemirror_mode": {
        "name": "ipython",
        "version": 3
      },
      "file_extension": ".py",
      "mimetype": "text/x-python",
      "name": "python",
      "nbconvert_exporter": "python",
      "pygments_lexer": "ipython3",
      "version": "3.10.12"
    }
  },
  "nbformat": 4,
  "nbformat_minor": 0
}
