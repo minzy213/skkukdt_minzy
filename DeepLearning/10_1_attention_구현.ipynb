{
 "cells": [
  {
   "cell_type": "code",
   "execution_count": 1,
   "metadata": {},
   "outputs": [],
   "source": [
    "import re\n",
    "import os\n",
    "import unicodedata\n",
    "import urllib3\n",
    "import zipfile\n",
    "import shutil\n",
    "import numpy as np\n",
    "import pandas as pd\n",
    "import tensorflow as tf\n",
    "import matplotlib.pyplot as plt\n",
    "from tensorflow.keras.preprocessing.text import Tokenizer\n",
    "from tensorflow.keras.preprocessing.sequence import pad_sequences\n",
    "from tensorflow.keras.layers import Input, LSTM, Embedding, Dense, Attention, Flatten, Concatenate\n",
    "from tensorflow.keras.models import Model"
   ]
  },
  {
   "cell_type": "code",
   "execution_count": 2,
   "metadata": {},
   "outputs": [],
   "source": [
    "BATCH_SIZE = 64  # Batch size for training.\n",
    "EPOCHS = 100  # Number of epochs to train for.\n",
    "HIDDEN_DIM = 256  # Latent dimensionality of the encoding space.\n",
    "EMBEDDING_DIM = 64\n",
    "NUM_SAMPLES = 33000  # Number of samples to train on."
   ]
  },
  {
   "cell_type": "code",
   "execution_count": 3,
   "metadata": {},
   "outputs": [],
   "source": [
    "def unicode_to_ascii(s):\n",
    "    # 프랑스어 악센트(accent) 삭제\n",
    "    # 예시 : 'déjà diné' -> deja dine\n",
    "    return ''.join(c for c in unicodedata.normalize('NFD', s) if unicodedata.category(c) != 'Mn')"
   ]
  },
  {
   "cell_type": "code",
   "execution_count": 4,
   "metadata": {},
   "outputs": [],
   "source": [
    "def preprocess_sentence(sent):\n",
    "    # 악센트 삭제 함수 호출\n",
    "    sent = unicode_to_ascii(sent.lower())\n",
    "\n",
    "    # 단어와 구두점 사이에 공백을 만듭니다.\n",
    "    # Ex) \"he is a boy.\" => \"he is a boy .\"\n",
    "    sent = re.sub(r\"([?.!,¿])\", r\" \\1\", sent)\n",
    "\n",
    "    # (a-z, A-Z, \".\", \"?\", \"!\", \",\") 이들을 제외하고는 전부 공백으로 변환합니다.\n",
    "    sent = re.sub(r\"[^a-zA-Z!.?]+\", r\" \", sent)\n",
    "\n",
    "    # 다수 개의 공백을 하나의 공백으로 치환\n",
    "    sent = re.sub(r\"\\s+\", \" \", sent)\n",
    "    return sent"
   ]
  },
  {
   "cell_type": "code",
   "execution_count": 5,
   "metadata": {},
   "outputs": [
    {
     "name": "stdout",
     "output_type": "stream",
     "text": [
      "227815 ['Go.', 'Go.', 'Go.', 'Go.', 'Hi.', 'Hi.', 'Run!', 'Run!', 'Run!', 'Run!']\n",
      "227815 ['Va !', 'Marche.', 'En route !', 'Bouge !', 'Salut !', 'Salut.', 'Cours\\u202f!', 'Courez\\u202f!', 'Prenez vos jambes à vos cous !', 'File !']\n"
     ]
    }
   ],
   "source": [
    "# dataset\n",
    "eng_corpus, fra_corpus = [], []\n",
    "with open(r\"fra-eng\\fra.txt\", \"r\") as lines:\n",
    "    for i, line in enumerate(lines):\n",
    "        # source 데이터와 target 데이터 분리\n",
    "        tar_line, src_line, _ = line.strip().split('\\t')\n",
    "\n",
    "        eng_corpus.append(tar_line)\n",
    "        fra_corpus.append(src_line)\n",
    "\n",
    "print(len(eng_corpus), eng_corpus[:10])\n",
    "print(len(fra_corpus), fra_corpus[:10])"
   ]
  },
  {
   "cell_type": "code",
   "execution_count": 6,
   "metadata": {},
   "outputs": [
    {
     "name": "stdout",
     "output_type": "stream",
     "text": [
      "tar_line :  go .\n",
      "tar_line in :  ['<sos>', 'go', '.']\n",
      "tar_line out:  ['go', '.', '<eos>']\n"
     ]
    }
   ],
   "source": [
    "encoder_input, decoder_input, decoder_target = [], [], []\n",
    "\n",
    "for i, (src_line, tar_line) in enumerate(zip(fra_corpus, eng_corpus)):\n",
    "    # source 데이터 전처리\n",
    "    src_line = [w for w in preprocess_sentence(src_line).split()]\n",
    "\n",
    "    # target 데이터 전처리\n",
    "    tar_line = preprocess_sentence(tar_line)\n",
    "    print('tar_line : ', tar_line)\n",
    "\n",
    "    tar_line_in = [w for w in (\"<sos> \" + tar_line).split()]  # teacher forcing을 위한 정답셋\n",
    "    print('tar_line in : ', tar_line_in)\n",
    "\n",
    "    tar_line_out = [w for w in (tar_line + \" <eos>\").split()]\n",
    "    print('tar_line out: ', tar_line_out)\n",
    "\n",
    "    encoder_input.append(src_line) # 클리닝\n",
    "    decoder_input.append(tar_line_in) # 클리닝 + sos\n",
    "    decoder_target.append(tar_line_out) # 클리닝 + eos\n",
    "\n",
    "    if i == NUM_SAMPLES - 1:\n",
    "        break\n",
    "    break"
   ]
  },
  {
   "cell_type": "code",
   "execution_count": 7,
   "metadata": {},
   "outputs": [],
   "source": [
    "def load_preprocessed_data(eng_corpus, fra_corpus):\n",
    "    encoder_input, decoder_input, decoder_target = [], [], []\n",
    "\n",
    "    for i, (src_line, tar_line) in enumerate(zip(fra_corpus, eng_corpus)):\n",
    "        # source 데이터 전처리\n",
    "        src_line = [w for w in preprocess_sentence(src_line).split()]\n",
    "\n",
    "        # target 데이터 전처리\n",
    "        tar_line = preprocess_sentence(tar_line)\n",
    "        tar_line_in = [w for w in (\"<sos> \" + tar_line).split()]  # teacher forcing을 위한 정답셋\n",
    "        tar_line_out = [w for w in (tar_line + \" <eos>\").split()]\n",
    "\n",
    "        encoder_input.append(src_line) # 클리닝\n",
    "        decoder_input.append(tar_line_in) # 클리닝 + sos\n",
    "        decoder_target.append(tar_line_out) # 클리닝 + eos\n",
    "\n",
    "        if i == NUM_SAMPLES - 1:\n",
    "            break\n",
    "\n",
    "    return encoder_input, decoder_input, decoder_target"
   ]
  },
  {
   "cell_type": "code",
   "execution_count": 8,
   "metadata": {},
   "outputs": [],
   "source": [
    "sents_fra_in, sents_en_in, sents_en_out  = load_preprocessed_data(eng_corpus, fra_corpus)"
   ]
  },
  {
   "cell_type": "code",
   "execution_count": 9,
   "metadata": {},
   "outputs": [],
   "source": [
    "# 프랑스어 (encoder)\n",
    "tokenizer_enc = Tokenizer(filters=\"\", lower=False)\n",
    "tokenizer_enc.fit_on_texts(sents_fra_in)\n",
    "\n",
    "# 인코더 데이터\n",
    "encoder_input = tokenizer_enc.texts_to_sequences(sents_fra_in)"
   ]
  },
  {
   "cell_type": "code",
   "execution_count": 10,
   "metadata": {},
   "outputs": [],
   "source": [
    "# 영어 (decoder)\n",
    "tokenizer_dec = Tokenizer(filters=\"\", lower=False)\n",
    "tokenizer_dec.fit_on_texts(sents_en_in)\n",
    "tokenizer_dec.fit_on_texts(sents_en_out)\n",
    "\n",
    "# 디코더 데이터\n",
    "decoder_input = tokenizer_dec.texts_to_sequences(sents_en_in)\n",
    "decoder_target = tokenizer_dec.texts_to_sequences(sents_en_out)"
   ]
  },
  {
   "cell_type": "code",
   "execution_count": 11,
   "metadata": {},
   "outputs": [
    {
     "name": "stdout",
     "output_type": "stream",
     "text": [
      "프랑스어 단어 집합의 크기 : 7871, 영어 단어 집합의 크기 : 4483\n"
     ]
    }
   ],
   "source": [
    "SRC_VOCAB_SIZE = len(tokenizer_enc.word_index) + 1\n",
    "TAR_VOCAB_SIZE = len(tokenizer_dec.word_index) + 1\n",
    "\n",
    "print(f\"프랑스어 단어 집합의 크기 : {SRC_VOCAB_SIZE}, 영어 단어 집합의 크기 : {TAR_VOCAB_SIZE}\")"
   ]
  },
  {
   "cell_type": "code",
   "execution_count": 12,
   "metadata": {},
   "outputs": [],
   "source": [
    "encoder_input = pad_sequences(encoder_input, padding='post')\n",
    "decoder_input = pad_sequences(decoder_input, padding='post')\n",
    "decoder_target = pad_sequences(decoder_target, padding='post')\n",
    "\n",
    "MAX_ENC_LEN, MAX_DEC_LEN = encoder_input.shape[1], decoder_input.shape[1]"
   ]
  },
  {
   "cell_type": "code",
   "execution_count": 13,
   "metadata": {},
   "outputs": [],
   "source": [
    "src2idx = tokenizer_enc.word_index  # word : idx\n",
    "idx2src = tokenizer_enc.index_word  # idx : word\n",
    "tar2idx = tokenizer_dec.word_index # word : idx\n",
    "idx2tar = tokenizer_dec.index_word # idx : word"
   ]
  },
  {
   "cell_type": "code",
   "execution_count": 14,
   "metadata": {},
   "outputs": [
    {
     "name": "stdout",
     "output_type": "stream",
     "text": [
      "랜덤 시퀀스 : [23130  3311 18593 ... 12006 21967 26522]\n"
     ]
    }
   ],
   "source": [
    "# 랜덤 인덱스 생성\n",
    "indices = np.arange(encoder_input.shape[0])\n",
    "np.random.shuffle(indices)\n",
    "print('랜덤 시퀀스 :',indices)\n",
    "\n",
    "# 랜덤하게 섞기\n",
    "encoder_input = encoder_input[indices]\n",
    "decoder_input = decoder_input[indices]\n",
    "decoder_target = decoder_target[indices]"
   ]
  },
  {
   "cell_type": "code",
   "execution_count": 15,
   "metadata": {},
   "outputs": [],
   "source": [
    "n_of_val = int(NUM_SAMPLES*0.1) # 900\n",
    "\n",
    "# train data\n",
    "encoder_input_train = encoder_input[:-n_of_val]\n",
    "decoder_input_train = decoder_input[:-n_of_val]\n",
    "decoder_target_train = decoder_target[:-n_of_val]\n",
    "\n",
    "# test data\n",
    "encoder_input_test = encoder_input[-n_of_val:]\n",
    "decoder_input_test = decoder_input[-n_of_val:]\n",
    "decoder_target_test = decoder_target[-n_of_val:]"
   ]
  },
  {
   "cell_type": "markdown",
   "metadata": {},
   "source": [
    "### encoder, decoder modeling"
   ]
  },
  {
   "cell_type": "code",
   "execution_count": 16,
   "metadata": {},
   "outputs": [],
   "source": [
    "# 인코더 (Train)\n",
    "\n",
    "## 층\n",
    "enc_emb_layer = Embedding(SRC_VOCAB_SIZE, EMBEDDING_DIM)\n",
    "encoder_lstm = LSTM(HIDDEN_DIM, return_sequences=True, return_state = True) # 상태값 리턴을 위해 return_state는 True\n",
    "\n",
    "\n",
    "## input -> output\n",
    "encoder_inputs = Input(shape=(None, ))\n",
    "enc_emb = enc_emb_layer(encoder_inputs)\n",
    "encoder_outputs, state_h, state_c =  encoder_lstm(enc_emb)\n",
    "\n",
    "encoder_states = [state_h, state_c] # 인코더의 은닉 상태와 셀 상태를 리스트로 저장"
   ]
  },
  {
   "cell_type": "code",
   "execution_count": 17,
   "metadata": {},
   "outputs": [
    {
     "name": "stdout",
     "output_type": "stream",
     "text": [
      "KerasTensor(type_spec=TensorSpec(shape=(None, 8, 256), dtype=tf.float32, name=None), name='attention/MatMul_1:0', description=\"created by layer 'attention'\")\n",
      "KerasTensor(type_spec=TensorSpec(shape=(None, 8, 256), dtype=tf.float32, name=None), name='lstm_1/PartitionedCall:1', description=\"created by layer 'lstm_1'\")\n",
      "KerasTensor(type_spec=TensorSpec(shape=(None, 8, 256), dtype=tf.float32, name=None), name='attention/MatMul_1:0', description=\"created by layer 'attention'\")\n",
      "KerasTensor(type_spec=TensorSpec(shape=(None, 8, 4483), dtype=tf.float32, name=None), name='dense/Softmax:0', description=\"created by layer 'dense'\")\n"
     ]
    }
   ],
   "source": [
    "# 디코더 (Train)\n",
    "\n",
    "## 층\n",
    "#상태값 리턴을 위해 lstm layer return_state는 True, 모든 시점에 대해서 단어를 예측하기 위해 return_sequences는 True\n",
    "dec_emb_layer = Embedding(TAR_VOCAB_SIZE, HIDDEN_DIM)\n",
    "decoder_lstm = LSTM(HIDDEN_DIM, return_sequences=True, return_state = True)\n",
    "decoder_att_layer = Attention()\n",
    "decoder_flat_layer = Flatten()\n",
    "decoder_dense_layer = Dense(TAR_VOCAB_SIZE, activation = 'softmax')\n",
    "\n",
    "\n",
    "## input -> output\n",
    "# 인코더 RNN의 은닉 상태를 초기 은닉 상태(initial_state)로 사용\n",
    "decoder_inputs = Input(shape=(MAX_DEC_LEN, ))\n",
    "dec_emb = dec_emb_layer(decoder_inputs)\n",
    "decoder_outputs, _, _ = decoder_lstm(dec_emb, initial_state = encoder_states)\n",
    "# Attention, Flatten 추가\n",
    "decoder_att = decoder_att_layer([decoder_outputs, encoder_outputs])\n",
    "print(decoder_att)\n",
    "print(decoder_outputs)\n",
    "decoder_concat = Concatenate(axis = 2)([decoder_att, decoder_outputs])\n",
    "print(decoder_att)\n",
    "# decoder_flat = decoder_flat_layer(decoder_concat)\n",
    "# print(decoder_flat)\n",
    "\n",
    "# 모든 시점의 결과에 대해서 소프트맥스 함수를 사용한 출력층을 통해 단어 예측\n",
    "decoder_outputs = decoder_dense_layer(decoder_concat)\n",
    "print(decoder_outputs)"
   ]
  },
  {
   "cell_type": "code",
   "execution_count": 18,
   "metadata": {},
   "outputs": [
    {
     "data": {
      "text/plain": [
       "<KerasTensor: shape=(None, 8, 4483) dtype=float32 (created by layer 'dense')>"
      ]
     },
     "execution_count": 18,
     "metadata": {},
     "output_type": "execute_result"
    }
   ],
   "source": [
    "decoder_outputs"
   ]
  },
  {
   "cell_type": "code",
   "execution_count": 19,
   "metadata": {},
   "outputs": [
    {
     "data": {
      "text/plain": [
       "<KerasTensor: shape=(None, 8, 4483) dtype=float32 (created by layer 'dense')>"
      ]
     },
     "execution_count": 19,
     "metadata": {},
     "output_type": "execute_result"
    }
   ],
   "source": [
    "decoder_outputs"
   ]
  },
  {
   "cell_type": "code",
   "execution_count": 20,
   "metadata": {},
   "outputs": [
    {
     "name": "stdout",
     "output_type": "stream",
     "text": [
      "Model: \"model\"\n",
      "__________________________________________________________________________________________________\n",
      " Layer (type)                   Output Shape         Param #     Connected to                     \n",
      "==================================================================================================\n",
      " input_1 (InputLayer)           [(None, None)]       0           []                               \n",
      "                                                                                                  \n",
      " input_2 (InputLayer)           [(None, 8)]          0           []                               \n",
      "                                                                                                  \n",
      " embedding (Embedding)          (None, None, 64)     503744      ['input_1[0][0]']                \n",
      "                                                                                                  \n",
      " embedding_1 (Embedding)        (None, 8, 256)       1147648     ['input_2[0][0]']                \n",
      "                                                                                                  \n",
      " lstm (LSTM)                    [(None, None, 256),  328704      ['embedding[0][0]']              \n",
      "                                 (None, 256),                                                     \n",
      "                                 (None, 256)]                                                     \n",
      "                                                                                                  \n",
      " lstm_1 (LSTM)                  [(None, 8, 256),     525312      ['embedding_1[0][0]',            \n",
      "                                 (None, 256),                     'lstm[0][1]',                   \n",
      "                                 (None, 256)]                     'lstm[0][2]']                   \n",
      "                                                                                                  \n",
      " attention (Attention)          (None, 8, 256)       0           ['lstm_1[0][0]',                 \n",
      "                                                                  'lstm[0][0]']                   \n",
      "                                                                                                  \n",
      " concatenate (Concatenate)      (None, 8, 512)       0           ['attention[0][0]',              \n",
      "                                                                  'lstm_1[0][0]']                 \n",
      "                                                                                                  \n",
      " dense (Dense)                  (None, 8, 4483)      2299779     ['concatenate[0][0]']            \n",
      "                                                                                                  \n",
      "==================================================================================================\n",
      "Total params: 4,805,187\n",
      "Trainable params: 4,805,187\n",
      "Non-trainable params: 0\n",
      "__________________________________________________________________________________________________\n"
     ]
    }
   ],
   "source": [
    "# 모델의 입력과 출력을 정의.\n",
    "model = Model(inputs = [encoder_inputs, decoder_inputs], outputs = decoder_outputs)\n",
    "model.compile(optimizer='adam', loss='sparse_categorical_crossentropy', metrics=['acc'])\n",
    "model.summary()"
   ]
  },
  {
   "cell_type": "code",
   "execution_count": 21,
   "metadata": {},
   "outputs": [
    {
     "data": {
      "image/png": "[encoded data removed]",
      "text/plain": [
       "<IPython.core.display.Image object>"
      ]
     },
     "execution_count": 21,
     "metadata": {},
     "output_type": "execute_result"
    }
   ],
   "source": [
    "tf.keras.utils.plot_model(model, to_file='model.png', )"
   ]
  },
  {
   "cell_type": "code",
   "execution_count": 22,
   "metadata": {},
   "outputs": [
    {
     "name": "stdout",
     "output_type": "stream",
     "text": [
      "465/465 [==============================] - 33s 64ms/step - loss: 2.6506 - acc: 0.5799 - val_loss: 2.1551 - val_acc: 0.6385\n"
     ]
    }
   ],
   "source": [
    "earlystopping = tf.keras.callbacks.EarlyStopping(monitor='val_loss', restore_best_weights=True, patience=3)\n",
    "\n",
    "history = model.fit(x = [encoder_input_train, decoder_input_train],\n",
    "                    y = decoder_target_train,\n",
    "                    validation_data = ([encoder_input_test, decoder_input_test], decoder_target_test),\n",
    "                    batch_size = BATCH_SIZE, callbacks = [earlystopping], epochs = 1)"
   ]
  },
  {
   "cell_type": "code",
   "execution_count": 23,
   "metadata": {},
   "outputs": [
    {
     "data": {
      "image/png": "[encoded data removed]",
      "text/plain": [
       "<Figure size 1200x600 with 2 Axes>"
      ]
     },
     "metadata": {},
     "output_type": "display_data"
    }
   ],
   "source": [
    "def plot_history(history):\n",
    "    hist = pd.DataFrame(history.history)\n",
    "    hist['epoch'] = history.epoch\n",
    "\n",
    "    plt.figure(figsize=(12, 6))\n",
    "\n",
    "    plt.subplot(1,2,1)\n",
    "    plt.xlabel('Epoch')\n",
    "    plt.ylabel('Loss')\n",
    "    plt.plot(hist['epoch'], hist['loss'], label='Train Loss')\n",
    "    plt.plot(hist['epoch'], hist['val_loss'], label = 'Val Loss')\n",
    "    plt.ylim([0,5])\n",
    "    plt.legend()\n",
    "\n",
    "    plt.subplot(1,2,2)\n",
    "    plt.xlabel('Epoch')\n",
    "    plt.ylabel('Accuracy')\n",
    "    plt.plot(hist['epoch'], hist['acc'], label='Train Acc')\n",
    "    plt.plot(hist['epoch'], hist['val_acc'], label = 'Val Acc')\n",
    "    plt.ylim([0,20])\n",
    "    plt.legend()\n",
    "    plt.show()\n",
    "\n",
    "plot_history(history)"
   ]
  },
  {
   "cell_type": "code",
   "execution_count": 24,
   "metadata": {},
   "outputs": [],
   "source": [
    "### 번역기 만들기"
   ]
  },
  {
   "cell_type": "code",
   "execution_count": 25,
   "metadata": {},
   "outputs": [],
   "source": [
    "# 인코더 - 훈련과 동일\n",
    "encoder_model = Model(encoder_inputs, encoder_states)"
   ]
  },
  {
   "cell_type": "code",
   "execution_count": 33,
   "metadata": {},
   "outputs": [
    {
     "ename": "ValueError",
     "evalue": "Exception encountered when calling layer \"dense\" (type Dense).\n\nDimensions must be equal, but are 4096 and 512 for '{{node dense/MatMul}} = MatMul[T=DT_FLOAT, transpose_a=false, transpose_b=false](Placeholder, dense/MatMul/ReadVariableOp)' with input shapes: [?,4096], [512,4483].\n\nCall arguments received by layer \"dense\" (type Dense):\n  • inputs=tf.Tensor(shape=(None, 4096), dtype=float32)",
     "output_type": "error",
     "traceback": [
      "\u001b[1;31m---------------------------------------------------------------------------\u001b[0m",
      "\u001b[1;31mValueError\u001b[0m                                Traceback (most recent call last)",
      "Cell \u001b[1;32mIn[33], line 20\u001b[0m\n\u001b[0;32m     18\u001b[0m conc \u001b[39m=\u001b[39m Concatenate(axis \u001b[39m=\u001b[39m \u001b[39m2\u001b[39m)([x, decoder_att])\n\u001b[0;32m     19\u001b[0m flatt \u001b[39m=\u001b[39m decoder_flat_layer(conc)\n\u001b[1;32m---> 20\u001b[0m x \u001b[39m=\u001b[39m decoder_dense_layer(flatt)\n\u001b[0;32m     22\u001b[0m \u001b[39m# 수정된 디코더\u001b[39;00m\n\u001b[0;32m     23\u001b[0m decoder_model \u001b[39m=\u001b[39m Model(\n\u001b[0;32m     24\u001b[0m     inputs \u001b[39m=\u001b[39m [decoder_inputs] \u001b[39m+\u001b[39m decoder_states_inputs,\n\u001b[0;32m     25\u001b[0m     outputs \u001b[39m=\u001b[39m [x] \u001b[39m+\u001b[39m decoder_states2)\n",
      "File \u001b[1;32mc:\\Users\\user\\anaconda3\\envs\\mzp\\lib\\site-packages\\keras\\utils\\traceback_utils.py:70\u001b[0m, in \u001b[0;36mfilter_traceback.<locals>.error_handler\u001b[1;34m(*args, **kwargs)\u001b[0m\n\u001b[0;32m     67\u001b[0m     filtered_tb \u001b[39m=\u001b[39m _process_traceback_frames(e\u001b[39m.\u001b[39m__traceback__)\n\u001b[0;32m     68\u001b[0m     \u001b[39m# To get the full stack trace, call:\u001b[39;00m\n\u001b[0;32m     69\u001b[0m     \u001b[39m# `tf.debugging.disable_traceback_filtering()`\u001b[39;00m\n\u001b[1;32m---> 70\u001b[0m     \u001b[39mraise\u001b[39;00m e\u001b[39m.\u001b[39mwith_traceback(filtered_tb) \u001b[39mfrom\u001b[39;00m \u001b[39mNone\u001b[39;00m\n\u001b[0;32m     71\u001b[0m \u001b[39mfinally\u001b[39;00m:\n\u001b[0;32m     72\u001b[0m     \u001b[39mdel\u001b[39;00m filtered_tb\n",
      "File \u001b[1;32mc:\\Users\\user\\anaconda3\\envs\\mzp\\lib\\site-packages\\tensorflow\\python\\framework\\ops.py:1969\u001b[0m, in \u001b[0;36m_create_c_op\u001b[1;34m(graph, node_def, inputs, control_inputs, op_def, extract_traceback)\u001b[0m\n\u001b[0;32m   1966\u001b[0m   c_op \u001b[39m=\u001b[39m pywrap_tf_session\u001b[39m.\u001b[39mTF_FinishOperation(op_desc)\n\u001b[0;32m   1967\u001b[0m \u001b[39mexcept\u001b[39;00m errors\u001b[39m.\u001b[39mInvalidArgumentError \u001b[39mas\u001b[39;00m e:\n\u001b[0;32m   1968\u001b[0m   \u001b[39m# Convert to ValueError for backwards compatibility.\u001b[39;00m\n\u001b[1;32m-> 1969\u001b[0m   \u001b[39mraise\u001b[39;00m \u001b[39mValueError\u001b[39;00m(e\u001b[39m.\u001b[39mmessage)\n\u001b[0;32m   1971\u001b[0m \u001b[39m# Record the current Python stack trace as the creating stacktrace of this\u001b[39;00m\n\u001b[0;32m   1972\u001b[0m \u001b[39m# TF_Operation.\u001b[39;00m\n\u001b[0;32m   1973\u001b[0m \u001b[39mif\u001b[39;00m extract_traceback:\n",
      "\u001b[1;31mValueError\u001b[0m: Exception encountered when calling layer \"dense\" (type Dense).\n\nDimensions must be equal, but are 4096 and 512 for '{{node dense/MatMul}} = MatMul[T=DT_FLOAT, transpose_a=false, transpose_b=false](Placeholder, dense/MatMul/ReadVariableOp)' with input shapes: [?,4096], [512,4483].\n\nCall arguments received by layer \"dense\" (type Dense):\n  • inputs=tf.Tensor(shape=(None, 4096), dtype=float32)"
     ]
    }
   ],
   "source": [
    "# 디코더 (Predict)\n",
    "\n",
    "# Input Tensors : 이전 시점의 상태를 보관할 텐서\n",
    "decoder_input_h = Input(shape=(HIDDEN_DIM,))\n",
    "decoder_input_c = Input(shape=(HIDDEN_DIM,))\n",
    "\n",
    "decoder_states_inputs = [decoder_input_h, decoder_input_c]\n",
    "\n",
    "# 훈련 때 사용했던 임베딩 층을 재사용\n",
    "x = dec_emb_layer(decoder_inputs)\n",
    "\n",
    "# 다음 단어 예측을 위해 이전 시점의 상태를 현 시점의 초기 상태로 사용\n",
    "x, state_h2, state_c2 = decoder_lstm(x, initial_state=decoder_states_inputs)\n",
    "decoder_states2 = [state_h2, state_c2]\n",
    "decoder_att = decoder_att_layer([x, encoder_outputs])\n",
    "\n",
    "# 모든 시점에 대해서 단어 예측 (Fully Connected)\n",
    "conc = Concatenate(axis = 2)([x, decoder_att])\n",
    "flatt = decoder_flat_layer(conc)\n",
    "x = decoder_dense_layer(flatt)\n",
    "\n",
    "# 수정된 디코더\n",
    "decoder_model = Model(\n",
    "    inputs = [decoder_inputs] + decoder_states_inputs,\n",
    "    outputs = [x] + decoder_states2)"
   ]
  },
  {
   "cell_type": "code",
   "execution_count": 28,
   "metadata": {},
   "outputs": [
    {
     "data": {
      "image/png": "[encoded data removed]",
      "text/plain": [
       "<IPython.core.display.Image object>"
      ]
     },
     "execution_count": 28,
     "metadata": {},
     "output_type": "execute_result"
    }
   ],
   "source": [
    "tf.keras.utils.plot_model(encoder_model)"
   ]
  },
  {
   "cell_type": "code",
   "execution_count": 29,
   "metadata": {},
   "outputs": [
    {
     "data": {
      "image/png": "[encoded data removed]",
      "text/plain": [
       "<IPython.core.display.Image object>"
      ]
     },
     "execution_count": 29,
     "metadata": {},
     "output_type": "execute_result"
    }
   ],
   "source": [
    "# 디코더 모델 시각화\n",
    "tf.keras.utils.plot_model(decoder_model, show_shapes = True)"
   ]
  },
  {
   "cell_type": "code",
   "execution_count": 30,
   "metadata": {},
   "outputs": [],
   "source": [
    "def translate(sentence):\n",
    "    sentence = preprocess_sentence(sentence)\n",
    "    tokens = sentence.split(\" \")\n",
    "\n",
    "    # 입력 문장 토큰 -> 라벨링\n",
    "    enc_input = tokenizer_enc.texts_to_sequences([tokens])\n",
    "\n",
    "    # 입력 문장 라벨링 -> 패딩\n",
    "    enc_input = tf.keras.preprocessing.sequence.pad_sequences(enc_input, maxlen=MAX_ENC_LEN, padding='post')\n",
    "    states_value = encoder_model.predict(enc_input)\n",
    "\n",
    "    # Decoder input인 <SOS>에 해당하는 정수 생성\n",
    "    target_seq = np.zeros((1,1))\n",
    "    target_seq[0, 0] = tar2idx['<sos>']\n",
    "\n",
    "\n",
    "    # prediction 시작\n",
    "        # stop_condition이 True가 될 때까지 루프 반복\n",
    "        # 구현의 간소화를 위해서 이 함수는 배치 크기를 1로 가정합니다.\n",
    "    stop_condition = False\n",
    "    decoded_sentence = ''\n",
    "\n",
    "    for t in range(MAX_DEC_LEN):\n",
    "\n",
    "        # 이점 시점의 상태 states_value를 현 시점의 초기 상태로 사용\n",
    "        output_tokens, h, c = decoder_model.predict([target_seq] + states_value, verbose = 0)\n",
    "\n",
    "        # 예측 결과를 단어로 변환\n",
    "        result_token_index = np.argmax(output_tokens[0, -1, :])\n",
    "        result_word = idx2tar[result_token_index]\n",
    "\n",
    "        # 현재 시점의 예측 단어를 예측 문장에 추가\n",
    "        decoded_sentence += ' '+result_word\n",
    "\n",
    "        # 현재 시점의 예측 결과 -> 다음 시점의 입력으로 업데이트\n",
    "        target_seq = np.zeros((1,1))\n",
    "        target_seq[0, 0] = result_token_index\n",
    "\n",
    "        # 현재 시점의 상태 ->  다음 시점의 상태로 업데이트\n",
    "        states_value = [h, c]\n",
    "\n",
    "        #  Stop condition <eos>에 도달하면 중단.\n",
    "        if result_word == '<eos>':\n",
    "            break\n",
    "\n",
    "    return decoded_sentence.strip(' <eos>')"
   ]
  },
  {
   "cell_type": "code",
   "execution_count": 31,
   "metadata": {},
   "outputs": [
    {
     "name": "stdout",
     "output_type": "stream",
     "text": [
      "1/1 [==============================] - 0s 396ms/step\n",
      "WARNING:tensorflow:Model was constructed with shape (None, 8) for input KerasTensor(type_spec=TensorSpec(shape=(None, 8), dtype=tf.float32, name='input_2'), name='input_2', description=\"created by layer 'input_2'\"), but it was called on an input with incompatible shape (None, 1).\n"
     ]
    },
    {
     "ename": "ValueError",
     "evalue": "in user code:\n\n    File \"c:\\Users\\user\\anaconda3\\envs\\mzp\\lib\\site-packages\\keras\\engine\\training.py\", line 2041, in predict_function  *\n        return step_function(self, iterator)\n    File \"c:\\Users\\user\\anaconda3\\envs\\mzp\\lib\\site-packages\\keras\\engine\\training.py\", line 2027, in step_function  **\n        outputs = model.distribute_strategy.run(run_step, args=(data,))\n    File \"c:\\Users\\user\\anaconda3\\envs\\mzp\\lib\\site-packages\\keras\\engine\\training.py\", line 2015, in run_step  **\n        outputs = model.predict_step(data)\n    File \"c:\\Users\\user\\anaconda3\\envs\\mzp\\lib\\site-packages\\keras\\engine\\training.py\", line 1983, in predict_step\n        return self(x, training=False)\n    File \"c:\\Users\\user\\anaconda3\\envs\\mzp\\lib\\site-packages\\keras\\utils\\traceback_utils.py\", line 70, in error_handler\n        raise e.with_traceback(filtered_tb) from None\n    File \"c:\\Users\\user\\anaconda3\\envs\\mzp\\lib\\site-packages\\keras\\engine\\input_spec.py\", line 277, in assert_input_compatibility\n        raise ValueError(\n\n    ValueError: Exception encountered when calling layer \"model_2\" \"                 f\"(type Functional).\n    \n    Input 0 of layer \"dense\" is incompatible with the layer: expected axis -1 of input shape to have value 512, but received input with shape (None, 1, 256)\n    \n    Call arguments received by layer \"model_2\" \"                 f\"(type Functional):\n      • inputs=('tf.Tensor(shape=(None, 1), dtype=float32)', 'tf.Tensor(shape=(None, 256), dtype=float32)', 'tf.Tensor(shape=(None, 256), dtype=float32)')\n      • training=False\n      • mask=None\n",
     "output_type": "error",
     "traceback": [
      "\u001b[1;31m---------------------------------------------------------------------------\u001b[0m",
      "\u001b[1;31mValueError\u001b[0m                                Traceback (most recent call last)",
      "Cell \u001b[1;32mIn[31], line 10\u001b[0m\n\u001b[0;32m      8\u001b[0m test_sentence \u001b[39m=\u001b[39m fra_corpus[idx]\n\u001b[0;32m      9\u001b[0m answer_sentence \u001b[39m=\u001b[39m eng_corpus[idx]\n\u001b[1;32m---> 10\u001b[0m decoded_sentence \u001b[39m=\u001b[39m translate(test_sentence)\n\u001b[0;32m     12\u001b[0m \u001b[39mprint\u001b[39m(\u001b[39m\"\u001b[39m\u001b[39m입력문장 :\u001b[39m\u001b[39m\"\u001b[39m, test_sentence)\n\u001b[0;32m     13\u001b[0m \u001b[39mprint\u001b[39m(\u001b[39m\"\u001b[39m\u001b[39m정답문장 :\u001b[39m\u001b[39m\"\u001b[39m, answer_sentence)\n",
      "Cell \u001b[1;32mIn[30], line 26\u001b[0m, in \u001b[0;36mtranslate\u001b[1;34m(sentence)\u001b[0m\n\u001b[0;32m     21\u001b[0m decoded_sentence \u001b[39m=\u001b[39m \u001b[39m'\u001b[39m\u001b[39m'\u001b[39m\n\u001b[0;32m     23\u001b[0m \u001b[39mfor\u001b[39;00m t \u001b[39min\u001b[39;00m \u001b[39mrange\u001b[39m(MAX_DEC_LEN):\n\u001b[0;32m     24\u001b[0m \n\u001b[0;32m     25\u001b[0m     \u001b[39m# 이점 시점의 상태 states_value를 현 시점의 초기 상태로 사용\u001b[39;00m\n\u001b[1;32m---> 26\u001b[0m     output_tokens, h, c \u001b[39m=\u001b[39m decoder_model\u001b[39m.\u001b[39;49mpredict([target_seq] \u001b[39m+\u001b[39;49m states_value, verbose \u001b[39m=\u001b[39;49m \u001b[39m0\u001b[39;49m)\n\u001b[0;32m     28\u001b[0m     \u001b[39m# 예측 결과를 단어로 변환\u001b[39;00m\n\u001b[0;32m     29\u001b[0m     result_token_index \u001b[39m=\u001b[39m np\u001b[39m.\u001b[39margmax(output_tokens[\u001b[39m0\u001b[39m, \u001b[39m-\u001b[39m\u001b[39m1\u001b[39m, :])\n",
      "File \u001b[1;32mc:\\Users\\user\\anaconda3\\envs\\mzp\\lib\\site-packages\\keras\\utils\\traceback_utils.py:70\u001b[0m, in \u001b[0;36mfilter_traceback.<locals>.error_handler\u001b[1;34m(*args, **kwargs)\u001b[0m\n\u001b[0;32m     67\u001b[0m     filtered_tb \u001b[39m=\u001b[39m _process_traceback_frames(e\u001b[39m.\u001b[39m__traceback__)\n\u001b[0;32m     68\u001b[0m     \u001b[39m# To get the full stack trace, call:\u001b[39;00m\n\u001b[0;32m     69\u001b[0m     \u001b[39m# `tf.debugging.disable_traceback_filtering()`\u001b[39;00m\n\u001b[1;32m---> 70\u001b[0m     \u001b[39mraise\u001b[39;00m e\u001b[39m.\u001b[39mwith_traceback(filtered_tb) \u001b[39mfrom\u001b[39;00m \u001b[39mNone\u001b[39;00m\n\u001b[0;32m     71\u001b[0m \u001b[39mfinally\u001b[39;00m:\n\u001b[0;32m     72\u001b[0m     \u001b[39mdel\u001b[39;00m filtered_tb\n",
      "File \u001b[1;32m~\\AppData\\Local\\Temp\\__autograph_generated_filecociharj.py:15\u001b[0m, in \u001b[0;36mouter_factory.<locals>.inner_factory.<locals>.tf__predict_function\u001b[1;34m(iterator)\u001b[0m\n\u001b[0;32m     13\u001b[0m \u001b[39mtry\u001b[39;00m:\n\u001b[0;32m     14\u001b[0m     do_return \u001b[39m=\u001b[39m \u001b[39mTrue\u001b[39;00m\n\u001b[1;32m---> 15\u001b[0m     retval_ \u001b[39m=\u001b[39m ag__\u001b[39m.\u001b[39mconverted_call(ag__\u001b[39m.\u001b[39mld(step_function), (ag__\u001b[39m.\u001b[39mld(\u001b[39mself\u001b[39m), ag__\u001b[39m.\u001b[39mld(iterator)), \u001b[39mNone\u001b[39;00m, fscope)\n\u001b[0;32m     16\u001b[0m \u001b[39mexcept\u001b[39;00m:\n\u001b[0;32m     17\u001b[0m     do_return \u001b[39m=\u001b[39m \u001b[39mFalse\u001b[39;00m\n",
      "\u001b[1;31mValueError\u001b[0m: in user code:\n\n    File \"c:\\Users\\user\\anaconda3\\envs\\mzp\\lib\\site-packages\\keras\\engine\\training.py\", line 2041, in predict_function  *\n        return step_function(self, iterator)\n    File \"c:\\Users\\user\\anaconda3\\envs\\mzp\\lib\\site-packages\\keras\\engine\\training.py\", line 2027, in step_function  **\n        outputs = model.distribute_strategy.run(run_step, args=(data,))\n    File \"c:\\Users\\user\\anaconda3\\envs\\mzp\\lib\\site-packages\\keras\\engine\\training.py\", line 2015, in run_step  **\n        outputs = model.predict_step(data)\n    File \"c:\\Users\\user\\anaconda3\\envs\\mzp\\lib\\site-packages\\keras\\engine\\training.py\", line 1983, in predict_step\n        return self(x, training=False)\n    File \"c:\\Users\\user\\anaconda3\\envs\\mzp\\lib\\site-packages\\keras\\utils\\traceback_utils.py\", line 70, in error_handler\n        raise e.with_traceback(filtered_tb) from None\n    File \"c:\\Users\\user\\anaconda3\\envs\\mzp\\lib\\site-packages\\keras\\engine\\input_spec.py\", line 277, in assert_input_compatibility\n        raise ValueError(\n\n    ValueError: Exception encountered when calling layer \"model_2\" \"                 f\"(type Functional).\n    \n    Input 0 of layer \"dense\" is incompatible with the layer: expected axis -1 of input shape to have value 512, but received input with shape (None, 1, 256)\n    \n    Call arguments received by layer \"model_2\" \"                 f\"(type Functional):\n      • inputs=('tf.Tensor(shape=(None, 1), dtype=float32)', 'tf.Tensor(shape=(None, 256), dtype=float32)', 'tf.Tensor(shape=(None, 256), dtype=float32)')\n      • training=False\n      • mask=None\n"
     ]
    }
   ],
   "source": [
    "train_idx = indices[:-n_of_val]\n",
    "test_idx = indices[-n_of_val:]\n",
    "n_samples = 5\n",
    "np.random.choice(train_idx, n_samples)\n",
    "# train data - translate\n",
    "n_samples = 5\n",
    "for idx in np.random.choice(train_idx, n_samples):\n",
    "    test_sentence = fra_corpus[idx]\n",
    "    answer_sentence = eng_corpus[idx]\n",
    "    decoded_sentence = translate(test_sentence)\n",
    "\n",
    "    print(\"입력문장 :\", test_sentence)\n",
    "    print(\"정답문장 :\", answer_sentence)\n",
    "    print(\"번역문장 :\", decoded_sentence)\n",
    "    print(\"-\"*50)"
   ]
  },
  {
   "cell_type": "code",
   "execution_count": null,
   "metadata": {},
   "outputs": [],
   "source": []
  }
 ],
 "metadata": {
  "kernelspec": {
   "display_name": "mzp",
   "language": "python",
   "name": "mzp"
  },
  "language_info": {
   "codemirror_mode": {
    "name": "ipython",
    "version": 3
   },
   "file_extension": ".py",
   "mimetype": "text/x-python",
   "name": "python",
   "nbconvert_exporter": "python",
   "pygments_lexer": "ipython3",
   "version": "3.10.12"
  },
  "orig_nbformat": 4
 },
 "nbformat": 4,
 "nbformat_minor": 2
}
