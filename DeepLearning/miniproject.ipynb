{
 "cells": [
  {
   "cell_type": "markdown",
   "metadata": {},
   "source": [
    "텍스트 요약, 기계번역, 챗봇   \n",
    "논문을 요약해준다, 판결문을 요약해준다    \n",
    "상담심리챗봇, 특정 주제를 가지고 있는 챗봇    \n",
    "번역    \n",
    "\n",
    "퀄리티가 높아 보여야 한다.    \n",
    "- 기획이 잘 되어야 하고,    \n",
    "- 자료가 잘 만들어 져야 한다.   \n",
    "\n",
    "(코테, ML테스트) + 서류, 면접    \n",
    "포트폴리오.     \n",
    "3단계 포트폴리오 몇개? 목표는 3단계 3개.   \n",
    "1단계 : 학습목적. 우리가 하고있는거.    \n",
    "(2단계) : 3단계 노렸는데 달성 못한 3단계    \n",
    "3단계 : 실무 수준.    \n",
    "    - 자유 : 실무자에게 고평가 받는다.   \n",
    "    - 대회 : 수상. 캐글 동메달, 데이콘 상금권.   \n"
   ]
  },
  {
   "cell_type": "markdown",
   "metadata": {},
   "source": []
  },
  {
   "cell_type": "code",
   "execution_count": 1,
   "metadata": {},
   "outputs": [
    {
     "data": {
      "text/html": [
       "<div>\n",
       "<style scoped>\n",
       "    .dataframe tbody tr th:only-of-type {\n",
       "        vertical-align: middle;\n",
       "    }\n",
       "\n",
       "    .dataframe tbody tr th {\n",
       "        vertical-align: top;\n",
       "    }\n",
       "\n",
       "    .dataframe thead th {\n",
       "        text-align: right;\n",
       "    }\n",
       "</style>\n",
       "<table border=\"1\" class=\"dataframe\">\n",
       "  <thead>\n",
       "    <tr style=\"text-align: right;\">\n",
       "      <th></th>\n",
       "      <th>type</th>\n",
       "      <th>posts</th>\n",
       "    </tr>\n",
       "  </thead>\n",
       "  <tbody>\n",
       "    <tr>\n",
       "      <th>0</th>\n",
       "      <td>isfj</td>\n",
       "      <td>[1, 2, 3]</td>\n",
       "    </tr>\n",
       "    <tr>\n",
       "      <th>1</th>\n",
       "      <td>enfp</td>\n",
       "      <td>[4, 5, 6]</td>\n",
       "    </tr>\n",
       "  </tbody>\n",
       "</table>\n",
       "</div>"
      ],
      "text/plain": [
       "   type      posts\n",
       "0  isfj  [1, 2, 3]\n",
       "1  enfp  [4, 5, 6]"
      ]
     },
     "execution_count": 1,
     "metadata": {},
     "output_type": "execute_result"
    }
   ],
   "source": [
    "import pandas as pd\n",
    "mbti_df = pd.DataFrame([['isfj', ['1', '2', '3']], [\n",
    "                       'enfp', ['4', '5', '6']]], columns=['type', 'posts'])\n",
    "mbti_df\n"
   ]
  },
  {
   "cell_type": "code",
   "execution_count": 17,
   "metadata": {},
   "outputs": [
    {
     "data": {
      "text/plain": [
       "[[['isfj', '1'], ['isfj', '2'], ['isfj', '3']],\n",
       " [['enfp', '4'], ['enfp', '5'], ['enfp', '6']]]"
      ]
     },
     "execution_count": 17,
     "metadata": {},
     "output_type": "execute_result"
    }
   ],
   "source": [
    "b = [[[mbti_df['type'][j], i] for i in mbti_df['posts'][j]]\n",
    "     for j in range(len(mbti_df))]\n",
    "b\n"
   ]
  },
  {
   "cell_type": "code",
   "execution_count": 4,
   "metadata": {},
   "outputs": [],
   "source": [
    "j = 0\n"
   ]
  }
 ],
 "metadata": {
  "kernelspec": {
   "display_name": "selenium",
   "language": "python",
   "name": "my_python_env2"
  },
  "language_info": {
   "codemirror_mode": {
    "name": "ipython",
    "version": 3
   },
   "file_extension": ".py",
   "mimetype": "text/x-python",
   "name": "python",
   "nbconvert_exporter": "python",
   "pygments_lexer": "ipython3",
   "version": "3.10.12"
  },
  "orig_nbformat": 4
 },
 "nbformat": 4,
 "nbformat_minor": 2
}
