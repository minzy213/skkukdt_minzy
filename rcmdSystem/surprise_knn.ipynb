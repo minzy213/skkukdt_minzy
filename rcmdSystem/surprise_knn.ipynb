{
 "cells": [
  {
   "cell_type": "code",
   "execution_count": 1,
   "metadata": {},
   "outputs": [],
   "source": [
    "import pandas as pd\n",
    "import matplotlib.pyplot as plt\n",
    "import numpy as np"
   ]
  },
  {
   "cell_type": "code",
   "execution_count": 2,
   "metadata": {},
   "outputs": [],
   "source": [
    "# 파일 읽어오기\n",
    "rating_df = pd.read_csv('u.data', sep='\\t', header=None, names = ['userID', 'movieID', 'rating', 'timestamp'])"
   ]
  },
  {
   "cell_type": "code",
   "execution_count": 21,
   "metadata": {},
   "outputs": [],
   "source": [
    "# Reader = 읽기 위한 객체, 이걸로 rating_df를 dataset으로 읽어온다.\n",
    "from surprise import Dataset, Reader\n",
    "\n",
    "rdr = Reader(line_format=\"user item rating\", sep=\"\\t\") ## 반드시 사용자-아이템-평점 순서로\n",
    "data = Dataset.load_from_df(rating_df[['userID', 'movieID', 'rating']], reader=rdr)"
   ]
  },
  {
   "cell_type": "code",
   "execution_count": null,
   "metadata": {},
   "outputs": [],
   "source": [
    "# split\n",
    "from surprise.model_selection import train_test_split\n",
    "trainset, testset = train_test_split(data, test_size=0.2, random_state=1004)\n",
    "testset"
   ]
  },
  {
   "cell_type": "markdown",
   "metadata": {},
   "source": [
    "## KNN으로 추천시스템 맛보기"
   ]
  },
  {
   "cell_type": "code",
   "execution_count": 24,
   "metadata": {},
   "outputs": [
    {
     "name": "stdout",
     "output_type": "stream",
     "text": [
      "Computing the msd similarity matrix...\n",
      "Done computing similarity matrix.\n"
     ]
    },
    {
     "data": {
      "text/plain": [
       "<surprise.prediction_algorithms.knns.KNNBasic at 0x26e105f9330>"
      ]
     },
     "execution_count": 24,
     "metadata": {},
     "output_type": "execute_result"
    }
   ],
   "source": [
    "# KNN 모델 불러와서 fit\n",
    "from surprise import KNNBasic\n",
    "recom_sys = KNNBasic()\n",
    "recom_sys.fit(trainset)"
   ]
  },
  {
   "cell_type": "code",
   "execution_count": 25,
   "metadata": {},
   "outputs": [
    {
     "data": {
      "text/plain": [
       "[Prediction(uid=741, iid=281, r_ui=2.0, est=3.0157043977599276, details={'actual_k': 40, 'was_impossible': False}),\n",
       " Prediction(uid=815, iid=1039, r_ui=5.0, est=4.189696979582676, details={'actual_k': 40, 'was_impossible': False}),\n",
       " Prediction(uid=859, iid=275, r_ui=3.0, est=4.179615056742424, details={'actual_k': 40, 'was_impossible': False}),\n",
       " Prediction(uid=344, iid=385, r_ui=2.0, est=3.6297683122416315, details={'actual_k': 40, 'was_impossible': False}),\n",
       " Prediction(uid=934, iid=705, r_ui=4.0, est=4.212865753346653, details={'actual_k': 40, 'was_impossible': False}),\n",
       " Prediction(uid=130, iid=1079, r_ui=3.0, est=2.2903597107054585, details={'actual_k': 31, 'was_impossible': False}),\n",
       " Prediction(uid=308, iid=180, r_ui=5.0, est=4.337853509446571, details={'actual_k': 40, 'was_impossible': False}),\n",
       " Prediction(uid=655, iid=127, r_ui=5.0, est=4.420096618467276, details={'actual_k': 40, 'was_impossible': False}),\n",
       " Prediction(uid=374, iid=196, r_ui=1.0, est=4.157519812489398, details={'actual_k': 40, 'was_impossible': False}),\n",
       " Prediction(uid=758, iid=222, r_ui=4.0, est=3.668929690185457, details={'actual_k': 40, 'was_impossible': False})]"
      ]
     },
     "execution_count": 25,
     "metadata": {},
     "output_type": "execute_result"
    }
   ],
   "source": [
    "# testset의 예측 결과 보기\n",
    "# uid=741, iid=281, r_ui=2.0, est=3.0157043977599276\n",
    "# userid, itemid, actual, predict\n",
    "pred = recom_sys.test(testset)\n",
    "pred[:10]"
   ]
  },
  {
   "cell_type": "code",
   "execution_count": null,
   "metadata": {},
   "outputs": [],
   "source": [
    "# testset의 rmse error 확인하기\n",
    "from surprise import accuracy\n",
    "accuracy.rmse(recom_sys.test(testset))"
   ]
  },
  {
   "cell_type": "code",
   "execution_count": 29,
   "metadata": {},
   "outputs": [
    {
     "name": "stdout",
     "output_type": "stream",
     "text": [
      "user : 281 , movie : 741, rating : 2.0 -- > 3.02, diff : -1.02\n",
      "user : 1039, movie : 815, rating : 5.0 -- > 4.19, diff :  0.81\n",
      "user : 275 , movie : 859, rating : 3.0 -- > 4.18, diff : -1.18\n",
      "user : 385 , movie : 344, rating : 2.0 -- > 3.63, diff : -1.63\n",
      "user : 705 , movie : 934, rating : 4.0 -- > 4.21, diff : -0.21\n",
      "user : 1079, movie : 130, rating : 3.0 -- > 2.29, diff :  0.71\n",
      "user : 180 , movie : 308, rating : 5.0 -- > 4.34, diff :  0.66\n",
      "user : 127 , movie : 655, rating : 5.0 -- > 4.42, diff :  0.58\n",
      "user : 196 , movie : 374, rating : 1.0 -- > 4.16, diff : -3.16\n",
      "user : 222 , movie : 758, rating : 4.0 -- > 3.67, diff :  0.33\n",
      "user : 151 , movie : 537, rating : 2.0 -- > 3.44, diff : -1.44\n",
      "user : 455 , movie : 359, rating : 4.0 -- > 3.49, diff :  0.51\n",
      "user : 527 , movie : 870, rating : 5.0 -- > 3.89, diff :  1.11\n",
      "user : 1221, movie : 885, rating : 3.0 -- > 3.44, diff : -0.44\n",
      "user : 102 , movie : 846, rating : 2.0 -- > 3.18, diff : -1.18\n",
      "user : 847 , movie : 894, rating : 4.0 -- > 3.78, diff :  0.22\n",
      "user : 199 , movie : 567, rating : 4.0 -- > 4.17, diff : -0.17\n",
      "user : 81  , movie : 506, rating : 1.0 -- > 3.78, diff : -2.78\n",
      "user : 208 , movie : 716, rating : 5.0 -- > 4.38, diff :  0.62\n",
      "user : 435 , movie : 536, rating : 3.0 -- > 4.20, diff : -1.20\n"
     ]
    }
   ],
   "source": [
    "# 예측 결과 예쁘게 출력해보기\n",
    "for p in pred[:20]:\n",
    "    print(f'user : {p.iid:<4}, movie : {p.uid}, rating : {p.r_ui} -- > {p.est:.2f}, diff : {p.r_ui - p.est:>5.2f}')"
   ]
  },
  {
   "cell_type": "code",
   "execution_count": 35,
   "metadata": {},
   "outputs": [
    {
     "name": "stderr",
     "output_type": "stream",
     "text": [
      "C:\\Users\\User\\AppData\\Local\\Temp\\ipykernel_12004\\2294920983.py:5: MatplotlibDeprecationWarning: The seaborn styles shipped by Matplotlib are deprecated since 3.6, as they no longer correspond to the styles shipped by seaborn. However, they will remain available as 'seaborn-v0_8-<style>'. Alternatively, directly use the seaborn API instead.\n",
      "  plt.style.use('seaborn')\n"
     ]
    },
    {
     "data": {
      "text/plain": [
       "<matplotlib.lines.Line2D at 0x26e15a82a40>"
      ]
     },
     "execution_count": 35,
     "metadata": {},
     "output_type": "execute_result"
    },
    {
     "data": {
      "image/png": "[encoded data removed]",
      "text/plain": [
       "<Figure size 800x550 with 1 Axes>"
      ]
     },
     "metadata": {},
     "output_type": "display_data"
    }
   ],
   "source": [
    "# error 그래프 그려보기\n",
    "error_list = []\n",
    "for p in pred:\n",
    "    error_list.append(p.r_ui - p.est)\n",
    "    \n",
    "plt.style.use('seaborn')\n",
    "plt.hist(error_list, bins = 20)\n",
    "# vertical line. 이 안에 들어오는 것들은 반올림하면 정확하게 예측된 것.\n",
    "plt.axvline(-0.5, color = 'red')\n",
    "plt.axvline(0.5, color = 'red')\n",
    "# 이 안에 들어오는 것들은 반올림하면 별점 1 틀린 것.\n",
    "plt.axvline(-1.5, color = 'orange')\n",
    "plt.axvline(1.5, color = 'orange')"
   ]
  },
  {
   "cell_type": "markdown",
   "metadata": {},
   "source": [
    "별점 예측은 지도 학습, 회귀 모델."
   ]
  },
  {
   "cell_type": "markdown",
   "metadata": {},
   "source": [
    "### 랜덤으로 testdata 하나 만들어서 이사람한테 영화 추천해주기!\n",
    "\n",
    "1. 유저 선택   \n",
    "1. 유저가 안본 영화 리스트   \n",
    "1. 영화 리스트에 대한 평점 전부 예측   \n",
    "1. 예측 평점이 가장 높은 N개의 영화 선택"
   ]
  },
  {
   "cell_type": "code",
   "execution_count": 39,
   "metadata": {},
   "outputs": [
    {
     "data": {
      "text/plain": [
       "(95, 241, 3.0)"
      ]
     },
     "execution_count": 39,
     "metadata": {},
     "output_type": "execute_result"
    }
   ],
   "source": [
    "# 1. 유저 선택\n",
    "import random\n",
    "# 랜덤으로 testdata 하나 만들어서 사람 하나 뽑기\n",
    "usr, mv, rating = testset[random.randint(0, 20000)]\n",
    "usr, mv, rating"
   ]
  },
  {
   "cell_type": "code",
   "execution_count": 45,
   "metadata": {},
   "outputs": [
    {
     "name": "stdout",
     "output_type": "stream",
     "text": [
      "Kolya (1996) - predicted score :  3.771097813686495 real score : 3.0\n",
      "Kolya (1996) - predicted score : , 3.77, real score : 3.0\n"
     ]
    }
   ],
   "source": [
    "movie_info_df = pd.read_csv('u.item', sep='|', encoding='latin', header=None)\n",
    "movie_info_df.columns = ['movieID' , 'movie_title' , 'release_date' , 'video_release_date' ,\n",
    "                        'IMDb_URL' , 'unknown' , 'Action' , 'Adventure' , 'Animation' ,\n",
    "                        'Children' , 'Comedy' , 'Crime' , 'Documentary' , 'Drama' , 'Fantasy' ,\n",
    "                        'Film-Noir' , 'Horror' , 'Musical' , 'Mystery' , 'Romance' , 'Sci-Fi' ,\n",
    "                        'Thriller' , 'War' , 'Western']\n",
    "\n",
    "movie_name = movie_info_df.loc[mv]\n",
    "print(movie_name['movie_title'], '- predicted score : ', pred.est, 'real score :', rating)\n",
    "print(f'{movie_name.movie_title} - predicted score : , {pred.est:.2f}, real score : {rating}')"
   ]
  },
  {
   "cell_type": "code",
   "execution_count": 51,
   "metadata": {},
   "outputs": [],
   "source": [
    "# 2. 유저가 안본 영화 리스트\n",
    "\n",
    "# 전체 영화 id 가져옴\n",
    "all_movie_ids = rating_df.movieID.unique()\n",
    "# 이 사람이 본 영화 id 가져옴\n",
    "watched_movie_ids = rating_df[rating_df['userID']==usr].movieID\n",
    "# 전체 영화에서 이 사람이 본 영화 id 삭제\n",
    "target_mv_list = set(all_movie_ids) - set(watched_movie_ids)"
   ]
  },
  {
   "cell_type": "code",
   "execution_count": 57,
   "metadata": {},
   "outputs": [
    {
     "data": {
      "text/html": [
       "<div>\n",
       "<style scoped>\n",
       "    .dataframe tbody tr th:only-of-type {\n",
       "        vertical-align: middle;\n",
       "    }\n",
       "\n",
       "    .dataframe tbody tr th {\n",
       "        vertical-align: top;\n",
       "    }\n",
       "\n",
       "    .dataframe thead th {\n",
       "        text-align: right;\n",
       "    }\n",
       "</style>\n",
       "<table border=\"1\" class=\"dataframe\">\n",
       "  <thead>\n",
       "    <tr style=\"text-align: right;\">\n",
       "      <th></th>\n",
       "      <th>movieID</th>\n",
       "      <th>pred_score</th>\n",
       "    </tr>\n",
       "  </thead>\n",
       "  <tbody>\n",
       "    <tr>\n",
       "      <th>0</th>\n",
       "      <td>4</td>\n",
       "      <td>3.767246</td>\n",
       "    </tr>\n",
       "    <tr>\n",
       "      <th>1</th>\n",
       "      <td>5</td>\n",
       "      <td>3.362626</td>\n",
       "    </tr>\n",
       "    <tr>\n",
       "      <th>2</th>\n",
       "      <td>6</td>\n",
       "      <td>3.532598</td>\n",
       "    </tr>\n",
       "    <tr>\n",
       "      <th>3</th>\n",
       "      <td>9</td>\n",
       "      <td>3.867392</td>\n",
       "    </tr>\n",
       "    <tr>\n",
       "      <th>4</th>\n",
       "      <td>10</td>\n",
       "      <td>3.683215</td>\n",
       "    </tr>\n",
       "    <tr>\n",
       "      <th>...</th>\n",
       "      <td>...</td>\n",
       "      <td>...</td>\n",
       "    </tr>\n",
       "    <tr>\n",
       "      <th>1399</th>\n",
       "      <td>1678</td>\n",
       "      <td>1.000000</td>\n",
       "    </tr>\n",
       "    <tr>\n",
       "      <th>1400</th>\n",
       "      <td>1679</td>\n",
       "      <td>3.000000</td>\n",
       "    </tr>\n",
       "    <tr>\n",
       "      <th>1401</th>\n",
       "      <td>1680</td>\n",
       "      <td>2.000000</td>\n",
       "    </tr>\n",
       "    <tr>\n",
       "      <th>1402</th>\n",
       "      <td>1681</td>\n",
       "      <td>3.000000</td>\n",
       "    </tr>\n",
       "    <tr>\n",
       "      <th>1403</th>\n",
       "      <td>1682</td>\n",
       "      <td>3.529888</td>\n",
       "    </tr>\n",
       "  </tbody>\n",
       "</table>\n",
       "<p>1404 rows × 2 columns</p>\n",
       "</div>"
      ],
      "text/plain": [
       "      movieID  pred_score\n",
       "0           4    3.767246\n",
       "1           5    3.362626\n",
       "2           6    3.532598\n",
       "3           9    3.867392\n",
       "4          10    3.683215\n",
       "...       ...         ...\n",
       "1399     1678    1.000000\n",
       "1400     1679    3.000000\n",
       "1401     1680    2.000000\n",
       "1402     1681    3.000000\n",
       "1403     1682    3.529888\n",
       "\n",
       "[1404 rows x 2 columns]"
      ]
     },
     "execution_count": 57,
     "metadata": {},
     "output_type": "execute_result"
    }
   ],
   "source": [
    "# 영화 리스트에 대한 평점 전부 예측, \n",
    "# 하나의 유저에 대해 모든 target mv list의 예상 점수 dict\n",
    "# dataframe으로 바로 변환하려면 dictionary를 list로 저장!\n",
    "all_pred_scores = []\n",
    "for s_mv_id in target_mv_list:\n",
    "    \n",
    "    all_pred_scores.append({'movieID' : s_mv_id, 'pred_score':recom_sys.predict(usr, s_mv_id).est})\n",
    "\n",
    "pred_df = pd.DataFrame(all_pred_scores)\n",
    "pred_df"
   ]
  },
  {
   "cell_type": "code",
   "execution_count": 60,
   "metadata": {},
   "outputs": [],
   "source": [
    "# 예측 평점이 가장 높은 N개의 영화 선택\n",
    "pred_df = pred_df.sort_values('pred_score', ascending=False)\n",
    "recom_mv_ids = pred_df[pred_df['pred_score'] == 5]"
   ]
  },
  {
   "cell_type": "code",
   "execution_count": 62,
   "metadata": {},
   "outputs": [
    {
     "data": {
      "text/plain": [
       "0                         Great Day in Harlem, A (1994)\n",
       "1           Two or Three Things I Know About Her (1966)\n",
       "2                        They Made Me a Criminal (1939)\n",
       "3                                    Prefontaine (1997)\n",
       "4            Marlene Dietrich: Shadow and Light (1996) \n",
       "5                                       Star Kid (1997)\n",
       "6                                The Deadly Cure (1996)\n",
       "7                                      Boys, Les (1997)\n",
       "8                  Saint of Fort Washington, The (1993)\n",
       "9                               Tough and Deadly (1995)\n",
       "10                                 Aiqing wansui (1994)\n",
       "11                                       Everest (1998)\n",
       "12    Entertaining Angels: The Dorothy Day Story (1996)\n",
       "Name: movie_title, dtype: object"
      ]
     },
     "execution_count": 62,
     "metadata": {},
     "output_type": "execute_result"
    }
   ],
   "source": [
    "result_df = pd.merge(movie_info_df, recom_mv_ids, on='movieID')\n",
    "result_df['movie_title']"
   ]
  },
  {
   "cell_type": "markdown",
   "metadata": {},
   "source": [
    "### 많은 모델의 예측 성능 보기"
   ]
  },
  {
   "cell_type": "code",
   "execution_count": 67,
   "metadata": {},
   "outputs": [
    {
     "name": "stdout",
     "output_type": "stream",
     "text": [
      "Computing the msd similarity matrix...\n",
      "Done computing similarity matrix.\n",
      "Computing the msd similarity matrix...\n",
      "Done computing similarity matrix.\n",
      "RMSE: 0.9792\n",
      "Estimating biases using als...\n",
      "RMSE: 0.9397\n",
      "RMSE: 0.9650\n",
      "Estimating biases using als...\n",
      "Computing the msd similarity matrix...\n",
      "Done computing similarity matrix.\n",
      "RMSE: 0.9268\n",
      "RMSE: 0.9625\n",
      "RMSE: 0.9321\n"
     ]
    }
   ],
   "source": [
    "from surprise import KNNBasic, BaselineOnly, CoClustering, KNNBaseline, NMF, SVD\n",
    "models = [KNNBasic(), BaselineOnly(), CoClustering(random_state=0), KNNBaseline(), NMF(random_state=0), SVD(random_state=0)]\n",
    "\n",
    "for m in models:\n",
    "    m.fit(trainset)\n",
    "    accuracy.rmse(m.test(testset))\n"
   ]
  },
  {
   "cell_type": "markdown",
   "metadata": {},
   "source": [
    "## 유사도 계산해보기"
   ]
  },
  {
   "cell_type": "code",
   "execution_count": 23,
   "metadata": {},
   "outputs": [
    {
     "data": {
      "text/html": [
       "<div>\n",
       "<style scoped>\n",
       "    .dataframe tbody tr th:only-of-type {\n",
       "        vertical-align: middle;\n",
       "    }\n",
       "\n",
       "    .dataframe tbody tr th {\n",
       "        vertical-align: top;\n",
       "    }\n",
       "\n",
       "    .dataframe thead th {\n",
       "        text-align: right;\n",
       "    }\n",
       "</style>\n",
       "<table border=\"1\" class=\"dataframe\">\n",
       "  <thead>\n",
       "    <tr style=\"text-align: right;\">\n",
       "      <th>userID</th>\n",
       "      <th>1</th>\n",
       "      <th>2</th>\n",
       "      <th>3</th>\n",
       "      <th>4</th>\n",
       "      <th>5</th>\n",
       "      <th>6</th>\n",
       "      <th>7</th>\n",
       "      <th>8</th>\n",
       "      <th>9</th>\n",
       "      <th>10</th>\n",
       "      <th>...</th>\n",
       "      <th>934</th>\n",
       "      <th>935</th>\n",
       "      <th>936</th>\n",
       "      <th>937</th>\n",
       "      <th>938</th>\n",
       "      <th>939</th>\n",
       "      <th>940</th>\n",
       "      <th>941</th>\n",
       "      <th>942</th>\n",
       "      <th>943</th>\n",
       "    </tr>\n",
       "    <tr>\n",
       "      <th>movieID</th>\n",
       "      <th></th>\n",
       "      <th></th>\n",
       "      <th></th>\n",
       "      <th></th>\n",
       "      <th></th>\n",
       "      <th></th>\n",
       "      <th></th>\n",
       "      <th></th>\n",
       "      <th></th>\n",
       "      <th></th>\n",
       "      <th></th>\n",
       "      <th></th>\n",
       "      <th></th>\n",
       "      <th></th>\n",
       "      <th></th>\n",
       "      <th></th>\n",
       "      <th></th>\n",
       "      <th></th>\n",
       "      <th></th>\n",
       "      <th></th>\n",
       "      <th></th>\n",
       "    </tr>\n",
       "  </thead>\n",
       "  <tbody>\n",
       "    <tr>\n",
       "      <th>1</th>\n",
       "      <td>5.0</td>\n",
       "      <td>4.0</td>\n",
       "      <td>0.0</td>\n",
       "      <td>0.0</td>\n",
       "      <td>4.0</td>\n",
       "      <td>4.0</td>\n",
       "      <td>0.0</td>\n",
       "      <td>0.0</td>\n",
       "      <td>0.0</td>\n",
       "      <td>4.0</td>\n",
       "      <td>...</td>\n",
       "      <td>2.0</td>\n",
       "      <td>3.0</td>\n",
       "      <td>4.0</td>\n",
       "      <td>0.0</td>\n",
       "      <td>4.0</td>\n",
       "      <td>0.0</td>\n",
       "      <td>0.0</td>\n",
       "      <td>5.0</td>\n",
       "      <td>0.0</td>\n",
       "      <td>0.0</td>\n",
       "    </tr>\n",
       "    <tr>\n",
       "      <th>2</th>\n",
       "      <td>3.0</td>\n",
       "      <td>0.0</td>\n",
       "      <td>0.0</td>\n",
       "      <td>0.0</td>\n",
       "      <td>3.0</td>\n",
       "      <td>0.0</td>\n",
       "      <td>0.0</td>\n",
       "      <td>0.0</td>\n",
       "      <td>0.0</td>\n",
       "      <td>0.0</td>\n",
       "      <td>...</td>\n",
       "      <td>4.0</td>\n",
       "      <td>0.0</td>\n",
       "      <td>0.0</td>\n",
       "      <td>0.0</td>\n",
       "      <td>0.0</td>\n",
       "      <td>0.0</td>\n",
       "      <td>0.0</td>\n",
       "      <td>0.0</td>\n",
       "      <td>0.0</td>\n",
       "      <td>5.0</td>\n",
       "    </tr>\n",
       "    <tr>\n",
       "      <th>3</th>\n",
       "      <td>4.0</td>\n",
       "      <td>0.0</td>\n",
       "      <td>0.0</td>\n",
       "      <td>0.0</td>\n",
       "      <td>0.0</td>\n",
       "      <td>0.0</td>\n",
       "      <td>0.0</td>\n",
       "      <td>0.0</td>\n",
       "      <td>0.0</td>\n",
       "      <td>0.0</td>\n",
       "      <td>...</td>\n",
       "      <td>0.0</td>\n",
       "      <td>0.0</td>\n",
       "      <td>4.0</td>\n",
       "      <td>0.0</td>\n",
       "      <td>0.0</td>\n",
       "      <td>0.0</td>\n",
       "      <td>0.0</td>\n",
       "      <td>0.0</td>\n",
       "      <td>0.0</td>\n",
       "      <td>0.0</td>\n",
       "    </tr>\n",
       "    <tr>\n",
       "      <th>4</th>\n",
       "      <td>3.0</td>\n",
       "      <td>0.0</td>\n",
       "      <td>0.0</td>\n",
       "      <td>0.0</td>\n",
       "      <td>0.0</td>\n",
       "      <td>0.0</td>\n",
       "      <td>5.0</td>\n",
       "      <td>0.0</td>\n",
       "      <td>0.0</td>\n",
       "      <td>4.0</td>\n",
       "      <td>...</td>\n",
       "      <td>5.0</td>\n",
       "      <td>0.0</td>\n",
       "      <td>0.0</td>\n",
       "      <td>0.0</td>\n",
       "      <td>0.0</td>\n",
       "      <td>0.0</td>\n",
       "      <td>2.0</td>\n",
       "      <td>0.0</td>\n",
       "      <td>0.0</td>\n",
       "      <td>0.0</td>\n",
       "    </tr>\n",
       "    <tr>\n",
       "      <th>5</th>\n",
       "      <td>3.0</td>\n",
       "      <td>0.0</td>\n",
       "      <td>0.0</td>\n",
       "      <td>0.0</td>\n",
       "      <td>0.0</td>\n",
       "      <td>0.0</td>\n",
       "      <td>0.0</td>\n",
       "      <td>0.0</td>\n",
       "      <td>0.0</td>\n",
       "      <td>0.0</td>\n",
       "      <td>...</td>\n",
       "      <td>0.0</td>\n",
       "      <td>0.0</td>\n",
       "      <td>0.0</td>\n",
       "      <td>0.0</td>\n",
       "      <td>0.0</td>\n",
       "      <td>0.0</td>\n",
       "      <td>0.0</td>\n",
       "      <td>0.0</td>\n",
       "      <td>0.0</td>\n",
       "      <td>0.0</td>\n",
       "    </tr>\n",
       "    <tr>\n",
       "      <th>...</th>\n",
       "      <td>...</td>\n",
       "      <td>...</td>\n",
       "      <td>...</td>\n",
       "      <td>...</td>\n",
       "      <td>...</td>\n",
       "      <td>...</td>\n",
       "      <td>...</td>\n",
       "      <td>...</td>\n",
       "      <td>...</td>\n",
       "      <td>...</td>\n",
       "      <td>...</td>\n",
       "      <td>...</td>\n",
       "      <td>...</td>\n",
       "      <td>...</td>\n",
       "      <td>...</td>\n",
       "      <td>...</td>\n",
       "      <td>...</td>\n",
       "      <td>...</td>\n",
       "      <td>...</td>\n",
       "      <td>...</td>\n",
       "      <td>...</td>\n",
       "    </tr>\n",
       "    <tr>\n",
       "      <th>1678</th>\n",
       "      <td>0.0</td>\n",
       "      <td>0.0</td>\n",
       "      <td>0.0</td>\n",
       "      <td>0.0</td>\n",
       "      <td>0.0</td>\n",
       "      <td>0.0</td>\n",
       "      <td>0.0</td>\n",
       "      <td>0.0</td>\n",
       "      <td>0.0</td>\n",
       "      <td>0.0</td>\n",
       "      <td>...</td>\n",
       "      <td>0.0</td>\n",
       "      <td>0.0</td>\n",
       "      <td>0.0</td>\n",
       "      <td>0.0</td>\n",
       "      <td>0.0</td>\n",
       "      <td>0.0</td>\n",
       "      <td>0.0</td>\n",
       "      <td>0.0</td>\n",
       "      <td>0.0</td>\n",
       "      <td>0.0</td>\n",
       "    </tr>\n",
       "    <tr>\n",
       "      <th>1679</th>\n",
       "      <td>0.0</td>\n",
       "      <td>0.0</td>\n",
       "      <td>0.0</td>\n",
       "      <td>0.0</td>\n",
       "      <td>0.0</td>\n",
       "      <td>0.0</td>\n",
       "      <td>0.0</td>\n",
       "      <td>0.0</td>\n",
       "      <td>0.0</td>\n",
       "      <td>0.0</td>\n",
       "      <td>...</td>\n",
       "      <td>0.0</td>\n",
       "      <td>0.0</td>\n",
       "      <td>0.0</td>\n",
       "      <td>0.0</td>\n",
       "      <td>0.0</td>\n",
       "      <td>0.0</td>\n",
       "      <td>0.0</td>\n",
       "      <td>0.0</td>\n",
       "      <td>0.0</td>\n",
       "      <td>0.0</td>\n",
       "    </tr>\n",
       "    <tr>\n",
       "      <th>1680</th>\n",
       "      <td>0.0</td>\n",
       "      <td>0.0</td>\n",
       "      <td>0.0</td>\n",
       "      <td>0.0</td>\n",
       "      <td>0.0</td>\n",
       "      <td>0.0</td>\n",
       "      <td>0.0</td>\n",
       "      <td>0.0</td>\n",
       "      <td>0.0</td>\n",
       "      <td>0.0</td>\n",
       "      <td>...</td>\n",
       "      <td>0.0</td>\n",
       "      <td>0.0</td>\n",
       "      <td>0.0</td>\n",
       "      <td>0.0</td>\n",
       "      <td>0.0</td>\n",
       "      <td>0.0</td>\n",
       "      <td>0.0</td>\n",
       "      <td>0.0</td>\n",
       "      <td>0.0</td>\n",
       "      <td>0.0</td>\n",
       "    </tr>\n",
       "    <tr>\n",
       "      <th>1681</th>\n",
       "      <td>0.0</td>\n",
       "      <td>0.0</td>\n",
       "      <td>0.0</td>\n",
       "      <td>0.0</td>\n",
       "      <td>0.0</td>\n",
       "      <td>0.0</td>\n",
       "      <td>0.0</td>\n",
       "      <td>0.0</td>\n",
       "      <td>0.0</td>\n",
       "      <td>0.0</td>\n",
       "      <td>...</td>\n",
       "      <td>0.0</td>\n",
       "      <td>0.0</td>\n",
       "      <td>0.0</td>\n",
       "      <td>0.0</td>\n",
       "      <td>0.0</td>\n",
       "      <td>0.0</td>\n",
       "      <td>0.0</td>\n",
       "      <td>0.0</td>\n",
       "      <td>0.0</td>\n",
       "      <td>0.0</td>\n",
       "    </tr>\n",
       "    <tr>\n",
       "      <th>1682</th>\n",
       "      <td>0.0</td>\n",
       "      <td>0.0</td>\n",
       "      <td>0.0</td>\n",
       "      <td>0.0</td>\n",
       "      <td>0.0</td>\n",
       "      <td>0.0</td>\n",
       "      <td>0.0</td>\n",
       "      <td>0.0</td>\n",
       "      <td>0.0</td>\n",
       "      <td>0.0</td>\n",
       "      <td>...</td>\n",
       "      <td>0.0</td>\n",
       "      <td>0.0</td>\n",
       "      <td>0.0</td>\n",
       "      <td>0.0</td>\n",
       "      <td>0.0</td>\n",
       "      <td>0.0</td>\n",
       "      <td>0.0</td>\n",
       "      <td>0.0</td>\n",
       "      <td>0.0</td>\n",
       "      <td>0.0</td>\n",
       "    </tr>\n",
       "  </tbody>\n",
       "</table>\n",
       "<p>1682 rows × 943 columns</p>\n",
       "</div>"
      ],
      "text/plain": [
       "userID   1    2    3    4    5    6    7    8    9    10   ...  934  935  936  \\\n",
       "movieID                                                    ...                  \n",
       "1        5.0  4.0  0.0  0.0  4.0  4.0  0.0  0.0  0.0  4.0  ...  2.0  3.0  4.0   \n",
       "2        3.0  0.0  0.0  0.0  3.0  0.0  0.0  0.0  0.0  0.0  ...  4.0  0.0  0.0   \n",
       "3        4.0  0.0  0.0  0.0  0.0  0.0  0.0  0.0  0.0  0.0  ...  0.0  0.0  4.0   \n",
       "4        3.0  0.0  0.0  0.0  0.0  0.0  5.0  0.0  0.0  4.0  ...  5.0  0.0  0.0   \n",
       "5        3.0  0.0  0.0  0.0  0.0  0.0  0.0  0.0  0.0  0.0  ...  0.0  0.0  0.0   \n",
       "...      ...  ...  ...  ...  ...  ...  ...  ...  ...  ...  ...  ...  ...  ...   \n",
       "1678     0.0  0.0  0.0  0.0  0.0  0.0  0.0  0.0  0.0  0.0  ...  0.0  0.0  0.0   \n",
       "1679     0.0  0.0  0.0  0.0  0.0  0.0  0.0  0.0  0.0  0.0  ...  0.0  0.0  0.0   \n",
       "1680     0.0  0.0  0.0  0.0  0.0  0.0  0.0  0.0  0.0  0.0  ...  0.0  0.0  0.0   \n",
       "1681     0.0  0.0  0.0  0.0  0.0  0.0  0.0  0.0  0.0  0.0  ...  0.0  0.0  0.0   \n",
       "1682     0.0  0.0  0.0  0.0  0.0  0.0  0.0  0.0  0.0  0.0  ...  0.0  0.0  0.0   \n",
       "\n",
       "userID   937  938  939  940  941  942  943  \n",
       "movieID                                     \n",
       "1        0.0  4.0  0.0  0.0  5.0  0.0  0.0  \n",
       "2        0.0  0.0  0.0  0.0  0.0  0.0  5.0  \n",
       "3        0.0  0.0  0.0  0.0  0.0  0.0  0.0  \n",
       "4        0.0  0.0  0.0  2.0  0.0  0.0  0.0  \n",
       "5        0.0  0.0  0.0  0.0  0.0  0.0  0.0  \n",
       "...      ...  ...  ...  ...  ...  ...  ...  \n",
       "1678     0.0  0.0  0.0  0.0  0.0  0.0  0.0  \n",
       "1679     0.0  0.0  0.0  0.0  0.0  0.0  0.0  \n",
       "1680     0.0  0.0  0.0  0.0  0.0  0.0  0.0  \n",
       "1681     0.0  0.0  0.0  0.0  0.0  0.0  0.0  \n",
       "1682     0.0  0.0  0.0  0.0  0.0  0.0  0.0  \n",
       "\n",
       "[1682 rows x 943 columns]"
      ]
     },
     "execution_count": 23,
     "metadata": {},
     "output_type": "execute_result"
    }
   ],
   "source": [
    "# 이렇게 하면 데이터 12.1 MB, 밀도는 6%... 별로 좋은 방법은 아니다.\n",
    "pv_tb = pd.pivot_table(data = rating_df, values = 'rating', index = 'movieID', columns = 'userID').fillna(0)\n",
    "pv_tb"
   ]
  },
  {
   "cell_type": "code",
   "execution_count": 17,
   "metadata": {},
   "outputs": [
    {
     "data": {
      "text/plain": [
       "array([[1.        , 0.16693098, 0.04745954, ..., 0.14861694, 0.17950788,\n",
       "        0.39817474],\n",
       "       [0.16693098, 1.        , 0.11059132, ..., 0.16148478, 0.17226781,\n",
       "        0.10579788],\n",
       "       [0.04745954, 0.11059132, 1.        , ..., 0.10124256, 0.13341615,\n",
       "        0.02655587],\n",
       "       ...,\n",
       "       [0.14861694, 0.16148478, 0.10124256, ..., 1.        , 0.1016418 ,\n",
       "        0.09511958],\n",
       "       [0.17950788, 0.17226781, 0.13341615, ..., 0.1016418 , 1.        ,\n",
       "        0.18246466],\n",
       "       [0.39817474, 0.10579788, 0.02655587, ..., 0.09511958, 0.18246466,\n",
       "        1.        ]])"
      ]
     },
     "execution_count": 17,
     "metadata": {},
     "output_type": "execute_result"
    }
   ],
   "source": [
    "# user-based 유사도 계산하려고 sklearn 도움을 받자\n",
    "from sklearn.metrics.pairwise import cosine_similarity\n",
    "# .T는 왜? 대상(유저)이 가로 방향으로 있어야 우리가 원하는 계산이 나온다.\n",
    "cos_matrix = cosine_similarity(pv_tb.T, pv_tb.T)\n",
    "cos_matrix"
   ]
  },
  {
   "cell_type": "code",
   "execution_count": 25,
   "metadata": {},
   "outputs": [
    {
     "name": "stdout",
     "output_type": "stream",
     "text": [
      "0.09450221616419205\n",
      "0.17703001466410098\n",
      "0.041579251029907664\n"
     ]
    },
    {
     "data": {
      "text/plain": [
       "700"
      ]
     },
     "execution_count": 25,
     "metadata": {},
     "output_type": "execute_result"
    }
   ],
   "source": [
    "print(cos_matrix[500, 253]) # 501번 사람과 254번 사람의 유사도\n",
    "print(cos_matrix[500, 400])\n",
    "print(cos_matrix[240, 253])\n",
    "# 2번 사람과 가장 가까운 사람 구하기\n",
    "# 나와 가장 가까운 사람은 나 자신이니까 나를 0으로 하고 구하자\n",
    "cos_matrix[1][1] = 0\n",
    "np.argmax(cos_matrix[1]) # => 701번 사람과 가장 가까움!"
   ]
  },
  {
   "cell_type": "code",
   "execution_count": 1,
   "metadata": {},
   "outputs": [
    {
     "ename": "NameError",
     "evalue": "name 'rating_df' is not defined",
     "output_type": "error",
     "traceback": [
      "\u001b[1;31m---------------------------------------------------------------------------\u001b[0m",
      "\u001b[1;31mNameError\u001b[0m                                 Traceback (most recent call last)",
      "Cell \u001b[1;32mIn[1], line 6\u001b[0m\n\u001b[0;32m      3\u001b[0m \u001b[39mimport\u001b[39;00m \u001b[39msurprise\u001b[39;00m\n\u001b[0;32m      5\u001b[0m reader \u001b[39m=\u001b[39m Reader(line_format\u001b[39m=\u001b[39m\u001b[39m\"\u001b[39m\u001b[39muser item rating\u001b[39m\u001b[39m\"\u001b[39m, sep\u001b[39m=\u001b[39m\u001b[39m\"\u001b[39m\u001b[39m\\t\u001b[39;00m\u001b[39m\"\u001b[39m) \n\u001b[1;32m----> 6\u001b[0m data \u001b[39m=\u001b[39m Dataset\u001b[39m.\u001b[39mload_from_df(rating_df[[\u001b[39m'\u001b[39m\u001b[39muserID\u001b[39m\u001b[39m'\u001b[39m, \u001b[39m'\u001b[39m\u001b[39mmovieID\u001b[39m\u001b[39m'\u001b[39m, \u001b[39m'\u001b[39m\u001b[39mrating\u001b[39m\u001b[39m'\u001b[39m]], reader\u001b[39m=\u001b[39mreader)\n\u001b[0;32m      7\u001b[0m trainset, testset \u001b[39m=\u001b[39m train_test_split(data, test_size\u001b[39m=\u001b[39m\u001b[39m0.2\u001b[39m, random_state\u001b[39m=\u001b[39m\u001b[39m42\u001b[39m)\n\u001b[0;32m      9\u001b[0m sim_options \u001b[39m=\u001b[39m {\u001b[39m'\u001b[39m\u001b[39mname\u001b[39m\u001b[39m'\u001b[39m: \u001b[39m'\u001b[39m\u001b[39mmsd\u001b[39m\u001b[39m'\u001b[39m}\n",
      "\u001b[1;31mNameError\u001b[0m: name 'rating_df' is not defined"
     ]
    }
   ],
   "source": [
    "from surprise import Dataset,Reader\n",
    "from surprise.model_selection import train_test_split\n",
    "import surprise\n",
    "\n",
    "reader = Reader(line_format=\"user item rating\", sep=\"\\t\") \n",
    "data = Dataset.load_from_df(rating_df[['userID', 'movieID', 'rating']], reader=reader)\n",
    "trainset, testset = train_test_split(data, test_size=0.2, random_state=42)\n",
    "\n",
    "sim_options = {'name': 'msd'}\n",
    "# sim_options : 어떤 유사도 사용해서 KNN 할건지\n",
    "recom_sys = surprise.KNNBasic(k = 60, min_k = 1, sim_options=sim_options)\n",
    "recom_sys.fit(trainset)\n",
    "test_pred = recom_sys.test(testset)\n",
    "test_pred[:2]"
   ]
  },
  {
   "cell_type": "markdown",
   "metadata": {},
   "source": [
    "### ml dataset, KNN - 최적화 연습 \n",
    "- 모델을 바꿔가면서 test\n",
    "- 유사도 변경해가면서 test\n",
    "- 최적의 K값을 찾기"
   ]
  },
  {
   "cell_type": "code",
   "execution_count": null,
   "metadata": {},
   "outputs": [],
   "source": [
    "\n",
    "from surprise import accuracy\n",
    "# KNNBasic k = 20, option : msd, accuracy : 0.977005247044411\n",
    "# KNNWithMeans k = 40, option : pearson_baseline, accuracy : 0.9358099115568047    k = 20, option : pearson_baseline, accuracy : 0.9374377269689211\n",
    "# KNNWithZScore k = 30, option : pearson_baseline, accuracy : 0.9355606048086371\n",
    "# ** KNNBaseline k = 50, option : pearson_baseline, accuracy : 0.9197114241432861\n",
    "opt = [{'name': 'cosine'}, {'name': 'msd'}, {'name': 'pearson'}, {'name': 'pearson_baseline'}]\n",
    "for kk in range(10, 101, 10):\n",
    "    for op in opt:\n",
    "        # sim_options : 어떤 유사도 사용해서 KNN 할건지\n",
    "        recom_sys = surprise.KNNBaseline(k = kk, sim_options=op, verbose = False)\n",
    "        recom_sys.fit(trainset)\n",
    "        acc = accuracy.rmse(recom_sys.test(testset))\n",
    "        optionName = op['name']\n",
    "        print(f'k = {kk}, option : {optionName}, accuracy : {acc}')"
   ]
  },
  {
   "cell_type": "code",
   "execution_count": null,
   "metadata": {},
   "outputs": [],
   "source": []
  }
 ],
 "metadata": {
  "kernelspec": {
   "display_name": "selenium",
   "language": "python",
   "name": "my_python_env2"
  },
  "language_info": {
   "codemirror_mode": {
    "name": "ipython",
    "version": 3
   },
   "file_extension": ".py",
   "mimetype": "text/x-python",
   "name": "python",
   "nbconvert_exporter": "python",
   "pygments_lexer": "ipython3",
   "version": "3.10.12"
  },
  "orig_nbformat": 4
 },
 "nbformat": 4,
 "nbformat_minor": 2
}
