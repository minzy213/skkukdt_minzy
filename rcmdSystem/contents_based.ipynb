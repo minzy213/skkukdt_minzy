{
 "cells": [
  {
   "cell_type": "code",
   "execution_count": 1,
   "metadata": {},
   "outputs": [],
   "source": [
    "import pandas as pd\n",
    "import numpy as np\n",
    "from math import log\n",
    "from matplotlib import pyplot as plt"
   ]
  },
  {
   "cell_type": "markdown",
   "metadata": {},
   "source": [
    "## Text content 기반 추천 시스템 순서\n",
    "1. 문장을 벡터화한다(TF-IDF)\n",
    "1. 모든 문장들의 유사도를 계산한다. (cosine)\n",
    "1. 나를 제외한 가장 유사한 문장들로 정렬한다."
   ]
  },
  {
   "cell_type": "markdown",
   "metadata": {},
   "source": [
    "### TF-IDF 실습\n",
    "\n",
    "문서 내 단어의 빈도수에 해당 단어가 등장한 문서 빈도의 역수를 함께 계산한 것.   \n",
    "-> **다른 문서에서도 많이 등장한 단어면 가중치가 낮고, 다른 문서에서 많이 등장하지 않은 단어면 가중치가 높은 단어**.    \n",
    "\n",
    "빈도는 낮을지 몰라도 다른 문서에서 언급되지 않은 단어라면 그 단어는 해당 문서의 아이덴티티일 수 있다."
   ]
  },
  {
   "cell_type": "code",
   "execution_count": 6,
   "metadata": {},
   "outputs": [],
   "source": [
    "docs = [\n",
    "  'I like a red apple',\n",
    "  'the color of the banana is yellow',\n",
    "  'long and yellow sweet banana',\n",
    "  'I like fruits. especially apple and banana'\n",
    "] \n",
    "vocab = list(set(w for doc in docs for w in doc.split()))\n",
    "vocab.sort()"
   ]
  },
  {
   "cell_type": "code",
   "execution_count": 7,
   "metadata": {},
   "outputs": [],
   "source": [
    "N = len(docs) \n",
    "\n",
    "def tf(t, d):\n",
    "    words_set = d.split(' ')\n",
    "    return words_set.count(t)\n",
    "\n",
    "def idf(t):\n",
    "    df = 0\n",
    "    for doc in docs:\n",
    "        df += t in doc\n",
    "    return log(N/(df + 1))\n",
    "\n",
    "def tfidf(t, d):\n",
    "    return tf(t,d)* idf(t)"
   ]
  },
  {
   "cell_type": "code",
   "execution_count": 11,
   "metadata": {},
   "outputs": [
    {
     "data": {
      "text/html": [
       "<div>\n",
       "<style scoped>\n",
       "    .dataframe tbody tr th:only-of-type {\n",
       "        vertical-align: middle;\n",
       "    }\n",
       "\n",
       "    .dataframe tbody tr th {\n",
       "        vertical-align: top;\n",
       "    }\n",
       "\n",
       "    .dataframe thead th {\n",
       "        text-align: right;\n",
       "    }\n",
       "</style>\n",
       "<table border=\"1\" class=\"dataframe\">\n",
       "  <thead>\n",
       "    <tr style=\"text-align: right;\">\n",
       "      <th></th>\n",
       "      <th>I</th>\n",
       "      <th>a</th>\n",
       "      <th>and</th>\n",
       "      <th>apple</th>\n",
       "      <th>banana</th>\n",
       "      <th>color</th>\n",
       "      <th>especially</th>\n",
       "      <th>fruits.</th>\n",
       "      <th>is</th>\n",
       "      <th>like</th>\n",
       "      <th>long</th>\n",
       "      <th>of</th>\n",
       "      <th>red</th>\n",
       "      <th>sweet</th>\n",
       "      <th>the</th>\n",
       "      <th>yellow</th>\n",
       "    </tr>\n",
       "  </thead>\n",
       "  <tbody>\n",
       "    <tr>\n",
       "      <th>0</th>\n",
       "      <td>0.287682</td>\n",
       "      <td>-0.223144</td>\n",
       "      <td>0.000000</td>\n",
       "      <td>0.287682</td>\n",
       "      <td>0.0</td>\n",
       "      <td>0.000000</td>\n",
       "      <td>0.000000</td>\n",
       "      <td>0.000000</td>\n",
       "      <td>0.000000</td>\n",
       "      <td>0.287682</td>\n",
       "      <td>0.000000</td>\n",
       "      <td>0.000000</td>\n",
       "      <td>0.693147</td>\n",
       "      <td>0.000000</td>\n",
       "      <td>0.000000</td>\n",
       "      <td>0.000000</td>\n",
       "    </tr>\n",
       "    <tr>\n",
       "      <th>1</th>\n",
       "      <td>0.000000</td>\n",
       "      <td>-0.000000</td>\n",
       "      <td>0.000000</td>\n",
       "      <td>0.000000</td>\n",
       "      <td>0.0</td>\n",
       "      <td>0.693147</td>\n",
       "      <td>0.000000</td>\n",
       "      <td>0.000000</td>\n",
       "      <td>0.693147</td>\n",
       "      <td>0.000000</td>\n",
       "      <td>0.000000</td>\n",
       "      <td>0.693147</td>\n",
       "      <td>0.000000</td>\n",
       "      <td>0.000000</td>\n",
       "      <td>1.386294</td>\n",
       "      <td>0.287682</td>\n",
       "    </tr>\n",
       "    <tr>\n",
       "      <th>2</th>\n",
       "      <td>0.000000</td>\n",
       "      <td>-0.000000</td>\n",
       "      <td>0.287682</td>\n",
       "      <td>0.000000</td>\n",
       "      <td>0.0</td>\n",
       "      <td>0.000000</td>\n",
       "      <td>0.000000</td>\n",
       "      <td>0.000000</td>\n",
       "      <td>0.000000</td>\n",
       "      <td>0.000000</td>\n",
       "      <td>0.693147</td>\n",
       "      <td>0.000000</td>\n",
       "      <td>0.000000</td>\n",
       "      <td>0.693147</td>\n",
       "      <td>0.000000</td>\n",
       "      <td>0.287682</td>\n",
       "    </tr>\n",
       "    <tr>\n",
       "      <th>3</th>\n",
       "      <td>0.287682</td>\n",
       "      <td>-0.000000</td>\n",
       "      <td>0.287682</td>\n",
       "      <td>0.287682</td>\n",
       "      <td>0.0</td>\n",
       "      <td>0.000000</td>\n",
       "      <td>0.693147</td>\n",
       "      <td>0.693147</td>\n",
       "      <td>0.000000</td>\n",
       "      <td>0.287682</td>\n",
       "      <td>0.000000</td>\n",
       "      <td>0.000000</td>\n",
       "      <td>0.000000</td>\n",
       "      <td>0.000000</td>\n",
       "      <td>0.000000</td>\n",
       "      <td>0.000000</td>\n",
       "    </tr>\n",
       "  </tbody>\n",
       "</table>\n",
       "</div>"
      ],
      "text/plain": [
       "          I         a       and     apple  banana     color  especially  \\\n",
       "0  0.287682 -0.223144  0.000000  0.287682     0.0  0.000000    0.000000   \n",
       "1  0.000000 -0.000000  0.000000  0.000000     0.0  0.693147    0.000000   \n",
       "2  0.000000 -0.000000  0.287682  0.000000     0.0  0.000000    0.000000   \n",
       "3  0.287682 -0.000000  0.287682  0.287682     0.0  0.000000    0.693147   \n",
       "\n",
       "    fruits.        is      like      long        of       red     sweet  \\\n",
       "0  0.000000  0.000000  0.287682  0.000000  0.000000  0.693147  0.000000   \n",
       "1  0.000000  0.693147  0.000000  0.000000  0.693147  0.000000  0.000000   \n",
       "2  0.000000  0.000000  0.000000  0.693147  0.000000  0.000000  0.693147   \n",
       "3  0.693147  0.000000  0.287682  0.000000  0.000000  0.000000  0.000000   \n",
       "\n",
       "        the    yellow  \n",
       "0  0.000000  0.000000  \n",
       "1  1.386294  0.287682  \n",
       "2  0.000000  0.287682  \n",
       "3  0.000000  0.000000  "
      ]
     },
     "execution_count": 11,
     "metadata": {},
     "output_type": "execute_result"
    }
   ],
   "source": [
    "# TF(Term Frequency) table : 빈도\n",
    "result = []\n",
    "for i in range(N): \n",
    "    result.append([])\n",
    "    d = docs[i]\n",
    "    for j in range(len(vocab)):\n",
    "        t = vocab[j]        \n",
    "        result[-1].append(tf(t, d))\n",
    "tf_df = pd.DataFrame(result, columns = vocab)\n",
    "\n",
    "# IDF(Inverse Document Frequency) Table : 희소성\n",
    "result = []\n",
    "for j in range(len(vocab)):\n",
    "    t = vocab[j]\n",
    "    result.append(idf(t))\n",
    "idf_df = pd.DataFrame(result, index=vocab, columns=[\"IDF\"])\n",
    "\n",
    "# TF-IDF 테이블(벡터화) 구하기\n",
    "result = []\n",
    "for i in range(N):\n",
    "  result.append([])\n",
    "  d = docs[i]\n",
    "  for j in range(len(vocab)):\n",
    "    t = vocab[j]\n",
    "    result[-1].append(tfidf(t,d))\n",
    "tfidf_df = pd.DataFrame(result, columns = vocab)\n",
    "tfidf_df\n"
   ]
  },
  {
   "cell_type": "markdown",
   "metadata": {},
   "source": [
    "#### sklearn님의 힘을 빌려서 동일한 작업 후 similarity 구하기"
   ]
  },
  {
   "cell_type": "code",
   "execution_count": 14,
   "metadata": {},
   "outputs": [
    {
     "data": {
      "text/plain": [
       "array([[0.        , 0.61761437, 0.        , 0.        , 0.        ,\n",
       "        0.        , 0.        , 0.        , 0.        , 0.48693426,\n",
       "        0.        , 0.        , 0.61761437, 0.        , 0.        ,\n",
       "        0.        ],\n",
       "       [0.        , 0.        , 0.        , 0.27460308, 0.        ,\n",
       "        0.34829919, 0.        , 0.        , 0.34829919, 0.        ,\n",
       "        0.        , 0.34829919, 0.        , 0.        , 0.69659839,\n",
       "        0.27460308],\n",
       "       [0.40104275, 0.        , 0.        , 0.40104275, 0.        ,\n",
       "        0.        , 0.        , 0.        , 0.        , 0.        ,\n",
       "        0.50867187, 0.        , 0.        , 0.50867187, 0.        ,\n",
       "        0.40104275],\n",
       "       [0.34431452, 0.        , 0.43671931, 0.        , 0.43671931,\n",
       "        0.        , 0.43671931, 0.43671931, 0.        , 0.34431452,\n",
       "        0.        , 0.        , 0.        , 0.        , 0.        ,\n",
       "        0.        ]])"
      ]
     },
     "execution_count": 14,
     "metadata": {},
     "output_type": "execute_result"
    }
   ],
   "source": [
    "from sklearn.feature_extraction.text import CountVectorizer\n",
    "from sklearn.feature_extraction.text import TfidfVectorizer\n",
    "\n",
    "docs = [\n",
    "  'I like a red apple',\n",
    "  'the color of the banana is yellow',\n",
    "  'long and yellow sweet banana',\n",
    "  'I like fruit especially apples and bananas'\n",
    "] \n",
    "\n",
    "# 4개 문장 벡터화\n",
    "tfidfv = TfidfVectorizer().fit(docs)\n",
    "rfidf_arr = tfidfv.transform(docs).toarray()\n",
    "rfidf_arr"
   ]
  },
  {
   "cell_type": "code",
   "execution_count": 17,
   "metadata": {},
   "outputs": [
    {
     "data": {
      "image/png": "[encoded data removed]",
      "text/plain": [
       "<Figure size 640x480 with 2 Axes>"
      ]
     },
     "metadata": {},
     "output_type": "display_data"
    },
    {
     "data": {
      "text/plain": [
       "array([[1.        , 0.        , 0.        , 0.16765854],\n",
       "       [0.        , 1.        , 0.22025515, 0.        ],\n",
       "       [0.        , 0.22025515, 1.        , 0.13808484],\n",
       "       [0.16765854, 0.        , 0.13808484, 1.        ]])"
      ]
     },
     "execution_count": 17,
     "metadata": {},
     "output_type": "execute_result"
    }
   ],
   "source": [
    "from sklearn.metrics.pairwise import cosine_similarity\n",
    "\n",
    "# 위에서 벡터화 한 4개 문장 행렬의 다른 문장들과의 similarity 계산.\n",
    "cos_matrix = cosine_similarity(rfidf_arr, rfidf_arr)\n",
    "plt.imshow(cos_matrix)\n",
    "plt.colorbar()\n",
    "plt.show()\n",
    "cos_matrix"
   ]
  },
  {
   "cell_type": "code",
   "execution_count": 19,
   "metadata": {},
   "outputs": [
    {
     "data": {
      "text/plain": [
       "array([2, 3, 0], dtype=int64)"
      ]
     },
     "execution_count": 19,
     "metadata": {},
     "output_type": "execute_result"
    }
   ],
   "source": [
    "# 1번 인덱스 문장과 가장 유사한 문장 순서대로 index 출력하기\n",
    "my_index = 1\n",
    "sim_sorted_idx_arr = np.argsort(cos_matrix[my_index], axis=0)[::-1][1:]\n",
    "sim_sorted_idx_arr"
   ]
  },
  {
   "cell_type": "markdown",
   "metadata": {},
   "source": [
    "### kaggle movie 데이터로 text content 기반 추천 시스템 해보기\n",
    "영화의 설명이 비슷한 영화 추천\n",
    "\n",
    "#### 1. 문장을 벡터화한다(TF-IDF)"
   ]
  },
  {
   "cell_type": "code",
   "execution_count": 24,
   "metadata": {},
   "outputs": [
    {
     "data": {
      "text/html": [
       "<div>\n",
       "<style scoped>\n",
       "    .dataframe tbody tr th:only-of-type {\n",
       "        vertical-align: middle;\n",
       "    }\n",
       "\n",
       "    .dataframe tbody tr th {\n",
       "        vertical-align: top;\n",
       "    }\n",
       "\n",
       "    .dataframe thead th {\n",
       "        text-align: right;\n",
       "    }\n",
       "</style>\n",
       "<table border=\"1\" class=\"dataframe\">\n",
       "  <thead>\n",
       "    <tr style=\"text-align: right;\">\n",
       "      <th></th>\n",
       "      <th>id</th>\n",
       "      <th>title</th>\n",
       "      <th>overview</th>\n",
       "    </tr>\n",
       "  </thead>\n",
       "  <tbody>\n",
       "    <tr>\n",
       "      <th>0</th>\n",
       "      <td>862</td>\n",
       "      <td>Toy Story</td>\n",
       "      <td>Led by Woody, Andy's toys live happily in his ...</td>\n",
       "    </tr>\n",
       "    <tr>\n",
       "      <th>1</th>\n",
       "      <td>8844</td>\n",
       "      <td>Jumanji</td>\n",
       "      <td>When siblings Judy and Peter discover an encha...</td>\n",
       "    </tr>\n",
       "    <tr>\n",
       "      <th>2</th>\n",
       "      <td>15602</td>\n",
       "      <td>Grumpier Old Men</td>\n",
       "      <td>A family wedding reignites the ancient feud be...</td>\n",
       "    </tr>\n",
       "    <tr>\n",
       "      <th>3</th>\n",
       "      <td>31357</td>\n",
       "      <td>Waiting to Exhale</td>\n",
       "      <td>Cheated on, mistreated and stepped on, the wom...</td>\n",
       "    </tr>\n",
       "    <tr>\n",
       "      <th>4</th>\n",
       "      <td>11862</td>\n",
       "      <td>Father of the Bride Part II</td>\n",
       "      <td>Just when George Banks has recovered from his ...</td>\n",
       "    </tr>\n",
       "  </tbody>\n",
       "</table>\n",
       "</div>"
      ],
      "text/plain": [
       "      id                        title  \\\n",
       "0    862                    Toy Story   \n",
       "1   8844                      Jumanji   \n",
       "2  15602             Grumpier Old Men   \n",
       "3  31357            Waiting to Exhale   \n",
       "4  11862  Father of the Bride Part II   \n",
       "\n",
       "                                            overview  \n",
       "0  Led by Woody, Andy's toys live happily in his ...  \n",
       "1  When siblings Judy and Peter discover an encha...  \n",
       "2  A family wedding reignites the ancient feud be...  \n",
       "3  Cheated on, mistreated and stepped on, the wom...  \n",
       "4  Just when George Banks has recovered from his ...  "
      ]
     },
     "execution_count": 24,
     "metadata": {},
     "output_type": "execute_result"
    }
   ],
   "source": [
    "m_df = pd.read_csv('..\\dataset\\movies_metadata.csv', low_memory = False)[['id', 'title', 'overview']]\n",
    "m_df.head()"
   ]
  },
  {
   "cell_type": "code",
   "execution_count": 25,
   "metadata": {},
   "outputs": [
    {
     "data": {
      "text/plain": [
       "id            0\n",
       "title         6\n",
       "overview    954\n",
       "dtype: int64"
      ]
     },
     "execution_count": 25,
     "metadata": {},
     "output_type": "execute_result"
    }
   ],
   "source": [
    "m_df.isna().sum()"
   ]
  },
  {
   "cell_type": "code",
   "execution_count": 49,
   "metadata": {},
   "outputs": [
    {
     "name": "stdout",
     "output_type": "stream",
     "text": [
      "44476\n",
      "44476\n",
      "id          44476\n",
      "title       41371\n",
      "overview    44303\n",
      "dtype: int64\n"
     ]
    }
   ],
   "source": [
    "m_df = m_df.dropna()\n",
    "\n",
    "print(len(m_df))\n",
    "## 중복 제거!!! 항상 조심하자\n",
    "m_df = m_df.drop_duplicates()\n",
    "print(len(m_df))\n",
    "\n",
    "# 제목이랑 오버뷰도 중복인게 있다...\n",
    "# 비어 있거나 No overview 이런거 있을수도 있음. 제거하고 해야 한다.\n",
    "print(m_df.nunique())"
   ]
  },
  {
   "cell_type": "code",
   "execution_count": 48,
   "metadata": {},
   "outputs": [
    {
     "data": {
      "text/plain": [
       "(44476, 30000)"
      ]
     },
     "execution_count": 48,
     "metadata": {},
     "output_type": "execute_result"
    }
   ],
   "source": [
    "from sklearn.feature_extraction.text import TfidfVectorizer\n",
    "\n",
    "# max_features : 빈도 높은 3만개만 남기고 나머지는 버림\n",
    "tfidf = TfidfVectorizer(max_features = 30000)\n",
    "ov_vec = tfidf.fit_transform(m_df['overview'])\n",
    "# ov_vec은 sparse matrix, 지금은 쓸 줄 모르니까 array로 바꿔서 사용\n",
    "# toarray하면 짱느리다... 일단 빼고 하자\n",
    "# ov_vec = ov_vec.toarray()\n",
    "ov_vec.shape"
   ]
  },
  {
   "cell_type": "markdown",
   "metadata": {},
   "source": [
    "#### 2. 모든 문장들의 유사도를 계산한다. (cosine)"
   ]
  },
  {
   "cell_type": "code",
   "execution_count": null,
   "metadata": {},
   "outputs": [],
   "source": [
    "from sklearn.metrics.pairwise import cosine_similarity\n",
    "cosine_sim = cosine_similarity(ov_vec, ov_vec)\n",
    "\n",
    "cos_sim_df = pd.DataFrame(cosine_sim, index = m_df.title , columns=m_df.title)\n",
    "cos_sim_df"
   ]
  },
  {
   "cell_type": "markdown",
   "metadata": {},
   "source": [
    "#### 3. 나를 제외한 가장 유사한 문장들로 정렬한다."
   ]
  },
  {
   "cell_type": "code",
   "execution_count": 56,
   "metadata": {},
   "outputs": [
    {
     "data": {
      "text/plain": [
       "title\n",
       "Toy Story                                       1.000000\n",
       "Toy Story 3                                     0.502721\n",
       "Toy Story 2                                     0.449972\n",
       "The 40 Year Old Virgin                          0.296734\n",
       "Small Fry                                       0.290393\n",
       "Andy Hardy's Blonde Trouble                     0.250000\n",
       "Hot Splash                                      0.225455\n",
       "Andy Kaufman Plays Carnegie Hall                0.221157\n",
       "Superstar: The Life and Times of Andy Warhol    0.214194\n",
       "The Champ                                       0.210951\n",
       "Andy Peters: Exclamation Mark Question Point    0.208743\n",
       "Name: Toy Story, dtype: float64"
      ]
     },
     "execution_count": 56,
     "metadata": {},
     "output_type": "execute_result"
    }
   ],
   "source": [
    "# Toy Story와 설명이 가장 유사한 영화 제목을 보고 싶어 !\n",
    "m_name = 'Toy Story'\n",
    "cos_sim_df[m_name].sort_values(ascending = False).head(11)"
   ]
  },
  {
   "cell_type": "code",
   "execution_count": 59,
   "metadata": {},
   "outputs": [
    {
     "data": {
      "text/plain": [
       "title\n",
       "Toy Story                      1.000000\n",
       "Jumanji                        0.031322\n",
       "Grumpier Old Men               0.013096\n",
       "Waiting to Exhale              0.016329\n",
       "Father of the Bride Part II    0.031410\n",
       "                                 ...   \n",
       "Subdue                         0.005728\n",
       "Century of Birthing            0.021088\n",
       "Betrayal                       0.009616\n",
       "Satan Triumphant               0.036064\n",
       "Queerama                       0.019603\n",
       "Name: Toy Story, Length: 44476, dtype: float64"
      ]
     },
     "execution_count": 59,
     "metadata": {},
     "output_type": "execute_result"
    }
   ],
   "source": [
    "cos_sim_df['Toy Story']"
   ]
  }
 ],
 "metadata": {
  "kernelspec": {
   "display_name": "selenium",
   "language": "python",
   "name": "my_python_env2"
  },
  "language_info": {
   "codemirror_mode": {
    "name": "ipython",
    "version": 3
   },
   "file_extension": ".py",
   "mimetype": "text/x-python",
   "name": "python",
   "nbconvert_exporter": "python",
   "pygments_lexer": "ipython3",
   "version": "3.10.12"
  },
  "orig_nbformat": 4
 },
 "nbformat": 4,
 "nbformat_minor": 2
}
