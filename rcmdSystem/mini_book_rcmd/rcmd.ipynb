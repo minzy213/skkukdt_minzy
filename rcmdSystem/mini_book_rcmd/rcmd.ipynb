{
 "cells": [
  {
   "cell_type": "code",
   "execution_count": 218,
   "metadata": {},
   "outputs": [],
   "source": [
    "import pandas as pd\n"
   ]
  },
  {
   "cell_type": "markdown",
   "metadata": {},
   "source": [
    " 연도 베스트 셀러\n",
    " - 각 연도별 베스트 셀러\n",
    " - 유저-best 책\n",
    " best 책을 하나만 고르고 그 책의 연도를 가져오는 방법이 있고,\n",
    " 연도별로 평균내서 제일 괜찮은 책을 읽은 연도를 고르는 방법이 있다.\n",
    " ---\n",
    " 비슷한 유저 추천\n",
    " - 유저-책 sparse matrix 만들기\n",
    " - knn 혹은 SVD 사용, 구현하기\n",
    " ---\n",
    " 출판사 베스트 셀러\n",
    " - 출판사별 베스트 셀러\n",
    " - 유저 best 책\n",
    " ---\n",
    " 작가 베스트 셀러\n",
    " - 작가별 베스트 셀러\n",
    " - 유저 best 책\n",
    " ---\n",
    " 국가 베스트 셀러\n",
    " - 국가별 베스트 셀러\n",
    " - 유저 국가\n",
    " ---\n",
    " 매출 높은 책\n",
    " - 가격 * 리뷰수가 가장 높은 책\n",
    " - 가격에 변동이 있을 수 있고, 다 가져오는거는 시간이 너무 오래 걸린다.    \n",
    "  필요한 책 몇개의 가격만 가져오는게 시간상 옳다.\n",
    " ---\n",
    " - Country 처리 방법\n",
    "  지역 이름에 국가를 적지 않은 사람 : 4588   \n",
    "  국가 count가 2 이하인 사람 : 413    \n",
    "   첫번째 split도 국가로 했을 때 없는 사람 66    \n",
    "  첫번째 split도 국가로 했을 때 count가 10 이하인 사람 2590     \n",
    "  첫번째 split도 국가로 했을 때 count가 20 이하인 사람 2651     \n",
    "  첫번째 split도 국가로 했을 때 count가 30 이하인 사람 2681     \n",
    "  첫번째 split도 국가로 했을 때 count가 40 이하인 사람 2703     \n",
    "  첫번째 split도 국가로 했을 때 count가 50 이하인 사람 2712     \n",
    "\n",
    " - 0으로 평가한 사람 처리 방법(평점 히스토그램 그려보기)    \n",
    "    리뷰 0 뺀 갯수 433671, 유저 : 77805명   \n",
    "    리뷰 전체 갯수 1149780, 유저 : 105283명\n",
    "\n",
    " - 나이로 묶어보고 0 이상 평점 남긴 사람이 각각 많은지 확인해보기. 많으면 나이 써도 괜찮을거같다.    \n",
    "   전체 리뷰 : 1149780     \n",
    "   나이가 존재하는 리뷰 : 305277    \n",
    "   8<= 나이 <= 80인 리뷰 : 302285   \n",
    "\n",
    " - 임의로 2명 선택해야 한다.\n",
    "\n",
    " -  ```&amp; > &``` 변환 필요\n",
    " \n",
    " - 저자, 출판사, 연도 이상한거 없는지 unique 확인\n",
    "\n",
    " ---\n",
    " \n",
    " 데이터 없거나 평점 남긴게 너무 적은 사람     \n",
    " https://www.amazon.com/gp/browse.html?rw_useCurrentProtocol=1&node=8192263011&ref_=bhp_brws_100bks     \n",
    " 아마존 홈페이지에 살면서 읽어야 할 책 100권이 있다.     \n",
    " 여기에 있는 책중에서 몇개 뽑아서 추천하는 것도 괜찮을 것 같다."
   ]
  },
  {
   "cell_type": "markdown",
   "metadata": {},
   "source": [
    " ## 데이터 가져오기"
   ]
  },
  {
   "cell_type": "code",
   "execution_count": 219,
   "metadata": {},
   "outputs": [
    {
     "name": "stderr",
     "output_type": "stream",
     "text": [
      "C:\\Users\\User\\AppData\\Local\\Temp\\ipykernel_11484\\2393645977.py:4: ParserWarning: Falling back to the 'python' engine because the 'c' engine does not support regex separators (separators > 1 char and different from '\\s+' are interpreted as regex); you can avoid this warning by specifying engine='python'.\n",
      "  book_df = pd.read_csv('BX-Books.csv', sep='\";\"', encoding = 'latin', usecols = columns_to_keep)\n"
     ]
    }
   ],
   "source": [
    "columns = [\"ISBN\"]\n",
    "df = pd.read_csv('BX-Books.csv', sep = \";\", encoding = 'latin', usecols = columns)\n",
    "columns_to_keep = [\"Book-Title\", \"Book-Author\", \"Year-Of-Publication\", \"Publisher\"]\n",
    "book_df = pd.read_csv('BX-Books.csv', sep='\";\"', encoding = 'latin', usecols = columns_to_keep)\n",
    "book_df = pd.concat([df, book_df], axis = 1)\n",
    "\n",
    "user_df = pd.read_csv('BX-Users.csv', sep=';', encoding = 'latin')\n",
    "rating_df = pd.read_csv('BX-Book-Ratings.csv', sep=';', encoding = 'latin')\n"
   ]
  },
  {
   "cell_type": "code",
   "execution_count": 220,
   "metadata": {},
   "outputs": [
    {
     "data": {
      "text/html": [
       "<div>\n",
       "<style scoped>\n",
       "    .dataframe tbody tr th:only-of-type {\n",
       "        vertical-align: middle;\n",
       "    }\n",
       "\n",
       "    .dataframe tbody tr th {\n",
       "        vertical-align: top;\n",
       "    }\n",
       "\n",
       "    .dataframe thead th {\n",
       "        text-align: right;\n",
       "    }\n",
       "</style>\n",
       "<table border=\"1\" class=\"dataframe\">\n",
       "  <thead>\n",
       "    <tr style=\"text-align: right;\">\n",
       "      <th></th>\n",
       "      <th>User-ID</th>\n",
       "      <th>ISBN</th>\n",
       "      <th>Book-Rating</th>\n",
       "    </tr>\n",
       "  </thead>\n",
       "  <tbody>\n",
       "    <tr>\n",
       "      <th>0</th>\n",
       "      <td>276725</td>\n",
       "      <td>034545104X</td>\n",
       "      <td>0</td>\n",
       "    </tr>\n",
       "    <tr>\n",
       "      <th>1</th>\n",
       "      <td>2313</td>\n",
       "      <td>034545104X</td>\n",
       "      <td>5</td>\n",
       "    </tr>\n",
       "    <tr>\n",
       "      <th>2</th>\n",
       "      <td>6543</td>\n",
       "      <td>034545104X</td>\n",
       "      <td>0</td>\n",
       "    </tr>\n",
       "    <tr>\n",
       "      <th>3</th>\n",
       "      <td>8680</td>\n",
       "      <td>034545104X</td>\n",
       "      <td>5</td>\n",
       "    </tr>\n",
       "    <tr>\n",
       "      <th>4</th>\n",
       "      <td>10314</td>\n",
       "      <td>034545104X</td>\n",
       "      <td>9</td>\n",
       "    </tr>\n",
       "  </tbody>\n",
       "</table>\n",
       "</div>"
      ],
      "text/plain": [
       "   User-ID        ISBN  Book-Rating\n",
       "0   276725  034545104X            0\n",
       "1     2313  034545104X            5\n",
       "2     6543  034545104X            0\n",
       "3     8680  034545104X            5\n",
       "4    10314  034545104X            9"
      ]
     },
     "execution_count": 220,
     "metadata": {},
     "output_type": "execute_result"
    }
   ],
   "source": [
    "rating_df = rating_df.merge(book_df, on='ISBN')\n",
    "rating_df = rating_df[['User-ID', 'ISBN', 'Book-Rating']]\n",
    "rating_df.head()"
   ]
  },
  {
   "cell_type": "code",
   "execution_count": 221,
   "metadata": {},
   "outputs": [
    {
     "name": "stdout",
     "output_type": "stream",
     "text": [
      "271379\n"
     ]
    },
    {
     "data": {
      "text/html": [
       "<div>\n",
       "<style scoped>\n",
       "    .dataframe tbody tr th:only-of-type {\n",
       "        vertical-align: middle;\n",
       "    }\n",
       "\n",
       "    .dataframe tbody tr th {\n",
       "        vertical-align: top;\n",
       "    }\n",
       "\n",
       "    .dataframe thead th {\n",
       "        text-align: right;\n",
       "    }\n",
       "</style>\n",
       "<table border=\"1\" class=\"dataframe\">\n",
       "  <thead>\n",
       "    <tr style=\"text-align: right;\">\n",
       "      <th></th>\n",
       "      <th>Publisher</th>\n",
       "      <th>ISBN</th>\n",
       "    </tr>\n",
       "  </thead>\n",
       "  <tbody>\n",
       "    <tr>\n",
       "      <th>0</th>\n",
       "      <td>Editions P. Terrail</td>\n",
       "      <td>1</td>\n",
       "    </tr>\n",
       "    <tr>\n",
       "      <th>1</th>\n",
       "      <td>McGregor Publishing</td>\n",
       "      <td>1</td>\n",
       "    </tr>\n",
       "    <tr>\n",
       "      <th>2</th>\n",
       "      <td>McIlhenny Company</td>\n",
       "      <td>1</td>\n",
       "    </tr>\n",
       "    <tr>\n",
       "      <th>3</th>\n",
       "      <td>McIlvaine</td>\n",
       "      <td>1</td>\n",
       "    </tr>\n",
       "    <tr>\n",
       "      <th>4</th>\n",
       "      <td>McIndoe Publishers</td>\n",
       "      <td>1</td>\n",
       "    </tr>\n",
       "    <tr>\n",
       "      <th>...</th>\n",
       "      <td>...</td>\n",
       "      <td>...</td>\n",
       "    </tr>\n",
       "    <tr>\n",
       "      <th>16801</th>\n",
       "      <td>Bantam Books</td>\n",
       "      <td>3647</td>\n",
       "    </tr>\n",
       "    <tr>\n",
       "      <th>16802</th>\n",
       "      <td>Ballantine Books</td>\n",
       "      <td>3783</td>\n",
       "    </tr>\n",
       "    <tr>\n",
       "      <th>16803</th>\n",
       "      <td>Pocket</td>\n",
       "      <td>3905</td>\n",
       "    </tr>\n",
       "    <tr>\n",
       "      <th>16804</th>\n",
       "      <td>Silhouette</td>\n",
       "      <td>4220</td>\n",
       "    </tr>\n",
       "    <tr>\n",
       "      <th>16805</th>\n",
       "      <td>Harlequin</td>\n",
       "      <td>7536</td>\n",
       "    </tr>\n",
       "  </tbody>\n",
       "</table>\n",
       "<p>16806 rows × 2 columns</p>\n",
       "</div>"
      ],
      "text/plain": [
       "                  Publisher  ISBN\n",
       "0       Editions P. Terrail     1\n",
       "1       McGregor Publishing     1\n",
       "2         McIlhenny Company     1\n",
       "3                 McIlvaine     1\n",
       "4        McIndoe Publishers     1\n",
       "...                     ...   ...\n",
       "16801          Bantam Books  3647\n",
       "16802      Ballantine Books  3783\n",
       "16803                Pocket  3905\n",
       "16804            Silhouette  4220\n",
       "16805             Harlequin  7536\n",
       "\n",
       "[16806 rows x 2 columns]"
      ]
     },
     "execution_count": 221,
     "metadata": {},
     "output_type": "execute_result"
    }
   ],
   "source": [
    "print(len(book_df.Publisher))\n",
    "book_df.groupby('Publisher').count().sort_values('ISBN').reset_index()[['Publisher', 'ISBN']]"
   ]
  },
  {
   "cell_type": "code",
   "execution_count": 222,
   "metadata": {},
   "outputs": [
    {
     "data": {
      "text/html": [
       "<div>\n",
       "<style scoped>\n",
       "    .dataframe tbody tr th:only-of-type {\n",
       "        vertical-align: middle;\n",
       "    }\n",
       "\n",
       "    .dataframe tbody tr th {\n",
       "        vertical-align: top;\n",
       "    }\n",
       "\n",
       "    .dataframe thead th {\n",
       "        text-align: right;\n",
       "    }\n",
       "</style>\n",
       "<table border=\"1\" class=\"dataframe\">\n",
       "  <thead>\n",
       "    <tr style=\"text-align: right;\">\n",
       "      <th></th>\n",
       "      <th>User-ID</th>\n",
       "      <th>Location</th>\n",
       "      <th>Age</th>\n",
       "    </tr>\n",
       "  </thead>\n",
       "  <tbody>\n",
       "    <tr>\n",
       "      <th>0</th>\n",
       "      <td>1</td>\n",
       "      <td>nyc, new york, usa</td>\n",
       "      <td>NaN</td>\n",
       "    </tr>\n",
       "    <tr>\n",
       "      <th>1</th>\n",
       "      <td>2</td>\n",
       "      <td>stockton, california, usa</td>\n",
       "      <td>18.0</td>\n",
       "    </tr>\n",
       "    <tr>\n",
       "      <th>2</th>\n",
       "      <td>3</td>\n",
       "      <td>moscow, yukon territory, russia</td>\n",
       "      <td>NaN</td>\n",
       "    </tr>\n",
       "    <tr>\n",
       "      <th>3</th>\n",
       "      <td>4</td>\n",
       "      <td>porto, v.n.gaia, portugal</td>\n",
       "      <td>17.0</td>\n",
       "    </tr>\n",
       "    <tr>\n",
       "      <th>4</th>\n",
       "      <td>5</td>\n",
       "      <td>farnborough, hants, united kingdom</td>\n",
       "      <td>NaN</td>\n",
       "    </tr>\n",
       "    <tr>\n",
       "      <th>...</th>\n",
       "      <td>...</td>\n",
       "      <td>...</td>\n",
       "      <td>...</td>\n",
       "    </tr>\n",
       "    <tr>\n",
       "      <th>278853</th>\n",
       "      <td>278854</td>\n",
       "      <td>portland, oregon, usa</td>\n",
       "      <td>NaN</td>\n",
       "    </tr>\n",
       "    <tr>\n",
       "      <th>278854</th>\n",
       "      <td>278855</td>\n",
       "      <td>tacoma, washington, united kingdom</td>\n",
       "      <td>50.0</td>\n",
       "    </tr>\n",
       "    <tr>\n",
       "      <th>278855</th>\n",
       "      <td>278856</td>\n",
       "      <td>brampton, ontario, canada</td>\n",
       "      <td>NaN</td>\n",
       "    </tr>\n",
       "    <tr>\n",
       "      <th>278856</th>\n",
       "      <td>278857</td>\n",
       "      <td>knoxville, tennessee, usa</td>\n",
       "      <td>NaN</td>\n",
       "    </tr>\n",
       "    <tr>\n",
       "      <th>278857</th>\n",
       "      <td>278858</td>\n",
       "      <td>dublin, n/a, ireland</td>\n",
       "      <td>NaN</td>\n",
       "    </tr>\n",
       "  </tbody>\n",
       "</table>\n",
       "<p>278858 rows × 3 columns</p>\n",
       "</div>"
      ],
      "text/plain": [
       "        User-ID                            Location   Age\n",
       "0             1                  nyc, new york, usa   NaN\n",
       "1             2           stockton, california, usa  18.0\n",
       "2             3     moscow, yukon territory, russia   NaN\n",
       "3             4           porto, v.n.gaia, portugal  17.0\n",
       "4             5  farnborough, hants, united kingdom   NaN\n",
       "...         ...                                 ...   ...\n",
       "278853   278854               portland, oregon, usa   NaN\n",
       "278854   278855  tacoma, washington, united kingdom  50.0\n",
       "278855   278856           brampton, ontario, canada   NaN\n",
       "278856   278857           knoxville, tennessee, usa   NaN\n",
       "278857   278858                dublin, n/a, ireland   NaN\n",
       "\n",
       "[278858 rows x 3 columns]"
      ]
     },
     "execution_count": 222,
     "metadata": {},
     "output_type": "execute_result"
    }
   ],
   "source": [
    "user_df\n"
   ]
  },
  {
   "cell_type": "code",
   "execution_count": 223,
   "metadata": {},
   "outputs": [
    {
     "data": {
      "text/html": [
       "<div>\n",
       "<style scoped>\n",
       "    .dataframe tbody tr th:only-of-type {\n",
       "        vertical-align: middle;\n",
       "    }\n",
       "\n",
       "    .dataframe tbody tr th {\n",
       "        vertical-align: top;\n",
       "    }\n",
       "\n",
       "    .dataframe thead th {\n",
       "        text-align: right;\n",
       "    }\n",
       "</style>\n",
       "<table border=\"1\" class=\"dataframe\">\n",
       "  <thead>\n",
       "    <tr style=\"text-align: right;\">\n",
       "      <th></th>\n",
       "      <th>User-ID</th>\n",
       "      <th>ISBN</th>\n",
       "      <th>Book-Rating</th>\n",
       "    </tr>\n",
       "  </thead>\n",
       "  <tbody>\n",
       "    <tr>\n",
       "      <th>0</th>\n",
       "      <td>276725</td>\n",
       "      <td>034545104X</td>\n",
       "      <td>0</td>\n",
       "    </tr>\n",
       "    <tr>\n",
       "      <th>1</th>\n",
       "      <td>2313</td>\n",
       "      <td>034545104X</td>\n",
       "      <td>5</td>\n",
       "    </tr>\n",
       "    <tr>\n",
       "      <th>2</th>\n",
       "      <td>6543</td>\n",
       "      <td>034545104X</td>\n",
       "      <td>0</td>\n",
       "    </tr>\n",
       "    <tr>\n",
       "      <th>3</th>\n",
       "      <td>8680</td>\n",
       "      <td>034545104X</td>\n",
       "      <td>5</td>\n",
       "    </tr>\n",
       "    <tr>\n",
       "      <th>4</th>\n",
       "      <td>10314</td>\n",
       "      <td>034545104X</td>\n",
       "      <td>9</td>\n",
       "    </tr>\n",
       "    <tr>\n",
       "      <th>...</th>\n",
       "      <td>...</td>\n",
       "      <td>...</td>\n",
       "      <td>...</td>\n",
       "    </tr>\n",
       "    <tr>\n",
       "      <th>1031170</th>\n",
       "      <td>276688</td>\n",
       "      <td>0517145553</td>\n",
       "      <td>0</td>\n",
       "    </tr>\n",
       "    <tr>\n",
       "      <th>1031171</th>\n",
       "      <td>276688</td>\n",
       "      <td>1575660792</td>\n",
       "      <td>7</td>\n",
       "    </tr>\n",
       "    <tr>\n",
       "      <th>1031172</th>\n",
       "      <td>276690</td>\n",
       "      <td>0590907301</td>\n",
       "      <td>0</td>\n",
       "    </tr>\n",
       "    <tr>\n",
       "      <th>1031173</th>\n",
       "      <td>276704</td>\n",
       "      <td>0679752714</td>\n",
       "      <td>0</td>\n",
       "    </tr>\n",
       "    <tr>\n",
       "      <th>1031174</th>\n",
       "      <td>276704</td>\n",
       "      <td>0806917695</td>\n",
       "      <td>5</td>\n",
       "    </tr>\n",
       "  </tbody>\n",
       "</table>\n",
       "<p>1031175 rows × 3 columns</p>\n",
       "</div>"
      ],
      "text/plain": [
       "         User-ID        ISBN  Book-Rating\n",
       "0         276725  034545104X            0\n",
       "1           2313  034545104X            5\n",
       "2           6543  034545104X            0\n",
       "3           8680  034545104X            5\n",
       "4          10314  034545104X            9\n",
       "...          ...         ...          ...\n",
       "1031170   276688  0517145553            0\n",
       "1031171   276688  1575660792            7\n",
       "1031172   276690  0590907301            0\n",
       "1031173   276704  0679752714            0\n",
       "1031174   276704  0806917695            5\n",
       "\n",
       "[1031175 rows x 3 columns]"
      ]
     },
     "execution_count": 223,
     "metadata": {},
     "output_type": "execute_result"
    }
   ],
   "source": [
    "rating_df\n"
   ]
  },
  {
   "cell_type": "markdown",
   "metadata": {},
   "source": [
    " ## 데이터 정제"
   ]
  },
  {
   "cell_type": "markdown",
   "metadata": {},
   "source": [
    " ### Country 추출"
   ]
  },
  {
   "cell_type": "code",
   "execution_count": 224,
   "metadata": {},
   "outputs": [],
   "source": [
    "# Location에서 국가 정보 추출하기\n",
    "def getCountry(data):\n",
    "    s = data.replace(' ', '').replace('\"', '').split(',')\n",
    "    if len(s) > 0:\n",
    "        if len(s[-1]):\n",
    "            return s[-1]\n",
    "        else: # 마지막 split에 국가 없을 때 첫번째 split에서 가져와본다\n",
    "            return s[0]\n",
    "user_df['Country'] = user_df['Location'].apply(getCountry)\n"
   ]
  },
  {
   "cell_type": "markdown",
   "metadata": {},
   "source": [
    " #### 국가 없는 사람\n",
    " 지역 이름에 국가를 적지 않은 사람 : 4588    \n",
    " 첫번째 split도 국가로 했을 때 없는 사람 66"
   ]
  },
  {
   "cell_type": "code",
   "execution_count": 225,
   "metadata": {},
   "outputs": [
    {
     "data": {
      "text/plain": [
       "4968      , ,\n",
       "9395      , ,\n",
       "14858     , ,\n",
       "22305     , ,\n",
       "33871     , ,\n",
       "         ... \n",
       "246198    , ,\n",
       "260720    , ,\n",
       "260725    , ,\n",
       "265540    , ,\n",
       "273607    , ,\n",
       "Name: Location, Length: 66, dtype: object"
      ]
     },
     "execution_count": 225,
     "metadata": {},
     "output_type": "execute_result"
    }
   ],
   "source": [
    "user_df[user_df['Country'] == '']['Location']\n"
   ]
  },
  {
   "cell_type": "markdown",
   "metadata": {},
   "source": [
    " #### 국가 count 적은 사람\n",
    "\n",
    " 국가 count가 2 이하인 사람 : 413\n",
    "\n",
    " 첫번째 split도 국가로 했을 때 count가 10 이하인 사람 2590     \n",
    " 첫번째 split도 국가로 했을 때 count가 20 이하인 사람 2651     \n",
    " 첫번째 split도 국가로 했을 때 count가 30 이하인 사람 2681     \n",
    " 첫번째 split도 국가로 했을 때 count가 40 이하인 사람 2703     \n",
    " 첫번째 split도 국가로 했을 때 count가 50 이하인 사람 2712     \n",
    "\n",
    " ==> 국가 이름을 첫번째 split에 넣은 사람이 많은 것 같다"
   ]
  },
  {
   "cell_type": "code",
   "execution_count": 226,
   "metadata": {},
   "outputs": [
    {
     "data": {
      "text/html": [
       "<div>\n",
       "<style scoped>\n",
       "    .dataframe tbody tr th:only-of-type {\n",
       "        vertical-align: middle;\n",
       "    }\n",
       "\n",
       "    .dataframe tbody tr th {\n",
       "        vertical-align: top;\n",
       "    }\n",
       "\n",
       "    .dataframe thead th {\n",
       "        text-align: right;\n",
       "    }\n",
       "</style>\n",
       "<table border=\"1\" class=\"dataframe\">\n",
       "  <thead>\n",
       "    <tr style=\"text-align: right;\">\n",
       "      <th></th>\n",
       "      <th>Country</th>\n",
       "      <th>Location</th>\n",
       "    </tr>\n",
       "  </thead>\n",
       "  <tbody>\n",
       "    <tr>\n",
       "      <th>1</th>\n",
       "      <td>&amp;#20013;&amp;#22269;</td>\n",
       "      <td>1</td>\n",
       "    </tr>\n",
       "    <tr>\n",
       "      <th>2</th>\n",
       "      <td>&amp;#21512;&amp;#32933;</td>\n",
       "      <td>1</td>\n",
       "    </tr>\n",
       "    <tr>\n",
       "      <th>3</th>\n",
       "      <td>&amp;#30707;&amp;#29422;</td>\n",
       "      <td>1</td>\n",
       "    </tr>\n",
       "    <tr>\n",
       "      <th>4</th>\n",
       "      <td>&amp;#32654;&amp;#22269;</td>\n",
       "      <td>1</td>\n",
       "    </tr>\n",
       "    <tr>\n",
       "      <th>5</th>\n",
       "      <td>*</td>\n",
       "      <td>1</td>\n",
       "    </tr>\n",
       "    <tr>\n",
       "      <th>...</th>\n",
       "      <td>...</td>\n",
       "      <td>...</td>\n",
       "    </tr>\n",
       "    <tr>\n",
       "      <th>2776</th>\n",
       "      <td>¹þ¶û±õ</td>\n",
       "      <td>1</td>\n",
       "    </tr>\n",
       "    <tr>\n",
       "      <th>2777</th>\n",
       "      <td>ä¸­å?½</td>\n",
       "      <td>2</td>\n",
       "    </tr>\n",
       "    <tr>\n",
       "      <th>2778</th>\n",
       "      <td>ôàñô</td>\n",
       "      <td>1</td>\n",
       "    </tr>\n",
       "    <tr>\n",
       "      <th>2779</th>\n",
       "      <td>öð¹ú</td>\n",
       "      <td>8</td>\n",
       "    </tr>\n",
       "    <tr>\n",
       "      <th>2780</th>\n",
       "      <td>ýstanbul</td>\n",
       "      <td>2</td>\n",
       "    </tr>\n",
       "  </tbody>\n",
       "</table>\n",
       "<p>2712 rows × 2 columns</p>\n",
       "</div>"
      ],
      "text/plain": [
       "               Country  Location\n",
       "1     &#20013;&#22269;         1\n",
       "2     &#21512;&#32933;         1\n",
       "3     &#30707;&#29422;         1\n",
       "4     &#32654;&#22269;         1\n",
       "5                    *         1\n",
       "...                ...       ...\n",
       "2776            ¹þ¶û±õ         1\n",
       "2777            ä¸­å?½         2\n",
       "2778              ôàñô         1\n",
       "2779              öð¹ú         8\n",
       "2780          ýstanbul         2\n",
       "\n",
       "[2712 rows x 2 columns]"
      ]
     },
     "execution_count": 226,
     "metadata": {},
     "output_type": "execute_result"
    }
   ],
   "source": [
    "out = user_df.groupby('Country').count()[['Location']].reset_index()\n",
    "out[out['Location'] <= 50]"
   ]
  },
  {
   "cell_type": "code",
   "execution_count": 227,
   "metadata": {},
   "outputs": [
    {
     "data": {
      "text/plain": [
       "2781"
      ]
     },
     "execution_count": 227,
     "metadata": {},
     "output_type": "execute_result"
    }
   ],
   "source": [
    "user_df['Country'].nunique()"
   ]
  },
  {
   "cell_type": "markdown",
   "metadata": {},
   "source": [
    " ### price parsing"
   ]
  },
  {
   "cell_type": "code",
   "execution_count": 228,
   "metadata": {},
   "outputs": [],
   "source": [
    "# Service 지정\n",
    "# import requests\n",
    "# from webdriver_manager.chrome import ChromeDriverManager\n",
    "# from bs4 import BeautifulSoup\n",
    "# from tqdm.notebook import tqdm\n",
    "# s = Service(ChromeDriverManager(version=\"114.0.5735.90\").install())\n",
    "# driver = webdriver.Chrome(service=s)\n",
    "# li = []\n",
    "# for id in tqdm(book_df['ISBN']):\n",
    "#     url1='https://www.abebooks.com/book-search/isbn/' + id + '/'\n",
    "#     response = requests.get(url1)\n",
    "#     soup = BeautifulSoup(response.content, 'lxml')\n",
    "#     sel = soup.select('p.item-price')\n",
    "#     if len(sel) > 0:\n",
    "#         li.append(soup.select('p.item-price')[0].text)\n",
    "#     else:\n",
    "#         li.append('')\n"
   ]
  },
  {
   "cell_type": "code",
   "execution_count": 229,
   "metadata": {},
   "outputs": [],
   "source": [
    "# lli = pd.DataFrame(li)\n",
    "# lli.to_csv('price.csv')\n"
   ]
  },
  {
   "cell_type": "markdown",
   "metadata": {},
   "source": [
    " ### rating 0 처리"
   ]
  },
  {
   "cell_type": "markdown",
   "metadata": {},
   "source": [
    " ### 연도 베스트 셀러\n",
    "\n",
    " - 각 연도별 베스트 셀러\n",
    " - 유저-best 책\n",
    "\n",
    " best 책을 하나만 고르고 그 책의 연도를 가져오는 방법이 있고,\n",
    " 연도별로 평균내서 제일 괜찮은 책을 읽은 연도를 고르는 방법이 있다."
   ]
  },
  {
   "cell_type": "markdown",
   "metadata": {},
   "source": [
    " ### 비슷한 유저 추천\n",
    " - 유저-책 sparse matrix 만들기\n",
    " - knn 혹은 SVD 사용, 구현하기"
   ]
  },
  {
   "cell_type": "markdown",
   "metadata": {},
   "source": [
    " ### 출판사 베스트 셀러\n",
    " - 출판사별 베스트 셀러\n",
    " - 유저 best 책"
   ]
  },
  {
   "cell_type": "markdown",
   "metadata": {},
   "source": [
    " ### 작가 베스트 셀러\n",
    " - 작가별 베스트 셀러\n",
    " - 유저 best 책"
   ]
  },
  {
   "cell_type": "markdown",
   "metadata": {},
   "source": [
    " ### 국가 베스트 셀러\n",
    " - 국가별 베스트 셀러\n",
    " - 유저 국가"
   ]
  },
  {
   "cell_type": "markdown",
   "metadata": {},
   "source": [
    " ### 매출 높은 책\n",
    " 가격 * 리뷰수가 가장 높은 책"
   ]
  },
  {
   "cell_type": "markdown",
   "metadata": {},
   "source": [
    " ## 대상 5명"
   ]
  },
  {
   "cell_type": "code",
   "execution_count": 230,
   "metadata": {},
   "outputs": [
    {
     "name": "stdout",
     "output_type": "stream",
     "text": [
      "        User-ID                       Location   Age    Country\n",
      "11675     11676                  n/a, n/a, n/a   NaN        n/a\n",
      "88704     88705          put-in-bay, ohio, usa   NaN        usa\n",
      "161935   161936  gisborne, victoria, australia  53.0  australia\n",
      "182458   182459       fort wayne, indiana, usa  28.0        usa\n",
      "198710   198711  little canada, minnesota, usa  62.0        usa\n",
      "226481   226482                singapore, n/a,  21.0  singapore\n",
      "264320   264321       toronto, ontario, canada  33.0     canada\n"
     ]
    }
   ],
   "source": [
    "li = [88705,264321,182459,161936,226482, 11676, 198711]\n",
    "print(user_df[user_df['User-ID'].isin(li)])\n"
   ]
  },
  {
   "cell_type": "code",
   "execution_count": 231,
   "metadata": {},
   "outputs": [
    {
     "data": {
      "text/html": [
       "<div>\n",
       "<style scoped>\n",
       "    .dataframe tbody tr th:only-of-type {\n",
       "        vertical-align: middle;\n",
       "    }\n",
       "\n",
       "    .dataframe tbody tr th {\n",
       "        vertical-align: top;\n",
       "    }\n",
       "\n",
       "    .dataframe thead th {\n",
       "        text-align: right;\n",
       "    }\n",
       "</style>\n",
       "<table border=\"1\" class=\"dataframe\">\n",
       "  <thead>\n",
       "    <tr style=\"text-align: right;\">\n",
       "      <th></th>\n",
       "      <th>User-ID</th>\n",
       "      <th>Location</th>\n",
       "      <th>Age</th>\n",
       "      <th>Country</th>\n",
       "    </tr>\n",
       "  </thead>\n",
       "  <tbody>\n",
       "    <tr>\n",
       "      <th>11675</th>\n",
       "      <td>11676</td>\n",
       "      <td>n/a, n/a, n/a</td>\n",
       "      <td>NaN</td>\n",
       "      <td>n/a</td>\n",
       "    </tr>\n",
       "  </tbody>\n",
       "</table>\n",
       "</div>"
      ],
      "text/plain": [
       "       User-ID       Location  Age Country\n",
       "11675    11676  n/a, n/a, n/a  NaN     n/a"
      ]
     },
     "execution_count": 231,
     "metadata": {},
     "output_type": "execute_result"
    }
   ],
   "source": [
    "user_df[user_df['User-ID'] == 11676]"
   ]
  },
  {
   "cell_type": "markdown",
   "metadata": {},
   "source": [
    " - 88705 : 1개(0525144609)\n",
    "\n",
    " - 264321 : 850개\n",
    "    53세 user : 2072명\n",
    "\n",
    " - 182459 : 50개\n",
    "    28세 user :  5347명\n",
    "\n",
    " - 161936 : 150개\n",
    " 21세 user : 4438명\n",
    "\n",
    " - 226482 : 117개\n",
    " 33세 user : 4700명"
   ]
  },
  {
   "cell_type": "code",
   "execution_count": 232,
   "metadata": {},
   "outputs": [
    {
     "data": {
      "text/plain": [
       "<Axes: >"
      ]
     },
     "execution_count": 232,
     "metadata": {},
     "output_type": "execute_result"
    },
    {
     "data": {
      "image/png": "[encoded data removed]",
      "text/plain": [
       "<Figure size 640x480 with 1 Axes>"
      ]
     },
     "metadata": {},
     "output_type": "display_data"
    }
   ],
   "source": [
    "rating_df[rating_df['Book-Rating'] > 0]['Book-Rating'].hist(bins = 10)"
   ]
  },
  {
   "cell_type": "code",
   "execution_count": 233,
   "metadata": {},
   "outputs": [
    {
     "data": {
      "text/plain": [
       "<Axes: >"
      ]
     },
     "execution_count": 233,
     "metadata": {},
     "output_type": "execute_result"
    },
    {
     "data": {
      "image/png": "[encoded data removed]",
      "text/plain": [
       "<Figure size 640x480 with 1 Axes>"
      ]
     },
     "metadata": {},
     "output_type": "display_data"
    }
   ],
   "source": [
    "# 평점 히스토그램\n",
    "rating_df['Book-Rating'].hist()"
   ]
  },
  {
   "cell_type": "code",
   "execution_count": 234,
   "metadata": {},
   "outputs": [
    {
     "data": {
      "text/html": [
       "<div>\n",
       "<style scoped>\n",
       "    .dataframe tbody tr th:only-of-type {\n",
       "        vertical-align: middle;\n",
       "    }\n",
       "\n",
       "    .dataframe tbody tr th {\n",
       "        vertical-align: top;\n",
       "    }\n",
       "\n",
       "    .dataframe thead th {\n",
       "        text-align: right;\n",
       "    }\n",
       "</style>\n",
       "<table border=\"1\" class=\"dataframe\">\n",
       "  <thead>\n",
       "    <tr style=\"text-align: right;\">\n",
       "      <th></th>\n",
       "      <th>User-ID</th>\n",
       "      <th>Age</th>\n",
       "    </tr>\n",
       "  </thead>\n",
       "  <tbody>\n",
       "    <tr>\n",
       "      <th>1</th>\n",
       "      <td>2</td>\n",
       "      <td>18.0</td>\n",
       "    </tr>\n",
       "    <tr>\n",
       "      <th>3</th>\n",
       "      <td>4</td>\n",
       "      <td>17.0</td>\n",
       "    </tr>\n",
       "    <tr>\n",
       "      <th>5</th>\n",
       "      <td>6</td>\n",
       "      <td>61.0</td>\n",
       "    </tr>\n",
       "    <tr>\n",
       "      <th>9</th>\n",
       "      <td>10</td>\n",
       "      <td>26.0</td>\n",
       "    </tr>\n",
       "    <tr>\n",
       "      <th>10</th>\n",
       "      <td>11</td>\n",
       "      <td>14.0</td>\n",
       "    </tr>\n",
       "    <tr>\n",
       "      <th>...</th>\n",
       "      <td>...</td>\n",
       "      <td>...</td>\n",
       "    </tr>\n",
       "    <tr>\n",
       "      <th>278848</th>\n",
       "      <td>278849</td>\n",
       "      <td>23.0</td>\n",
       "    </tr>\n",
       "    <tr>\n",
       "      <th>278850</th>\n",
       "      <td>278851</td>\n",
       "      <td>33.0</td>\n",
       "    </tr>\n",
       "    <tr>\n",
       "      <th>278851</th>\n",
       "      <td>278852</td>\n",
       "      <td>32.0</td>\n",
       "    </tr>\n",
       "    <tr>\n",
       "      <th>278852</th>\n",
       "      <td>278853</td>\n",
       "      <td>17.0</td>\n",
       "    </tr>\n",
       "    <tr>\n",
       "      <th>278854</th>\n",
       "      <td>278855</td>\n",
       "      <td>50.0</td>\n",
       "    </tr>\n",
       "  </tbody>\n",
       "</table>\n",
       "<p>168096 rows × 2 columns</p>\n",
       "</div>"
      ],
      "text/plain": [
       "        User-ID   Age\n",
       "1             2  18.0\n",
       "3             4  17.0\n",
       "5             6  61.0\n",
       "9            10  26.0\n",
       "10           11  14.0\n",
       "...         ...   ...\n",
       "278848   278849  23.0\n",
       "278850   278851  33.0\n",
       "278851   278852  32.0\n",
       "278852   278853  17.0\n",
       "278854   278855  50.0\n",
       "\n",
       "[168096 rows x 2 columns]"
      ]
     },
     "execution_count": 234,
     "metadata": {},
     "output_type": "execute_result"
    }
   ],
   "source": [
    "nonZero = rating_df[rating_df['Book-Rating'] != 0]\n",
    "hasAge = user_df[user_df['Age'] >= 0][['User-ID', 'Age']]\n",
    "hasAge"
   ]
  },
  {
   "cell_type": "code",
   "execution_count": 235,
   "metadata": {},
   "outputs": [
    {
     "name": "stderr",
     "output_type": "stream",
     "text": [
      "C:\\Users\\User\\AppData\\Local\\Temp\\ipykernel_11484\\398543370.py:2: FutureWarning: The default value of numeric_only in DataFrameGroupBy.mean is deprecated. In a future version, numeric_only will default to False. Either specify numeric_only or select only columns which should be valid for the function.\n",
      "  nonZeroAge.groupby('Age').mean()\n"
     ]
    },
    {
     "data": {
      "text/html": [
       "<div>\n",
       "<style scoped>\n",
       "    .dataframe tbody tr th:only-of-type {\n",
       "        vertical-align: middle;\n",
       "    }\n",
       "\n",
       "    .dataframe tbody tr th {\n",
       "        vertical-align: top;\n",
       "    }\n",
       "\n",
       "    .dataframe thead th {\n",
       "        text-align: right;\n",
       "    }\n",
       "</style>\n",
       "<table border=\"1\" class=\"dataframe\">\n",
       "  <thead>\n",
       "    <tr style=\"text-align: right;\">\n",
       "      <th></th>\n",
       "      <th>User-ID</th>\n",
       "      <th>Book-Rating</th>\n",
       "    </tr>\n",
       "    <tr>\n",
       "      <th>Age</th>\n",
       "      <th></th>\n",
       "      <th></th>\n",
       "    </tr>\n",
       "  </thead>\n",
       "  <tbody>\n",
       "    <tr>\n",
       "      <th>0.0</th>\n",
       "      <td>131180.763285</td>\n",
       "      <td>7.748792</td>\n",
       "    </tr>\n",
       "    <tr>\n",
       "      <th>1.0</th>\n",
       "      <td>153103.335000</td>\n",
       "      <td>7.415000</td>\n",
       "    </tr>\n",
       "    <tr>\n",
       "      <th>2.0</th>\n",
       "      <td>136315.051813</td>\n",
       "      <td>7.010363</td>\n",
       "    </tr>\n",
       "    <tr>\n",
       "      <th>3.0</th>\n",
       "      <td>168148.321429</td>\n",
       "      <td>8.380952</td>\n",
       "    </tr>\n",
       "    <tr>\n",
       "      <th>4.0</th>\n",
       "      <td>203674.012579</td>\n",
       "      <td>7.893082</td>\n",
       "    </tr>\n",
       "    <tr>\n",
       "      <th>...</th>\n",
       "      <td>...</td>\n",
       "      <td>...</td>\n",
       "    </tr>\n",
       "    <tr>\n",
       "      <th>228.0</th>\n",
       "      <td>202452.500000</td>\n",
       "      <td>7.750000</td>\n",
       "    </tr>\n",
       "    <tr>\n",
       "      <th>229.0</th>\n",
       "      <td>172058.000000</td>\n",
       "      <td>7.333333</td>\n",
       "    </tr>\n",
       "    <tr>\n",
       "      <th>237.0</th>\n",
       "      <td>58286.000000</td>\n",
       "      <td>5.000000</td>\n",
       "    </tr>\n",
       "    <tr>\n",
       "      <th>239.0</th>\n",
       "      <td>8782.000000</td>\n",
       "      <td>9.142857</td>\n",
       "    </tr>\n",
       "    <tr>\n",
       "      <th>244.0</th>\n",
       "      <td>20857.000000</td>\n",
       "      <td>7.333333</td>\n",
       "    </tr>\n",
       "  </tbody>\n",
       "</table>\n",
       "<p>132 rows × 2 columns</p>\n",
       "</div>"
      ],
      "text/plain": [
       "             User-ID  Book-Rating\n",
       "Age                              \n",
       "0.0    131180.763285     7.748792\n",
       "1.0    153103.335000     7.415000\n",
       "2.0    136315.051813     7.010363\n",
       "3.0    168148.321429     8.380952\n",
       "4.0    203674.012579     7.893082\n",
       "...              ...          ...\n",
       "228.0  202452.500000     7.750000\n",
       "229.0  172058.000000     7.333333\n",
       "237.0   58286.000000     5.000000\n",
       "239.0    8782.000000     9.142857\n",
       "244.0   20857.000000     7.333333\n",
       "\n",
       "[132 rows x 2 columns]"
      ]
     },
     "execution_count": 235,
     "metadata": {},
     "output_type": "execute_result"
    }
   ],
   "source": [
    "nonZeroAge = nonZero.merge(hasAge, on = 'User-ID')\n",
    "nonZeroAge.groupby('Age').mean()"
   ]
  },
  {
   "cell_type": "code",
   "execution_count": 236,
   "metadata": {},
   "outputs": [],
   "source": [
    "nonZeroAge = nonZeroAge[(8 <= nonZeroAge['Age']) & (nonZeroAge['Age'] <= 80)]\n",
    "nonZeroAge.groupby('Age').count()[['User-ID']].to_csv('tmp.csv')"
   ]
  },
  {
   "cell_type": "markdown",
   "metadata": {},
   "source": [
    "# SVD"
   ]
  },
  {
   "cell_type": "code",
   "execution_count": 237,
   "metadata": {},
   "outputs": [],
   "source": [
    "import numpy as np\n",
    "import pandas as pd\n",
    "import matplotlib.pyplot as plt\n",
    "import random\n",
    "from sklearn.neighbors import NearestNeighbors\n",
    "from scipy.sparse import coo_matrix, csr_matrix, csc_matrix # array도 있음"
   ]
  },
  {
   "cell_type": "code",
   "execution_count": 238,
   "metadata": {},
   "outputs": [
    {
     "data": {
      "text/html": [
       "<div>\n",
       "<style scoped>\n",
       "    .dataframe tbody tr th:only-of-type {\n",
       "        vertical-align: middle;\n",
       "    }\n",
       "\n",
       "    .dataframe tbody tr th {\n",
       "        vertical-align: top;\n",
       "    }\n",
       "\n",
       "    .dataframe thead th {\n",
       "        text-align: right;\n",
       "    }\n",
       "</style>\n",
       "<table border=\"1\" class=\"dataframe\">\n",
       "  <thead>\n",
       "    <tr style=\"text-align: right;\">\n",
       "      <th></th>\n",
       "      <th>User-ID</th>\n",
       "      <th>ISBN</th>\n",
       "      <th>Book-Rating</th>\n",
       "    </tr>\n",
       "  </thead>\n",
       "  <tbody>\n",
       "    <tr>\n",
       "      <th>0</th>\n",
       "      <td>276725</td>\n",
       "      <td>034545104X</td>\n",
       "      <td>0</td>\n",
       "    </tr>\n",
       "    <tr>\n",
       "      <th>1</th>\n",
       "      <td>2313</td>\n",
       "      <td>034545104X</td>\n",
       "      <td>5</td>\n",
       "    </tr>\n",
       "    <tr>\n",
       "      <th>2</th>\n",
       "      <td>6543</td>\n",
       "      <td>034545104X</td>\n",
       "      <td>0</td>\n",
       "    </tr>\n",
       "    <tr>\n",
       "      <th>3</th>\n",
       "      <td>8680</td>\n",
       "      <td>034545104X</td>\n",
       "      <td>5</td>\n",
       "    </tr>\n",
       "    <tr>\n",
       "      <th>4</th>\n",
       "      <td>10314</td>\n",
       "      <td>034545104X</td>\n",
       "      <td>9</td>\n",
       "    </tr>\n",
       "    <tr>\n",
       "      <th>...</th>\n",
       "      <td>...</td>\n",
       "      <td>...</td>\n",
       "      <td>...</td>\n",
       "    </tr>\n",
       "    <tr>\n",
       "      <th>1031170</th>\n",
       "      <td>276688</td>\n",
       "      <td>0517145553</td>\n",
       "      <td>0</td>\n",
       "    </tr>\n",
       "    <tr>\n",
       "      <th>1031171</th>\n",
       "      <td>276688</td>\n",
       "      <td>1575660792</td>\n",
       "      <td>7</td>\n",
       "    </tr>\n",
       "    <tr>\n",
       "      <th>1031172</th>\n",
       "      <td>276690</td>\n",
       "      <td>0590907301</td>\n",
       "      <td>0</td>\n",
       "    </tr>\n",
       "    <tr>\n",
       "      <th>1031173</th>\n",
       "      <td>276704</td>\n",
       "      <td>0679752714</td>\n",
       "      <td>0</td>\n",
       "    </tr>\n",
       "    <tr>\n",
       "      <th>1031174</th>\n",
       "      <td>276704</td>\n",
       "      <td>0806917695</td>\n",
       "      <td>5</td>\n",
       "    </tr>\n",
       "  </tbody>\n",
       "</table>\n",
       "<p>1031175 rows × 3 columns</p>\n",
       "</div>"
      ],
      "text/plain": [
       "         User-ID        ISBN  Book-Rating\n",
       "0         276725  034545104X            0\n",
       "1           2313  034545104X            5\n",
       "2           6543  034545104X            0\n",
       "3           8680  034545104X            5\n",
       "4          10314  034545104X            9\n",
       "...          ...         ...          ...\n",
       "1031170   276688  0517145553            0\n",
       "1031171   276688  1575660792            7\n",
       "1031172   276690  0590907301            0\n",
       "1031173   276704  0679752714            0\n",
       "1031174   276704  0806917695            5\n",
       "\n",
       "[1031175 rows x 3 columns]"
      ]
     },
     "execution_count": 238,
     "metadata": {},
     "output_type": "execute_result"
    }
   ],
   "source": [
    "rating_df"
   ]
  },
  {
   "cell_type": "code",
   "execution_count": 239,
   "metadata": {},
   "outputs": [
    {
     "data": {
      "text/html": [
       "<div>\n",
       "<style scoped>\n",
       "    .dataframe tbody tr th:only-of-type {\n",
       "        vertical-align: middle;\n",
       "    }\n",
       "\n",
       "    .dataframe tbody tr th {\n",
       "        vertical-align: top;\n",
       "    }\n",
       "\n",
       "    .dataframe thead th {\n",
       "        text-align: right;\n",
       "    }\n",
       "</style>\n",
       "<table border=\"1\" class=\"dataframe\">\n",
       "  <thead>\n",
       "    <tr style=\"text-align: right;\">\n",
       "      <th></th>\n",
       "      <th>User-ID</th>\n",
       "      <th>ISBN</th>\n",
       "      <th>Book-Rating</th>\n",
       "    </tr>\n",
       "  </thead>\n",
       "  <tbody>\n",
       "    <tr>\n",
       "      <th>0</th>\n",
       "      <td>276725</td>\n",
       "      <td>034545104X</td>\n",
       "      <td>0.0</td>\n",
       "    </tr>\n",
       "    <tr>\n",
       "      <th>1</th>\n",
       "      <td>2313</td>\n",
       "      <td>034545104X</td>\n",
       "      <td>5.0</td>\n",
       "    </tr>\n",
       "    <tr>\n",
       "      <th>2</th>\n",
       "      <td>6543</td>\n",
       "      <td>034545104X</td>\n",
       "      <td>0.0</td>\n",
       "    </tr>\n",
       "    <tr>\n",
       "      <th>3</th>\n",
       "      <td>8680</td>\n",
       "      <td>034545104X</td>\n",
       "      <td>5.0</td>\n",
       "    </tr>\n",
       "    <tr>\n",
       "      <th>4</th>\n",
       "      <td>10314</td>\n",
       "      <td>034545104X</td>\n",
       "      <td>9.0</td>\n",
       "    </tr>\n",
       "    <tr>\n",
       "      <th>...</th>\n",
       "      <td>...</td>\n",
       "      <td>...</td>\n",
       "      <td>...</td>\n",
       "    </tr>\n",
       "    <tr>\n",
       "      <th>1031170</th>\n",
       "      <td>276688</td>\n",
       "      <td>0517145553</td>\n",
       "      <td>0.0</td>\n",
       "    </tr>\n",
       "    <tr>\n",
       "      <th>1031171</th>\n",
       "      <td>276688</td>\n",
       "      <td>1575660792</td>\n",
       "      <td>7.0</td>\n",
       "    </tr>\n",
       "    <tr>\n",
       "      <th>1031172</th>\n",
       "      <td>276690</td>\n",
       "      <td>0590907301</td>\n",
       "      <td>0.0</td>\n",
       "    </tr>\n",
       "    <tr>\n",
       "      <th>1031173</th>\n",
       "      <td>276704</td>\n",
       "      <td>0679752714</td>\n",
       "      <td>0.0</td>\n",
       "    </tr>\n",
       "    <tr>\n",
       "      <th>1031174</th>\n",
       "      <td>276704</td>\n",
       "      <td>0806917695</td>\n",
       "      <td>5.0</td>\n",
       "    </tr>\n",
       "  </tbody>\n",
       "</table>\n",
       "<p>1031175 rows × 3 columns</p>\n",
       "</div>"
      ],
      "text/plain": [
       "         User-ID        ISBN  Book-Rating\n",
       "0         276725  034545104X          0.0\n",
       "1           2313  034545104X          5.0\n",
       "2           6543  034545104X          0.0\n",
       "3           8680  034545104X          5.0\n",
       "4          10314  034545104X          9.0\n",
       "...          ...         ...          ...\n",
       "1031170   276688  0517145553          0.0\n",
       "1031171   276688  1575660792          7.0\n",
       "1031172   276690  0590907301          0.0\n",
       "1031173   276704  0679752714          0.0\n",
       "1031174   276704  0806917695          5.0\n",
       "\n",
       "[1031175 rows x 3 columns]"
      ]
     },
     "execution_count": 239,
     "metadata": {},
     "output_type": "execute_result"
    }
   ],
   "source": [
    "# linalg.svds 연산할 때 float여야 한다고 한다.\n",
    "rating_df['Book-Rating'] = rating_df['Book-Rating'].apply(float)\n",
    "rating_df"
   ]
  },
  {
   "cell_type": "code",
   "execution_count": 290,
   "metadata": {},
   "outputs": [
    {
     "data": {
      "text/plain": [
       "array([276725,   2313,   6543, ..., 276618, 276647, 276660], dtype=int64)"
      ]
     },
     "execution_count": 290,
     "metadata": {},
     "output_type": "execute_result"
    }
   ],
   "source": [
    "rating_df['User-ID'].unique()"
   ]
  },
  {
   "cell_type": "code",
   "execution_count": 240,
   "metadata": {},
   "outputs": [
    {
     "data": {
      "text/html": [
       "<div>\n",
       "<style scoped>\n",
       "    .dataframe tbody tr th:only-of-type {\n",
       "        vertical-align: middle;\n",
       "    }\n",
       "\n",
       "    .dataframe tbody tr th {\n",
       "        vertical-align: top;\n",
       "    }\n",
       "\n",
       "    .dataframe thead th {\n",
       "        text-align: right;\n",
       "    }\n",
       "</style>\n",
       "<table border=\"1\" class=\"dataframe\">\n",
       "  <thead>\n",
       "    <tr style=\"text-align: right;\">\n",
       "      <th></th>\n",
       "      <th>User-ID</th>\n",
       "      <th>ISBN</th>\n",
       "      <th>Book-Rating</th>\n",
       "      <th>u_idx</th>\n",
       "      <th>b_idx</th>\n",
       "    </tr>\n",
       "  </thead>\n",
       "  <tbody>\n",
       "    <tr>\n",
       "      <th>0</th>\n",
       "      <td>276725</td>\n",
       "      <td>034545104X</td>\n",
       "      <td>0.0</td>\n",
       "      <td>0</td>\n",
       "      <td>0</td>\n",
       "    </tr>\n",
       "    <tr>\n",
       "      <th>1</th>\n",
       "      <td>2313</td>\n",
       "      <td>034545104X</td>\n",
       "      <td>5.0</td>\n",
       "      <td>1</td>\n",
       "      <td>0</td>\n",
       "    </tr>\n",
       "    <tr>\n",
       "      <th>2</th>\n",
       "      <td>6543</td>\n",
       "      <td>034545104X</td>\n",
       "      <td>0.0</td>\n",
       "      <td>2</td>\n",
       "      <td>0</td>\n",
       "    </tr>\n",
       "    <tr>\n",
       "      <th>3</th>\n",
       "      <td>8680</td>\n",
       "      <td>034545104X</td>\n",
       "      <td>5.0</td>\n",
       "      <td>3</td>\n",
       "      <td>0</td>\n",
       "    </tr>\n",
       "    <tr>\n",
       "      <th>4</th>\n",
       "      <td>10314</td>\n",
       "      <td>034545104X</td>\n",
       "      <td>9.0</td>\n",
       "      <td>4</td>\n",
       "      <td>0</td>\n",
       "    </tr>\n",
       "    <tr>\n",
       "      <th>...</th>\n",
       "      <td>...</td>\n",
       "      <td>...</td>\n",
       "      <td>...</td>\n",
       "      <td>...</td>\n",
       "      <td>...</td>\n",
       "    </tr>\n",
       "    <tr>\n",
       "      <th>1031170</th>\n",
       "      <td>276688</td>\n",
       "      <td>0517145553</td>\n",
       "      <td>0.0</td>\n",
       "      <td>14593</td>\n",
       "      <td>270165</td>\n",
       "    </tr>\n",
       "    <tr>\n",
       "      <th>1031171</th>\n",
       "      <td>276688</td>\n",
       "      <td>1575660792</td>\n",
       "      <td>7.0</td>\n",
       "      <td>14593</td>\n",
       "      <td>270166</td>\n",
       "    </tr>\n",
       "    <tr>\n",
       "      <th>1031172</th>\n",
       "      <td>276690</td>\n",
       "      <td>0590907301</td>\n",
       "      <td>0.0</td>\n",
       "      <td>22953</td>\n",
       "      <td>270167</td>\n",
       "    </tr>\n",
       "    <tr>\n",
       "      <th>1031173</th>\n",
       "      <td>276704</td>\n",
       "      <td>0679752714</td>\n",
       "      <td>0.0</td>\n",
       "      <td>22505</td>\n",
       "      <td>270168</td>\n",
       "    </tr>\n",
       "    <tr>\n",
       "      <th>1031174</th>\n",
       "      <td>276704</td>\n",
       "      <td>0806917695</td>\n",
       "      <td>5.0</td>\n",
       "      <td>22505</td>\n",
       "      <td>270169</td>\n",
       "    </tr>\n",
       "  </tbody>\n",
       "</table>\n",
       "<p>1031175 rows × 5 columns</p>\n",
       "</div>"
      ],
      "text/plain": [
       "         User-ID        ISBN  Book-Rating  u_idx   b_idx\n",
       "0         276725  034545104X          0.0      0       0\n",
       "1           2313  034545104X          5.0      1       0\n",
       "2           6543  034545104X          0.0      2       0\n",
       "3           8680  034545104X          5.0      3       0\n",
       "4          10314  034545104X          9.0      4       0\n",
       "...          ...         ...          ...    ...     ...\n",
       "1031170   276688  0517145553          0.0  14593  270165\n",
       "1031171   276688  1575660792          7.0  14593  270166\n",
       "1031172   276690  0590907301          0.0  22953  270167\n",
       "1031173   276704  0679752714          0.0  22505  270168\n",
       "1031174   276704  0806917695          5.0  22505  270169\n",
       "\n",
       "[1031175 rows x 5 columns]"
      ]
     },
     "execution_count": 240,
     "metadata": {},
     "output_type": "execute_result"
    }
   ],
   "source": [
    "# sparse matrix 만들때는 행, 열 id가 모두 0부터 시작하는 연속적인 숫자여야 한다.\n",
    "# 연속적인 숫자로 만들어야 하는데, 그냥 무작위로 만들어버리면 원본 데이터와 연결이 안되므로\n",
    "# mapping table을 미리 만들어 둔다.\n",
    "u_id = rating_df['User-ID'].unique()\n",
    "user2idx = {org : new for new, org in enumerate(u_id)}\n",
    "b_id = rating_df['ISBN'].unique()\n",
    "book2idx = {org : new for new, org in enumerate(b_id)}\n",
    "\n",
    "\n",
    "rating_df['u_idx'] = rating_df['User-ID'].map(user2idx) # apply는 복잡한거 할 때, map은 category 단순 매핑할때 사용\n",
    "rating_df['b_idx'] = rating_df['ISBN'].map(book2idx)\n",
    "rating_df"
   ]
  },
  {
   "cell_type": "code",
   "execution_count": 241,
   "metadata": {},
   "outputs": [],
   "source": [
    "# sparse matrix 만들 때 전체 shape이 어떻게 되는지 지정해야 한다.\n",
    "# 전체 행, 열 갯수 지정하려고 nunique 사용-\n",
    "num_user = rating_df['u_idx'].nunique()\n",
    "num_book = rating_df['b_idx'].nunique()"
   ]
  },
  {
   "cell_type": "code",
   "execution_count": 431,
   "metadata": {},
   "outputs": [],
   "source": [
    "# train, valid, test split : 8:1:1\n",
    "from sklearn.model_selection import train_test_split\n",
    "train_df, test_df = train_test_split(rating_df, test_size = 0.5, random_state = 1004)"
   ]
  },
  {
   "cell_type": "code",
   "execution_count": 432,
   "metadata": {},
   "outputs": [],
   "source": [
    "# sparse matrix 만들기, csr\n",
    "from scipy.sparse import csr_matrix\n",
    "sparse_df = coo_matrix((train_df['Book-Rating'], (train_df['u_idx'], train_df['b_idx'])), \n",
    "                shape = (num_user, num_book))"
   ]
  },
  {
   "cell_type": "code",
   "execution_count": 429,
   "metadata": {},
   "outputs": [],
   "source": [
    "# 행렬 분해, U, S, V는 ndarray\n",
    "from scipy.sparse import linalg\n",
    "U, S, V = linalg.svds(sparse_df, k = 30)"
   ]
  },
  {
   "cell_type": "code",
   "execution_count": 411,
   "metadata": {},
   "outputs": [
    {
     "ename": "SyntaxError",
     "evalue": "invalid syntax (4095044066.py, line 7)",
     "output_type": "error",
     "traceback": [
      "\u001b[1;36m  Cell \u001b[1;32mIn[411], line 7\u001b[1;36m\u001b[0m\n\u001b[1;33m    U, S, V = linalg.svds(sparse_df, k = kkrandom_state = 100)\u001b[0m\n\u001b[1;37m                                                        ^\u001b[0m\n\u001b[1;31mSyntaxError\u001b[0m\u001b[1;31m:\u001b[0m invalid syntax\n"
     ]
    }
   ],
   "source": [
    "# target 유저의 영화 선호도 예측 정보 가져온다.\n",
    "import warnings\n",
    "warnings.filterwarnings(\"ignore\")\n",
    "# 11676\n",
    "target_user_idx = 20\n",
    "for kk in range(50, 101, 10):\n",
    "    U, S, V = linalg.svds(sparse_df, k = kk, random_state = 100)\n",
    "    \n",
    "    err = []\n",
    "    for i in range(0, num_user, 1000):\n",
    "        pred = U[i] @ np.diag(S) @ V\n",
    "\n",
    "        # target_df 만들기\n",
    "        target_rated_df = train_df[train_df['u_idx'] == i]\n",
    "        target_rated_df['pred'] = pred[target_rated_df['b_idx'].to_list()]*10**17\n",
    "\n",
    "        err.append(target_rated_df[['Book-Rating']].corrwith(target_rated_df['pred']).values[0])\n",
    "    print(np.mean(err))"
   ]
  },
  {
   "cell_type": "code",
   "execution_count": 438,
   "metadata": {},
   "outputs": [
    {
     "name": "stdout",
     "output_type": "stream",
     "text": [
      "1 0.03818652540539244\n",
      "2 0.051218755366853067\n",
      "3 0.04898137655095752\n",
      "4 0.0962256487663229\n",
      "5 0.17706888594914597\n",
      "6 -0.08450337868296381\n",
      "7 0.1312856193382535\n",
      "8 0.054072249572955276\n"
     ]
    }
   ],
   "source": [
    "for i in range(1, 9):\n",
    "    U, S, V = linalg.svds(sparse_df, k = i, random_state = 100)\n",
    "\n",
    "    err = []\n",
    "    pred = U[i] @ np.diag(S) @ V\n",
    "\n",
    "    # target_df 만들기\n",
    "    target_rated_df = train_df[train_df['u_idx'] == user2idx[264321]]\n",
    "    target_rated_df['pred'] = pred[target_rated_df['b_idx'].to_list()]\n",
    "\n",
    "    target_rated_df['Book-Rating'] = target_rated_df[['Book-Rating']]\n",
    "    print(i, target_rated_df[['Book-Rating']].corrwith(target_rated_df['pred']).values[0])"
   ]
  },
  {
   "cell_type": "code",
   "execution_count": 439,
   "metadata": {},
   "outputs": [
    {
     "ename": "KeyboardInterrupt",
     "evalue": "",
     "output_type": "error",
     "traceback": [
      "\u001b[1;31m---------------------------------------------------------------------------\u001b[0m",
      "\u001b[1;31mKeyboardInterrupt\u001b[0m                         Traceback (most recent call last)",
      "Cell \u001b[1;32mIn[439], line 1\u001b[0m\n\u001b[1;32m----> 1\u001b[0m U, S, V \u001b[39m=\u001b[39m linalg\u001b[39m.\u001b[39;49msvds(sparse_df, k \u001b[39m=\u001b[39;49m \u001b[39m2000\u001b[39;49m, random_state \u001b[39m=\u001b[39;49m \u001b[39m100\u001b[39;49m)\n\u001b[0;32m      3\u001b[0m err \u001b[39m=\u001b[39m []\n\u001b[0;32m      4\u001b[0m pred \u001b[39m=\u001b[39m U[i] \u001b[39m@\u001b[39m np\u001b[39m.\u001b[39mdiag(S) \u001b[39m@\u001b[39m V\n",
      "File \u001b[1;32mc:\\Users\\User\\anaconda3\\envs\\my_python_env2\\lib\\site-packages\\scipy\\sparse\\linalg\\_eigen\\_svds.py:532\u001b[0m, in \u001b[0;36msvds\u001b[1;34m(A, k, ncv, tol, which, v0, maxiter, return_singular_vectors, solver, random_state, options)\u001b[0m\n\u001b[0;32m    530\u001b[0m \u001b[39mif\u001b[39;00m v0 \u001b[39mis\u001b[39;00m \u001b[39mNone\u001b[39;00m:\n\u001b[0;32m    531\u001b[0m     v0 \u001b[39m=\u001b[39m random_state\u001b[39m.\u001b[39mstandard_normal(size\u001b[39m=\u001b[39m(\u001b[39mmin\u001b[39m(A\u001b[39m.\u001b[39mshape),))\n\u001b[1;32m--> 532\u001b[0m _, eigvec \u001b[39m=\u001b[39m eigsh(XH_X, k\u001b[39m=\u001b[39;49mk, tol\u001b[39m=\u001b[39;49mtol \u001b[39m*\u001b[39;49m\u001b[39m*\u001b[39;49m \u001b[39m2\u001b[39;49m, maxiter\u001b[39m=\u001b[39;49mmaxiter,\n\u001b[0;32m    533\u001b[0m                   ncv\u001b[39m=\u001b[39;49mncv, which\u001b[39m=\u001b[39;49mwhich, v0\u001b[39m=\u001b[39;49mv0)\n\u001b[0;32m    534\u001b[0m \u001b[39m# arpack do not guarantee exactly orthonormal eigenvectors\u001b[39;00m\n\u001b[0;32m    535\u001b[0m \u001b[39m# for clustered eigenvalues, especially in complex arithmetic\u001b[39;00m\n\u001b[0;32m    536\u001b[0m eigvec, _ \u001b[39m=\u001b[39m np\u001b[39m.\u001b[39mlinalg\u001b[39m.\u001b[39mqr(eigvec)\n",
      "File \u001b[1;32mc:\\Users\\User\\anaconda3\\envs\\my_python_env2\\lib\\site-packages\\scipy\\sparse\\linalg\\_eigen\\arpack\\arpack.py:1699\u001b[0m, in \u001b[0;36meigsh\u001b[1;34m(A, k, M, sigma, which, v0, ncv, maxiter, tol, return_eigenvectors, Minv, OPinv, mode)\u001b[0m\n\u001b[0;32m   1696\u001b[0m \u001b[39mwhile\u001b[39;00m \u001b[39mnot\u001b[39;00m params\u001b[39m.\u001b[39mconverged:\n\u001b[0;32m   1697\u001b[0m     params\u001b[39m.\u001b[39miterate()\n\u001b[1;32m-> 1699\u001b[0m \u001b[39mreturn\u001b[39;00m params\u001b[39m.\u001b[39;49mextract(return_eigenvectors)\n",
      "File \u001b[1;32mc:\\Users\\User\\anaconda3\\envs\\my_python_env2\\lib\\site-packages\\scipy\\sparse\\linalg\\_eigen\\arpack\\arpack.py:580\u001b[0m, in \u001b[0;36m_SymmetricArpackParams.extract\u001b[1;34m(self, return_eigenvectors)\u001b[0m\n\u001b[0;32m    578\u001b[0m howmny \u001b[39m=\u001b[39m \u001b[39m'\u001b[39m\u001b[39mA\u001b[39m\u001b[39m'\u001b[39m  \u001b[39m# return all eigenvectors\u001b[39;00m\n\u001b[0;32m    579\u001b[0m sselect \u001b[39m=\u001b[39m np\u001b[39m.\u001b[39mzeros(\u001b[39mself\u001b[39m\u001b[39m.\u001b[39mncv, \u001b[39m'\u001b[39m\u001b[39mint\u001b[39m\u001b[39m'\u001b[39m)  \u001b[39m# unused\u001b[39;00m\n\u001b[1;32m--> 580\u001b[0m d, z, ierr \u001b[39m=\u001b[39m \u001b[39mself\u001b[39;49m\u001b[39m.\u001b[39;49m_arpack_extract(rvec, howmny, sselect, \u001b[39mself\u001b[39;49m\u001b[39m.\u001b[39;49msigma,\n\u001b[0;32m    581\u001b[0m                                   \u001b[39mself\u001b[39;49m\u001b[39m.\u001b[39;49mbmat, \u001b[39mself\u001b[39;49m\u001b[39m.\u001b[39;49mwhich, \u001b[39mself\u001b[39;49m\u001b[39m.\u001b[39;49mk,\n\u001b[0;32m    582\u001b[0m                                   \u001b[39mself\u001b[39;49m\u001b[39m.\u001b[39;49mtol, \u001b[39mself\u001b[39;49m\u001b[39m.\u001b[39;49mresid, \u001b[39mself\u001b[39;49m\u001b[39m.\u001b[39;49mv,\n\u001b[0;32m    583\u001b[0m                                   \u001b[39mself\u001b[39;49m\u001b[39m.\u001b[39;49miparam[\u001b[39m0\u001b[39;49m:\u001b[39m7\u001b[39;49m], \u001b[39mself\u001b[39;49m\u001b[39m.\u001b[39;49mipntr,\n\u001b[0;32m    584\u001b[0m                                   \u001b[39mself\u001b[39;49m\u001b[39m.\u001b[39;49mworkd[\u001b[39m0\u001b[39;49m:\u001b[39m2\u001b[39;49m \u001b[39m*\u001b[39;49m \u001b[39mself\u001b[39;49m\u001b[39m.\u001b[39;49mn],\n\u001b[0;32m    585\u001b[0m                                   \u001b[39mself\u001b[39;49m\u001b[39m.\u001b[39;49mworkl, ierr)\n\u001b[0;32m    586\u001b[0m \u001b[39mif\u001b[39;00m ierr \u001b[39m!=\u001b[39m \u001b[39m0\u001b[39m:\n\u001b[0;32m    587\u001b[0m     \u001b[39mraise\u001b[39;00m ArpackError(ierr, infodict\u001b[39m=\u001b[39m\u001b[39mself\u001b[39m\u001b[39m.\u001b[39mextract_infodict)\n",
      "\u001b[1;31mKeyboardInterrupt\u001b[0m: "
     ]
    }
   ],
   "source": [
    "U, S, V = linalg.svds(sparse_df, k = 2000, random_state = 100)\n",
    "\n",
    "err = []\n",
    "pred = U[i] @ np.diag(S) @ V +\n",
    "\n",
    "# target_df 만들기\n",
    "target_rated_df = train_df[train_df['u_idx'] == user2idx[264321]]\n",
    "target_rated_df['pred'] = pred[target_rated_df['b_idx'].to_list()]\n",
    "\n",
    "target_rated_df['Book-Rating'] = target_rated_df[['Book-Rating']]\n",
    "print(i, target_rated_df[['Book-Rating']].corrwith(target_rated_df['pred']).values[0])"
   ]
  },
  {
   "cell_type": "code",
   "execution_count": null,
   "metadata": {},
   "outputs": [],
   "source": [
    "# rating 평균 상위 top5\n",
    "nonzero_rating = rating_df[rating_df['Book-Rating'] >= 1] #평점 1점 이상인 데이터들만 저장\n",
    "nonzero_sort = nonzero_rating.groupby('ISBN').count().sort_values('Book-Rating', ascending = False)\n",
    "review_over10 = nonzero_sort[nonzero_sort['User-ID'] >= 10].reset_index() #평점 1이상이면서, 리뷰 10개 이상인 책\n",
    "review_over10 = review_over10.drop('User-ID', axis = 1) #유저아이디 제거\n",
    "review_over10.rename(columns = {'Book-Rating' : 'Rating-Count'}, inplace = True) #column명 변경\n",
    "#평점 1이상이면서, 리뷰 10개 이상인 책들의 평균평점 구하기\n",
    "total_rating = pd.merge(nonzero_rating, review_over10, on = 'ISBN', how = 'inner')\n",
    "total_recom = total_rating.groupby('ISBN').mean().sort_values('Book-Rating', ascending = False).reset_index()\n",
    "print('평균 평점이 가장 높은 Top 5')\n",
    "for i in range(5): #상위 5개 추출\n",
    "    print(f'{i+1}번째 추천', total_recom.iloc[i]['ISBN'])"
   ]
  },
  {
   "cell_type": "code",
   "execution_count": null,
   "metadata": {},
   "outputs": [],
   "source": [
    "# 베스트셀러\n",
    "for target_user_idx in [88705, 264321, 182459, 161936, 226482, 11676, 198711]:\n",
    "    # best seller rating 0 포함\n",
    "    book_sold = rating_df.groupby('ISBN').count().sort_values('Book-Rating', ascending = False)[['Book-Rating']]\n",
    "    book_sold\n",
    "    # 유저가 읽은 책을 추천 책에서 빼야 한다.\n",
    "    # target_user_idx = 264321\n",
    "    target_user_read_df = rating_df[rating_df['User-ID'] == target_user_idx]\n",
    "    target_user_read_df\n",
    "    # 책 best seller rating 0 포함 - 읽었던 책은 뺌\n",
    "    book_sold.reset_index(inplace = True)\n",
    "    target_notread_best_seller_df = book_sold[~book_sold['ISBN'].isin(target_user_read_df['ISBN'])] # best seller 중 target 유저가 안 읽은 책들\n",
    "    top3_target_notread_best_seller_df = target_notread_best_seller_df[:5]\n",
    "    print(f'{target_user_idx}님의 책 추천 top3 =')\n",
    "    print(top3_target_notread_best_seller_df, end ='\\n'*2)"
   ]
  },
  {
   "cell_type": "code",
   "execution_count": null,
   "metadata": {},
   "outputs": [],
   "source": []
  }
 ],
 "metadata": {
  "kernelspec": {
   "display_name": "selenium",
   "language": "python",
   "name": "my_python_env2"
  },
  "language_info": {
   "codemirror_mode": {
    "name": "ipython",
    "version": 3
   },
   "file_extension": ".py",
   "mimetype": "text/x-python",
   "name": "python",
   "nbconvert_exporter": "python",
   "pygments_lexer": "ipython3",
   "version": "3.10.12"
  },
  "orig_nbformat": 4
 },
 "nbformat": 4,
 "nbformat_minor": 2
}
