{
 "cells": [
  {
   "cell_type": "code",
   "execution_count": 111,
   "metadata": {},
   "outputs": [],
   "source": [
    "import pandas as pd\n",
    "from scipy.sparse import coo_matrix\n",
    "from sklearn.neighbors import NearestNeighbors\n",
    "\n",
    "import warnings\n",
    "warnings.filterwarnings(\"ignore\")"
   ]
  },
  {
   "cell_type": "code",
   "execution_count": 276,
   "metadata": {},
   "outputs": [],
   "source": [
    "# 데이터 read\n",
    "columns = [\"ISBN\"]\n",
    "df = pd.read_csv('BX-Books.csv', sep = \";\", encoding = 'latin', usecols = columns)\n",
    "columns_to_keep = [\"Book-Title\", \"Book-Author\", \"Year-Of-Publication\", \"Publisher\"]\n",
    "book_df = pd.read_csv('BX-Books.csv', sep='\";\"', encoding = 'latin', usecols = columns_to_keep)\n",
    "book_df = pd.concat([df, book_df], axis = 1)\n",
    "\n",
    "user_df = pd.read_csv('BX-Users.csv', sep=';', encoding = 'latin')\n",
    "rating_df = pd.read_csv('BX-Book-Ratings.csv', sep=';', encoding = 'latin')\n",
    "user = [88705, 264321, 182459, 161936, 226482, 11676, 198711]\n"
   ]
  },
  {
   "cell_type": "code",
   "execution_count": 280,
   "metadata": {},
   "outputs": [
    {
     "data": {
      "text/plain": [
       "User-ID                       11942\n",
       "Location    ripollet, españa, spain\n",
       "Age                            33.0\n",
       "Name: 11941, dtype: object"
      ]
     },
     "execution_count": 280,
     "metadata": {},
     "output_type": "execute_result"
    }
   ],
   "source": [
    "user_df.iloc[11941]"
   ]
  },
  {
   "cell_type": "code",
   "execution_count": 264,
   "metadata": {},
   "outputs": [
    {
     "name": "stdout",
     "output_type": "stream",
     "text": [
      "[[88705 'put-in-bay, ohio, usa' nan]]\n",
      "[[264321 'toronto, ontario, canada' 33.0]]\n",
      "[[182459 'fort wayne, indiana, usa' 28.0]]\n",
      "[[161936 'gisborne, victoria, australia' 53.0]]\n",
      "[[226482 'singapore, n/a,' 21.0]]\n",
      "[[11676 'n/a, n/a, n/a' nan]]\n",
      "[[198711 'little canada, minnesota, usa' 62.0]]\n"
     ]
    }
   ],
   "source": [
    "li = [88705,264321,182459,161936,226482, 11676, 198711]\n",
    "for i in li:\n",
    "    print(user_df[user_df['User-ID'] == i].values)"
   ]
  },
  {
   "cell_type": "markdown",
   "metadata": {},
   "source": [
    " ## 현준님"
   ]
  },
  {
   "cell_type": "code",
   "execution_count": 114,
   "metadata": {},
   "outputs": [],
   "source": [
    "#############################################데이터 전처리 과정#######################################################\n",
    "# ISBN 결측치 삭제\n",
    "rating_df = rating_df[rating_df['ISBN'].isin(book_df['ISBN'])]\n",
    "# User df 에서 나라 정보 분리\n",
    "Location_country = []\n",
    "for country in user_df['Location']:\n",
    "    for i in range(len(country)):\n",
    "        if country[:: - 1][i] == ',':\n",
    "            Location_country.append(country[:: - 1][0:i][::-1])\n",
    "            ### split(',')[-1]\n",
    "            break\n",
    "\n",
    "# 공백 제거\n",
    "real_Location_country = []\n",
    "for i in Location_country:\n",
    "    real_Location_country.append(i.strip()) ### replace(' ', '')\n",
    "\n",
    "# 200번에 'united kingdom' 빠져있음 ㅡㅡ 추가\n",
    "real_Location_country.insert(200, 'united kingdom')\n",
    "\n",
    "# user_df의 2번째 열에 country 추가 및 Location 열 제거 \n",
    "user_df.insert(1, 'Country', real_Location_country)\n",
    "user_df.drop('Location', axis = 1, inplace = True)\n",
    "\n",
    "# User별 거주국가 카운팅\n",
    "Users_by_Contry = pd.DataFrame(data = user_df['Country'].value_counts(), index = user_df['Country'].unique())\n",
    "Users_by_Contry = Users_by_Contry.sort_values('Country', ascending = False)\n",
    "\n",
    "# user가 가장 많이 거주하는 나라 top_8과 그 외 나라에서 거주하는 user\n",
    "Users_by_Contry_Top_8 = Users_by_Contry.head(8)\n",
    "Users_by_Contry_Top_8.rename(index = {\"\" : 'other'}, inplace = True)\n",
    "\n",
    "# 나라 이름 첫 글자 대문자 변경, Usa 전부 대문자 변경\n",
    "top_7 =  ['usa', 'canada', 'united kingdom', 'germany', 'spain', 'australia', 'italy']\n",
    "contry_name = []\n",
    "for i in user_df['Country']:\n",
    "    if i in top_7:\n",
    "        contry_name.append(i.title())\n",
    "    else:\n",
    "        contry_name.append('Other')\n",
    "\n",
    "def ch_str(x):\n",
    "    if x == 'Usa':\n",
    "        x = \"USA\"\n",
    "    return x\n",
    "user_df['Country'] = user_df['Country'].apply(ch_str) ### string.upper()\n",
    "\n",
    "# user_df data에 user별 거주 지역 data 병합\n",
    "user_df.insert(1, 'User_Contry', contry_name)\n",
    "user_df.drop('Country', axis = 1, inplace = True)\n",
    "\n"
   ]
  },
  {
   "cell_type": "code",
   "execution_count": 124,
   "metadata": {},
   "outputs": [],
   "source": [
    "# 외부에서 user 추천\n",
    "# 해당유저가 읽은 책 제외\n",
    "# new_df에서 아래 대로 진행하고 user의 거주지역에서 bestseller n권\n",
    "\n",
    "def best_seller_recommand_country(b_df, target_user_idx, recommand_num):\n",
    "    retBooks = []\n",
    "    recommand_df = pd.merge(b_df, user_df)\n",
    "    user_country = user_df[user_df['User-ID'] == target_user_idx]['User_Contry'].values[0] # 해당 유저의 거주국가 \n",
    "    # 해당 유저의 국가의 best n 추천\n",
    "    User_Country_Best_Seller = recommand_df[recommand_df['User_Contry'] == user_country]['ISBN'].value_counts()[:recommand_num].index\n",
    "    retBooks.extend(book_df[book_df['ISBN'].isin(User_Country_Best_Seller)]['ISBN'].tolist())\n",
    "    \n",
    "    return retBooks\n"
   ]
  },
  {
   "cell_type": "markdown",
   "metadata": {},
   "source": [
    " ## 윤지님"
   ]
  },
  {
   "cell_type": "code",
   "execution_count": 116,
   "metadata": {},
   "outputs": [],
   "source": [
    "# 평점 1이상이면서, 리뷰 10개 이상인 책들의 평균평점이 가장 높은 책 추천\n",
    "def best_seller_recommand_rating(b_df, recommand_num):\n",
    "    nonzero_rating = b_df[b_df['Book-Rating'] >= 1] #평점 1점 이상인 데이터들만 저장\n",
    "    nonzero_sort = nonzero_rating.groupby('ISBN').count().sort_values('Book-Rating', ascending = False)\n",
    "    review_over10 = nonzero_sort[nonzero_sort['User-ID'] >= 10].reset_index() #평점 1이상이면서, 리뷰 10개 이상인 책\n",
    "    review_over10 = review_over10.drop('User-ID', axis = 1) #유저아이디 제거\n",
    "    review_over10.rename(columns = {'Book-Rating' : 'Rating-Count'}, inplace = True) #column명 변경\n",
    "    #평점 1이상이면서, 리뷰 10개 이상인 책들의 평균평점 구하기\n",
    "    total_rating = pd.merge(nonzero_rating, review_over10, on = 'ISBN', how = 'inner')\n",
    "    total_recom = total_rating.groupby('ISBN').mean().sort_values('Book-Rating', ascending = False).reset_index()\n",
    "    return total_recom.iloc[:recommand_num]['ISBN'].tolist()\n",
    "\n"
   ]
  },
  {
   "cell_type": "markdown",
   "metadata": {},
   "source": [
    " ## 상혁님"
   ]
  },
  {
   "cell_type": "code",
   "execution_count": 117,
   "metadata": {},
   "outputs": [],
   "source": [
    "# 가장 많이 팔린 책 추천\n",
    "# best seller rating 0 포함\n",
    "def best_seller_recommand_selling(b_df, recommand_num):\n",
    "    book_sold = b_df.groupby('ISBN').count().sort_values('Book-Rating', ascending = False)[['Book-Rating']]\n",
    "    # 책 best seller rating 0 포함 - 읽었던 책은 뺌\n",
    "    book_sold.reset_index(inplace = True)\n",
    "    return book_sold[:recommand_num]['ISBN'].tolist()\n",
    "    \n"
   ]
  },
  {
   "cell_type": "code",
   "execution_count": 255,
   "metadata": {},
   "outputs": [],
   "source": [
    "# KNN 대규모 추천\n",
    "def fitKnn():\n",
    "    user_ids = rating_df['User-ID'].unique()\n",
    "    user2idx_dict = {x:i for i, x in enumerate(user_ids)}\n",
    "\n",
    "    book_ids = rating_df['ISBN'].unique()\n",
    "    book2idx_dict = {x:i for i, x in enumerate(book_ids)}\n",
    "\n",
    "    rating_df['u_idx'] = rating_df['User-ID'].map(user2idx_dict)\n",
    "    rating_df['b_idx'] = rating_df['ISBN'].map(book2idx_dict)\n",
    "\n",
    "    num_users = rating_df['u_idx'].nunique()\n",
    "    num_books = rating_df['b_idx'].nunique()\n",
    "\n",
    "    sparse_arr = coo_matrix((rating_df['Book-Rating'], (rating_df['u_idx'], rating_df['b_idx'])), shape = (num_users, num_books))\n",
    "    # 끝\n",
    "\n",
    "    # k가 850일 때 최적\n",
    "    knn = NearestNeighbors(n_neighbors = 850, metric = 'cosine')\n",
    "    knn.fit(sparse_arr)\n",
    "    return knn\n",
    "\n",
    "def best_seller_recommand_knn(curknn, target_user_idx):\n",
    "    target_rating_df = rating_df[rating_df['User-ID'] == target_user_idx]\n",
    "\n",
    "    num_books = rating_df['b_idx'].nunique()\n",
    "    target_sparse_arr = coo_matrix((target_rating_df['Book-Rating'], ([0]*len(target_rating_df['u_idx']), target_rating_df['b_idx'])), shape = (1, num_books))\n",
    "\n",
    "    dist, idx = curknn.kneighbors(target_sparse_arr, n_neighbors = 850)\n",
    "    neighbors_df = rating_df[rating_df['u_idx'].isin(idx[0][1:])]\n",
    "\n",
    "    pred_df = neighbors_df.groupby('ISBN').mean()['Book-Rating'].sort_values(ascending = False)\n",
    "    pred_df = pred_df.reset_index()\n",
    "    pred_df.columns = ['ISBN', 'pred']\n",
    "\n",
    "    result_df = pd.merge(target_rating_df, pred_df, on = 'ISBN')[['ISBN', 'Book-Rating', 'pred', 'u_idx']]\n",
    "\n",
    "    return result_df.groupby('ISBN').mean().sort_values('pred', ascending= False).reset_index()['ISBN'][:3].values.tolist()\n",
    "        \n"
   ]
  },
  {
   "cell_type": "markdown",
   "metadata": {},
   "source": [
    " ## 석호님\n",
    "- 유저가 가장 좋아하는 작가의 책 추천\n",
    "- 가장 평점이 좋은 책, 가장 많이 팔린 책, 가장 많이 팔렸으면서 평점이 좋은 책\n",
    "- 평점을 남긴 책이 10권 이상인 유저만 작가 베이스 추천   \n",
    "---\n",
    "- 264321 best author : Joe Haldeman\n",
    "- 182459 best author : J. K. Rowling\n",
    "- 161936 best author : Dave Pelzer\n",
    "- 226482 best author : Jane Green\n",
    "- 11676 best author : Alice Sebold\n",
    "- 198711 best author : Marguerite S. Herman"
   ]
  },
  {
   "cell_type": "code",
   "execution_count": 142,
   "metadata": {},
   "outputs": [],
   "source": [
    "# 유저가 가장 좋아하는 작가의 책 추천\n",
    "# 가장 좋아하는 작가 : 평점*리뷰수\n",
    "# 가장 평점이 좋은 책, 가장 많이 팔린 책, 가장 많이 팔렸으면서 평점이 좋은 책\n",
    "def best_seller_recommand_author(b_df, target_user_idx, recommand_num):\n",
    "    # author_merged_df\n",
    "    author_rating_df = b_df.merge(book_df[['ISBN','Book-Author']], on='ISBN')\n",
    "    author_rating_df.head()\n",
    "    # 평점 col 생성\n",
    "    book_mean_df = book_df.merge(b_df[['ISBN','Book-Rating']].groupby('ISBN').mean(),on='ISBN')\n",
    "    book_mean_df=book_mean_df.rename(columns = {'Book-Rating':'mean_rating'})\n",
    "    # 리뷰수 col 생성\n",
    "    book_mean_df = book_mean_df.merge(b_df[['ISBN','Book-Rating']].groupby('ISBN').count(),on='ISBN')\n",
    "    book_mean_df=book_mean_df.rename(columns = {'Book-Rating':'count_rating'})\n",
    "    # 평점*리뷰수 col 생성\n",
    "    book_mean_df['mean_count'] = book_mean_df.mean_rating * book_mean_df.count_rating\n",
    "\n",
    "    #ISBN, max-score\n",
    "    isbn_target = b_df[b_df['User-ID'] == target_user_idx]['ISBN']\n",
    "    max_score = b_df[b_df['User-ID'] == target_user_idx]['Book-Rating'].max()\n",
    "    # best author\n",
    "    best_author_list = author_rating_df[(author_rating_df['User-ID'] == target_user_idx) & (author_rating_df['Book-Rating'] == max_score)].groupby('Book-Author').count().sort_values('User-ID',ascending=False).index\n",
    "    li = []\n",
    "    if len(best_author_list) > 0:\n",
    "        best_author = book_mean_df[book_mean_df['Book-Author'].isin(best_author_list)].sort_values('mean_count',ascending=False).iloc[0]['Book-Author']\n",
    "        # by mean\n",
    "        target_books = book_mean_df[(book_mean_df['Book-Author'] == best_author)& ~(book_mean_df.ISBN.isin(isbn_target))]\n",
    "        li.extend(target_books.sort_values(by=['mean_count','mean_rating'],ascending=False)['ISBN'][:recommand_num].tolist())\n",
    "    return li\n"
   ]
  },
  {
   "cell_type": "code",
   "execution_count": 259,
   "metadata": {},
   "outputs": [
    {
     "name": "stdout",
     "output_type": "stream",
     "text": [
      "user : 88705\n",
      "Divine Secrets of the Ya-Ya Sisterhood: A Novel\n",
      "The Red Tent (Bestselling Backlist)\n",
      "The Lovely Bones: A Novel\n",
      "The Da Vinci Code\n",
      "Wild Animus\n",
      "Kiss of the Night (A Dark-Hunter Novel)\n",
      "The Lorax\n",
      "Harry Potter and the Chamber of Secrets Postcard Book\n",
      "Dilbert: A Book of Postcards\n",
      "Postmarked Yesteryear: 30 Rare Holiday Postcards\n",
      "===============\n",
      "user : 264321\n",
      "The Forever War\n",
      "Forever Free\n",
      "Planet of Judgment\n",
      "The Lovely Bones: A Novel\n",
      "Rainbow Abyss (Sun-Cross, Book 1)\n",
      "The Far Side Observer\n",
      "Return to Avalon: A Celebration of Marion Zimmer Bradley (Daw Book Collectors)\n",
      "Wild Animus\n",
      "Where the Heart Is (Oprah's Book Club (Paperback))\n",
      "The Joy Luck Club\n",
      "===============\n",
      "user : 182459\n",
      "Harry Potter and the Chamber of Secrets (Book 2)\n",
      "Harry Potter and the Prisoner of Azkaban (Book 3)\n",
      "Harry Potter and the Order of the Phoenix (Book 5)\n",
      "Divine Secrets of the Ya-Ya Sisterhood: A Novel\n",
      "The Great and Secret Show\n",
      "The Lovely Bones: A Novel\n",
      "The Da Vinci Code\n",
      "Kaffir Boy: The True Story of a Black Youth's Coming of Age in Apartheid South Africa\n",
      "Harry Potter and the Sorcerer's Stone (Harry Potter (Paperback))\n",
      "Wild Animus\n",
      "===============\n",
      "user : 161936\n",
      "The Privilege of Youth: A Teenager's Story of Longing for Acceptance and Friendship\n",
      "The Lost Boy\n",
      "The Lost Boy: A Foster Child's Search for the Love of a Family\n",
      "The Fixer (Penguin Twentieth-Century Classics)\n",
      "The Lovely Bones: A Novel\n",
      "The Da Vinci Code\n",
      "Fly Away Peter\n",
      "Wild Animus\n",
      "Washington Square (Classics Library (NTC))\n",
      "Girl with a Pearl Earring\n",
      "===============\n",
      "user : 226482\n",
      "Jemima J: A Novel About Ugly Ducklings and Swans\n",
      "Mr. Maybe\n",
      "Bookends : A Novel\n",
      "The Lovely Bones: A Novel\n",
      "Singer from the Sea\n",
      "The Da Vinci Code\n",
      "The CHASE (FORBIDDEN GAME 2): THE CHASE\n",
      "The KILL (FORBIDDEN GAME 3): THE KILL\n",
      "Wild Animus\n",
      "The Red Tent (Bestselling Backlist)\n",
      "===============\n",
      "user : 11676\n",
      "Lucky\n",
      "The Lovely Bones\n",
      "In meinem Himmel.\n",
      "Sandstorm\n",
      "The Lovely Bones: A Novel\n",
      "High Exposure: An Enduring Passion for Everest and Unforgiving Places\n",
      "Cloudy Jewel (Grace Livingston Hill #84)\n",
      "Wild Animus\n",
      "Memoirs of a Geisha Uk\n",
      "Dead Famous\n",
      "===============\n",
      "user : 198711\n",
      "Divine Secrets of the Ya-Ya Sisterhood: A Novel\n",
      "Madeline: Story  Pictures (Picture Puffin)\n",
      "The Lovely Bones: A Novel\n",
      "The Da Vinci Code\n",
      "The RAGMAN'S SON\n",
      "Chicka Chicka ABC\n",
      "Wild Animus\n",
      "The Lorax\n",
      "Harry Potter and the Chamber of Secrets Postcard Book\n",
      "Dilbert: A Book of Postcards\n",
      "===============\n"
     ]
    }
   ],
   "source": [
    "fittedKnn = fitKnn()\n",
    "users = [88705, 264321, 182459, 161936, 226482, 11676, 198711]\n",
    "for cur_user in users:\n",
    "    li, author, knn = [], [], []\n",
    "    readBooks = rating_df[(rating_df['User-ID'] == cur_user) & (rating_df['Book-Rating'] > 0)].count()['User-ID']\n",
    "    # 유저가 읽은 책 제외한 dataframe\n",
    "    user_book_df = rating_df[rating_df['User-ID'] != cur_user]\n",
    "    if readBooks >= 10:\n",
    "        author = best_seller_recommand_author(rating_df, cur_user, 3) # 읽었던 책이 필요해서 rating_df\n",
    "        knn = best_seller_recommand_knn(fittedKnn, cur_user) # 3권\n",
    "        country = best_seller_recommand_country(user_book_df, cur_user, 4)\n",
    "        rating = best_seller_recommand_rating(user_book_df, 4)\n",
    "        selling = best_seller_recommand_selling(user_book_df, 4)\n",
    "    else:\n",
    "        country = best_seller_recommand_country(user_book_df, cur_user, 5)\n",
    "        rating = best_seller_recommand_rating(user_book_df, 5)\n",
    "        selling = best_seller_recommand_selling(user_book_df, 5)\n",
    "        \n",
    "    # 우선이 되는 지표에 가중치 부여\n",
    "    li = author*5 + knn*3 + country*2 + rating + selling\n",
    "    rcmdbook = pd.DataFrame(li, columns = ['ISBN'])\n",
    "    rcmdbook['count'] = 0\n",
    "    rcmdbook = rcmdbook.groupby('ISBN').count().reset_index().sort_values('count', ascending = False)\n",
    "    rcmdbook = pd.merge(rcmdbook, book_df[['ISBN', 'Book-Title']], on = 'ISBN', how = 'left')\n",
    "    print(f'user : {cur_user}')\n",
    "    for title in rcmdbook['Book-Title'][:10]:\n",
    "        print(title)\n",
    "    print('='*15)\n"
   ]
  },
  {
   "cell_type": "code",
   "execution_count": null,
   "metadata": {},
   "outputs": [],
   "source": []
  }
 ],
 "metadata": {
  "kernelspec": {
   "display_name": "selenium",
   "language": "python",
   "name": "my_python_env2"
  },
  "language_info": {
   "codemirror_mode": {
    "name": "ipython",
    "version": 3
   },
   "file_extension": ".py",
   "mimetype": "text/x-python",
   "name": "python",
   "nbconvert_exporter": "python",
   "pygments_lexer": "ipython3",
   "version": "3.10.12"
  },
  "orig_nbformat": 4
 },
 "nbformat": 4,
 "nbformat_minor": 2
}
